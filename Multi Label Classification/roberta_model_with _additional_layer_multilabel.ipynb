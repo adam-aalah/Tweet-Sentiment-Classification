{
  "cells": [
    {
      "cell_type": "code",
      "source": [
        "!pip install transformers pyreadstat"
      ],
      "metadata": {
        "id": "RSQz9_TvcVQF"
      },
      "id": "RSQz9_TvcVQF",
      "execution_count": null,
      "outputs": []
    },
    {
      "cell_type": "markdown",
      "id": "98e9d22d",
      "metadata": {
        "id": "98e9d22d"
      },
      "source": [
        "# Neural Network V3.0 Roberta-latest with Label"
      ]
    },
    {
      "cell_type": "markdown",
      "id": "7e309543",
      "metadata": {
        "id": "7e309543"
      },
      "source": [
        "This notebook implements a neural network to predict the labels of a tweet (positive, negative ou neutral)."
      ]
    },
    {
      "cell_type": "markdown",
      "id": "8be0db6a",
      "metadata": {
        "id": "8be0db6a"
      },
      "source": [
        "<b>Problem type</b> : <u>multi-label</u>\n",
        "\n",
        "<b>Neural network used</b> : Transformer with Roberta-tweet-latest for sentiment analysis\n",
        "\n",
        "<b>Training method</b> : K-fold validation"
      ]
    },
    {
      "cell_type": "code",
      "execution_count": null,
      "id": "fbd1741b",
      "metadata": {
        "id": "fbd1741b"
      },
      "outputs": [],
      "source": [
        "%reset -f"
      ]
    },
    {
      "cell_type": "markdown",
      "id": "ad98e177",
      "metadata": {
        "id": "ad98e177"
      },
      "source": [
        "## 1. Modules and data imports"
      ]
    },
    {
      "cell_type": "code",
      "execution_count": null,
      "id": "3b3cbda3",
      "metadata": {
        "scrolled": true,
        "id": "3b3cbda3"
      },
      "outputs": [],
      "source": [
        "# Libraries imports\n",
        "\n",
        "import os\n",
        "import pandas as pd\n",
        "import tensorflow as tf\n",
        "import numpy as np\n",
        "import transformers\n",
        "import random as rd\n",
        "import matplotlib.pyplot as plt\n",
        "import keras.backend as K\n",
        "import seaborn as sns\n",
        "import warnings\n",
        "from numpy.random import seed\n",
        "from tensorflow import keras\n",
        "from tensorflow.keras import layers\n",
        "from keras.utils import plot_model\n",
        "from keras.callbacks import EarlyStopping, ModelCheckpoint\n",
        "from transformers import AutoTokenizer\n",
        "from transformers import TFAutoModel\n",
        "from sklearn.model_selection import KFold\n",
        "from sklearn import metrics\n",
        "from sklearn.metrics import confusion_matrix\n",
        "from sklearn.metrics import f1_score\n",
        "warnings.filterwarnings('ignore')"
      ]
    },
    {
      "cell_type": "code",
      "execution_count": null,
      "id": "a12e558e",
      "metadata": {
        "id": "a12e558e"
      },
      "outputs": [],
      "source": [
        "def set_seed(seed: int = 42) -> None:\n",
        "    rd.seed(seed)\n",
        "    np.random.seed(seed)\n",
        "    tf.random.set_seed(seed)\n",
        "    tf.experimental.numpy.random.seed(seed)\n",
        "    # When running on the CuDNN backend, two further options must be set\n",
        "    os.environ['TF_CUDNN_DETERMINISTIC'] = '1'\n",
        "    os.environ['TF_DETERMINISTIC_OPS'] = '1'\n",
        "    os.environ['TF_DISABLE_SEGMENT_REDUCTION_OP_DETERMINISM_EXCEPTIONS'] = '1'\n",
        "    # Set a fixed value for the hash seed\n",
        "    os.environ[\"PYTHONHASHSEED\"] = str(seed)\n",
        "    print(f\"Random seed set as {seed}\")"
      ]
    },
    {
      "cell_type": "code",
      "execution_count": null,
      "id": "ee4f61f6",
      "metadata": {
        "colab": {
          "base_uri": "https://localhost:8080/"
        },
        "id": "ee4f61f6",
        "outputId": "65eb0cdf-7b58-41fc-8adf-f6d0ca8e0d04"
      },
      "outputs": [
        {
          "output_type": "stream",
          "name": "stdout",
          "text": [
            "Random seed set as 42\n"
          ]
        }
      ],
      "source": [
        "set_seed(42)"
      ]
    },
    {
      "cell_type": "code",
      "execution_count": null,
      "id": "4f6f8939",
      "metadata": {
        "scrolled": true,
        "id": "4f6f8939"
      },
      "outputs": [],
      "source": [
        "# Data import\n",
        "df = pd.read_spss(\"/content/drive/MyDrive/VA_EN_TU_2012-2020_3000_tweets_relevant_V03_labeled_1200_cleaned.sav\")\n"
      ]
    },
    {
      "cell_type": "markdown",
      "id": "79936968",
      "metadata": {
        "id": "79936968"
      },
      "source": [
        "## Global Constants"
      ]
    },
    {
      "cell_type": "code",
      "execution_count": null,
      "id": "307be3d1",
      "metadata": {
        "id": "307be3d1"
      },
      "outputs": [],
      "source": [
        "# Constants\n",
        "\n",
        "nb_samples = len(df) # Number of tweets\n",
        "proportion_training = 0.80 # 80/20 ratio : 80% of training data for k-fold validation, 20% for test data\n",
        "pretrained_model_name = \"cardiffnlp/twitter-roberta-base-sentiment-latest\" # Roberta model for sentiment\n",
        "seq_len = 131 # tweet length\n",
        "batch_size = 80\n",
        "learning_rate = 0.001 #0.0001\n",
        "nb_epoch = 60\n",
        "nb_fold = 3\n",
        "earlyStopPatience = 10"
      ]
    },
    {
      "cell_type": "markdown",
      "id": "7896413c",
      "metadata": {
        "id": "7896413c"
      },
      "source": [
        "## 2. Data processing"
      ]
    },
    {
      "cell_type": "code",
      "execution_count": null,
      "id": "12ef9046",
      "metadata": {
        "id": "12ef9046"
      },
      "outputs": [],
      "source": [
        "def tokenize(sentence):\n",
        "    tokens = tokenizer.encode_plus(sentence, max_length=seq_len,\n",
        "                                   truncation=True, padding='max_length',\n",
        "                                   add_special_tokens=True, return_attention_mask=True,\n",
        "                                   return_token_type_ids=False, return_tensors='tf')\n",
        "    return tokens['input_ids'], tokens['attention_mask']"
      ]
    },
    {
      "cell_type": "code",
      "execution_count": null,
      "id": "c75b112c",
      "metadata": {
        "id": "c75b112c",
        "colab": {
          "base_uri": "https://localhost:8080/",
          "height": 145,
          "referenced_widgets": [
            "0266838004cc49cead103f7d181e7620",
            "7fe7f369d01d4ec7b13074164501ac1a",
            "c63a08fc27234f0fbd6e0477ba4e0554",
            "080638cccd4640e7aa2bb8ddfee017aa",
            "dba5ccae134a4a998a870a0e32c029bf",
            "275b62ab1d5e4b2c963878f651e352ec",
            "8a237ba461b942279cc0a75d2aab8946",
            "3dbe7307db5748c8a715bdf0549dbff6",
            "95b12011d744456fa600fc46f494a4b3",
            "c9f1ae2174f24d38b9ac8e453932c60e",
            "1084253b74134145af3b75a3c6fafc5e",
            "e5778c0514e34897b9b10dc9866eb3b4",
            "9c390a5c02d045d985d0faa214b7f203",
            "d7b3b688b19c4756b9077a02ecf8215b",
            "81c295010ff543f3a01708757ba82420",
            "24c416b2ad4745bea6bd360501d57b2f",
            "17b02648324647dc893af9d941470237",
            "2f0a43b76c924bfd912745e772874fc0",
            "39ea9c7e80034edeacd29dcfb940e660",
            "2cd7dd9188a4427ab195cf7f0370f187",
            "95a75141afc14df499fafb0d7779f4d3",
            "30da31524c8d4aedb70c45e64775a731",
            "013bcd63840943cda7f5a6aa1433ec9b",
            "bc431357ddc24f2cba8c2f91b75b663a",
            "5a2f0b8182b24c10b819f3c7d0ad8b5f",
            "e74642f4f6714d7a99cce096d1f21bbc",
            "a843a33d522748829252dea6735c44a6",
            "acfc396685644aa7aa7ef322f18da82c",
            "1c2e0be2757141ecba3061e924327c42",
            "e1c95f5911274051a85c6046b550454c",
            "d49033b907e34da98908d265c7b2cc15",
            "caceb6dcae3e400cb34021319c78663a",
            "288a6c2b50d24315a5edc065c47f6799",
            "46099226c8d2472a83ca8e7d0a2af56a",
            "c4392c2b8c3b4395b799069f05feb426",
            "dace64476d8c450fbc3babf0cb892eab",
            "986005212c1449e68f7d967088124102",
            "4d33b258c60247bba1facdac8c496313",
            "e35a30e3efd3460d89f9f1e4b8298ed9",
            "4a681681a7f440d28eb69a134cbea2a0",
            "b699e4eedfec442d84f9b7e7e5d3d75d",
            "d2013a9b9054427a9a6d02794e746d31",
            "01bdf081ebcc4b32a1504c16678cd0d2",
            "b608c09bfa714d82953d40d4acb38aed"
          ]
        },
        "outputId": "ade788bc-c86c-4367-9e54-08c352e60772"
      },
      "outputs": [
        {
          "output_type": "display_data",
          "data": {
            "text/plain": [
              "config.json:   0%|          | 0.00/929 [00:00<?, ?B/s]"
            ],
            "application/vnd.jupyter.widget-view+json": {
              "version_major": 2,
              "version_minor": 0,
              "model_id": "0266838004cc49cead103f7d181e7620"
            }
          },
          "metadata": {}
        },
        {
          "output_type": "display_data",
          "data": {
            "text/plain": [
              "vocab.json:   0%|          | 0.00/899k [00:00<?, ?B/s]"
            ],
            "application/vnd.jupyter.widget-view+json": {
              "version_major": 2,
              "version_minor": 0,
              "model_id": "e5778c0514e34897b9b10dc9866eb3b4"
            }
          },
          "metadata": {}
        },
        {
          "output_type": "display_data",
          "data": {
            "text/plain": [
              "merges.txt:   0%|          | 0.00/456k [00:00<?, ?B/s]"
            ],
            "application/vnd.jupyter.widget-view+json": {
              "version_major": 2,
              "version_minor": 0,
              "model_id": "013bcd63840943cda7f5a6aa1433ec9b"
            }
          },
          "metadata": {}
        },
        {
          "output_type": "display_data",
          "data": {
            "text/plain": [
              "special_tokens_map.json:   0%|          | 0.00/239 [00:00<?, ?B/s]"
            ],
            "application/vnd.jupyter.widget-view+json": {
              "version_major": 2,
              "version_minor": 0,
              "model_id": "46099226c8d2472a83ca8e7d0a2af56a"
            }
          },
          "metadata": {}
        }
      ],
      "source": [
        "tokenizer = AutoTokenizer.from_pretrained(pretrained_model_name)"
      ]
    },
    {
      "cell_type": "code",
      "execution_count": null,
      "id": "18f4e884",
      "metadata": {
        "id": "18f4e884"
      },
      "outputs": [],
      "source": [
        "# Preprocessing all data with Roberta's tokenizer\n",
        "X_ids = np.zeros((len(df),seq_len))\n",
        "X_mask = np.zeros((len(df),seq_len))\n",
        "\n",
        "for i, sentence in enumerate(df['text']):\n",
        "    X_ids[i, :], X_mask[i, :] = tokenize(sentence)"
      ]
    },
    {
      "cell_type": "code",
      "execution_count": null,
      "id": "8a670352",
      "metadata": {
        "id": "8a670352"
      },
      "outputs": [],
      "source": [
        "sep = round(proportion_training * len(df))\n",
        "labels = df[['Label_A2_negative', 'Label_A3_neutral','Label_A1_positive']].values\n",
        "\n",
        "# Creating training data\n",
        "X_ids_train = X_ids[:sep,:]\n",
        "X_mask_train = X_mask[:sep,:]\n",
        "Y_train = labels[:sep,:]\n",
        "\n",
        "# Creating test data\n",
        "X_ids_test = X_ids[sep:,:]\n",
        "X_mask_test = X_mask[sep:,:]\n",
        "Y_test = labels[sep:,:]"
      ]
    },
    {
      "cell_type": "markdown",
      "id": "a99fc455",
      "metadata": {
        "id": "a99fc455"
      },
      "source": [
        "## 3. Metrics"
      ]
    },
    {
      "cell_type": "code",
      "execution_count": null,
      "id": "d0163934",
      "metadata": {
        "id": "d0163934"
      },
      "outputs": [],
      "source": [
        "#------------------------STEP 1 --------------------------------#\n",
        "\n",
        "# Metric1 construction to compute the % of success tweet by tweet\n",
        "\n",
        "def metric1(y_true, y_pred):\n",
        "    n = K.cast(K.shape(y_true)[0], 'float32')\n",
        "    y_pred = K.reshape(y_pred,(n,1))\n",
        "    res = K.equal(y_true,y_pred)\n",
        "    res = K.cast(res, 'float32')\n",
        "    res = K.sum(res) / n\n",
        "    return res"
      ]
    },
    {
      "cell_type": "code",
      "source": [
        "#------------------------STEP 2 --------------------------------#\n",
        "\n",
        "# Metric2 construction to compute the % of success label by label\n",
        "# (equal to binary-accuracy)\n",
        "\n",
        "def metric2(y_true, y_pred):\n",
        "    n = K.cast(K.shape(y_true)[0], 'float32')\n",
        "    y_pred_r = K.round(y_pred)\n",
        "    res = abs(y_true - y_pred_r)\n",
        "    count_error = K.sum(K.cast(K.equal(res, 1), 'float32'),axis=0)\n",
        "    res = 1-count_error / n\n",
        "    res = K.mean(res)\n",
        "    return res"
      ],
      "metadata": {
        "id": "RQcARBeub-Iu"
      },
      "id": "RQcARBeub-Iu",
      "execution_count": null,
      "outputs": []
    },
    {
      "cell_type": "markdown",
      "id": "afd5450f",
      "metadata": {
        "id": "afd5450f"
      },
      "source": [
        "## 4. Model construction"
      ]
    },
    {
      "cell_type": "code",
      "execution_count": null,
      "id": "de89f573",
      "metadata": {
        "colab": {
          "base_uri": "https://localhost:8080/",
          "height": 118,
          "referenced_widgets": [
            "e9786999edde474492559e8c4ef19730",
            "2ebf2b7cf83b4c6993416b0b3f2f5452",
            "5c9ff670cf754513b272e568ee44babb",
            "2be0951e218e45f781399a7c8f3dc638",
            "b558e4c1e4bf421fbaed54c91e97a3b8",
            "e361a3abd74a46a8bb6bd575c24db626",
            "a85244eae2ea422fbc15c0a98ca08226",
            "ed7429290630460dba10402f53bc16be",
            "87f5b5b85dbf4d7493c110e8759b08f8",
            "0b4698e450f948e0b09cd1835407fb7e",
            "607df118d273443b8815300be944dab0"
          ]
        },
        "id": "de89f573",
        "outputId": "efc3af29-91a1-470f-81fc-0d459516919b"
      },
      "outputs": [
        {
          "output_type": "display_data",
          "data": {
            "text/plain": [
              "tf_model.h5:   0%|          | 0.00/499M [00:00<?, ?B/s]"
            ],
            "application/vnd.jupyter.widget-view+json": {
              "version_major": 2,
              "version_minor": 0,
              "model_id": "e9786999edde474492559e8c4ef19730"
            }
          },
          "metadata": {}
        },
        {
          "output_type": "stream",
          "name": "stderr",
          "text": [
            "All model checkpoint layers were used when initializing TFRobertaModel.\n",
            "\n",
            "All the layers of TFRobertaModel were initialized from the model checkpoint at cardiffnlp/twitter-roberta-base-sentiment-latest.\n",
            "If your task is similar to the task the model of the checkpoint was trained on, you can already use TFRobertaModel for predictions without further training.\n"
          ]
        }
      ],
      "source": [
        "# Loading pretrained model\n",
        "pretrained_model = TFAutoModel.from_pretrained(pretrained_model_name)"
      ]
    },
    {
      "cell_type": "code",
      "execution_count": null,
      "id": "c1b7d4ee",
      "metadata": {
        "id": "c1b7d4ee"
      },
      "outputs": [],
      "source": [
        "def get_model():\n",
        "\n",
        "    input_text_ids = keras.Input(shape=(seq_len,), dtype='int32', name='input_text_ids')\n",
        "    text_mask = keras.Input(shape=(seq_len,), dtype='int32', name='attention_mask_text')\n",
        "\n",
        "    embeddings = pretrained_model(input_text_ids, attention_mask=text_mask)[1]\n",
        "\n",
        "    x = tf.keras.layers.BatchNormalization()(embeddings)\n",
        "    x = tf.keras.layers.GaussianNoise(0.2)(x)\n",
        "    x = tf.keras.layers.Dense(512, activation='selu')(x)\n",
        "    x = tf.keras.layers.Dense(128, activation='relu')(x)\n",
        "    x = tf.keras.layers.Dense(128, activation='selu')(x)\n",
        "    x = tf.keras.layers.Dense(128, activation='relu')(x)\n",
        "    x = tf.keras.layers.Dense(64, activation='selu')(x)\n",
        "    x = tf.keras.layers.Dropout(0.35)(x)\n",
        "    x = tf.keras.layers.GaussianNoise(0.2)(x)\n",
        "\n",
        "    predictions = layers.Dense(3, activation=\"sigmoid\", name=\"predictions\")(x)\n",
        "\n",
        "    model = keras.Model(inputs=[input_text_ids,text_mask], outputs=predictions)\n",
        "\n",
        "    model.layers[2].trainable = False # freeze pretrained model layer\n",
        "\n",
        "    model.compile(optimizer=keras.optimizers.Adam(learning_rate=learning_rate),\n",
        "                loss=\"binary_crossentropy\",\n",
        "                metrics=[\"accuracy\"])\n",
        "    return model"
      ]
    },
    {
      "cell_type": "code",
      "execution_count": null,
      "id": "de89d8e9",
      "metadata": {
        "scrolled": false,
        "colab": {
          "base_uri": "https://localhost:8080/",
          "height": 1000
        },
        "id": "de89d8e9",
        "outputId": "471f5511-19db-423e-d5af-449c18f945a0"
      },
      "outputs": [
        {
          "output_type": "stream",
          "name": "stdout",
          "text": [
            "Model: \"model_12\"\n",
            "__________________________________________________________________________________________________\n",
            " Layer (type)                Output Shape                 Param #   Connected to                  \n",
            "==================================================================================================\n",
            " input_text_ids (InputLayer  [(None, 131)]                0         []                            \n",
            " )                                                                                                \n",
            "                                                                                                  \n",
            " attention_mask_text (Input  [(None, 131)]                0         []                            \n",
            " Layer)                                                                                           \n",
            "                                                                                                  \n",
            " tf_roberta_model_15 (TFRob  TFBaseModelOutputWithPooli   1246456   ['input_text_ids[0][0]',      \n",
            " ertaModel)                  ngAndCrossAttentions(last_   32         'attention_mask_text[0][0]'] \n",
            "                             hidden_state=(None, 131, 7                                           \n",
            "                             68),                                                                 \n",
            "                              pooler_output=(None, 768)                                           \n",
            "                             , past_key_values=None, hi                                           \n",
            "                             dden_states=None, attentio                                           \n",
            "                             ns=None, cross_attentions=                                           \n",
            "                             None)                                                                \n",
            "                                                                                                  \n",
            " batch_normalization_12 (Ba  (None, 768)                  3072      ['tf_roberta_model_15[0][1]'] \n",
            " tchNormalization)                                                                                \n",
            "                                                                                                  \n",
            " gaussian_noise_24 (Gaussia  (None, 768)                  0         ['batch_normalization_12[0][0]\n",
            " nNoise)                                                            ']                            \n",
            "                                                                                                  \n",
            " dense_60 (Dense)            (None, 512)                  393728    ['gaussian_noise_24[0][0]']   \n",
            "                                                                                                  \n",
            " dense_61 (Dense)            (None, 128)                  65664     ['dense_60[0][0]']            \n",
            "                                                                                                  \n",
            " dense_62 (Dense)            (None, 128)                  16512     ['dense_61[0][0]']            \n",
            "                                                                                                  \n",
            " dense_63 (Dense)            (None, 128)                  16512     ['dense_62[0][0]']            \n",
            "                                                                                                  \n",
            " dense_64 (Dense)            (None, 64)                   8256      ['dense_63[0][0]']            \n",
            "                                                                                                  \n",
            " dropout_604 (Dropout)       (None, 64)                   0         ['dense_64[0][0]']            \n",
            "                                                                                                  \n",
            " gaussian_noise_25 (Gaussia  (None, 64)                   0         ['dropout_604[0][0]']         \n",
            " nNoise)                                                                                          \n",
            "                                                                                                  \n",
            " predictions (Dense)         (None, 3)                    195       ['gaussian_noise_25[0][0]']   \n",
            "                                                                                                  \n",
            "==================================================================================================\n",
            "Total params: 125149571 (477.41 MB)\n",
            "Trainable params: 502403 (1.92 MB)\n",
            "Non-trainable params: 124647168 (475.49 MB)\n",
            "__________________________________________________________________________________________________\n"
          ]
        },
        {
          "output_type": "execute_result",
          "data": {
            "image/png": "[encoded data removed]",
            "text/plain": [
              "<IPython.core.display.Image object>"
            ]
          },
          "metadata": {},
          "execution_count": 94
        }
      ],
      "source": [
        "model = get_model() # model construction\n",
        "# model visualization\n",
        "model.summary()\n",
        "plot_model(model,show_shapes=True)"
      ]
    },
    {
      "cell_type": "markdown",
      "id": "40a15757",
      "metadata": {
        "id": "40a15757"
      },
      "source": [
        "## 5. Training the model"
      ]
    },
    {
      "cell_type": "code",
      "execution_count": null,
      "id": "8fd990f8",
      "metadata": {
        "id": "8fd990f8"
      },
      "outputs": [],
      "source": [
        "def fit_the_model(model, X_tr, y_tr, X_val, y_val, num):\n",
        "    # The model is trained on data input X_tr, y_tr, having X_val, y_val as validation data\n",
        "    callbacks = [\n",
        "        EarlyStopping(monitor=\"val_metric2\", patience=earlyStopPatience, mode=\"max\"),\n",
        "        ModelCheckpoint(filepath=\"MODEL/best_model\"+str(num)+\".hdf5\", monitor=\"val_accuracy\", mode='max', save_best_only=True, verbose=1)\n",
        "    ]\n",
        "    model.fit(X_tr, y_tr, validation_data = (X_val,y_val), epochs=nb_epoch, verbose=1, callbacks=callbacks, batch_size=batch_size)\n",
        "    return model"
      ]
    },
    {
      "cell_type": "code",
      "execution_count": null,
      "id": "e939979b",
      "metadata": {
        "scrolled": true,
        "colab": {
          "base_uri": "https://localhost:8080/"
        },
        "id": "e939979b",
        "outputId": "1a1a7f34-dd32-471f-d80f-10f9b295e4fb"
      },
      "outputs": [
        {
          "output_type": "stream",
          "name": "stdout",
          "text": [
            "\n",
            "Training model 1...\n",
            "Epoch 1/60\n",
            "8/8 [==============================] - ETA: 0s - loss: 0.7373 - accuracy: 0.4922"
          ]
        },
        {
          "output_type": "stream",
          "name": "stderr",
          "text": [
            "WARNING:tensorflow:Early stopping conditioned on metric `val_metric2` which is not available. Available metrics are: loss,accuracy,val_loss,val_accuracy\n"
          ]
        },
        {
          "output_type": "stream",
          "name": "stdout",
          "text": [
            "\n",
            "Epoch 1: val_accuracy improved from -inf to 0.51724, saving model to MODEL/best_model1.hdf5\n",
            "8/8 [==============================] - 33s 2s/step - loss: 0.7373 - accuracy: 0.4922 - val_loss: 0.5928 - val_accuracy: 0.5172\n",
            "Epoch 2/60\n",
            "8/8 [==============================] - ETA: 0s - loss: 0.6421 - accuracy: 0.5533"
          ]
        },
        {
          "output_type": "stream",
          "name": "stderr",
          "text": [
            "WARNING:tensorflow:Early stopping conditioned on metric `val_metric2` which is not available. Available metrics are: loss,accuracy,val_loss,val_accuracy\n"
          ]
        },
        {
          "output_type": "stream",
          "name": "stdout",
          "text": [
            "\n",
            "Epoch 2: val_accuracy improved from 0.51724 to 0.52351, saving model to MODEL/best_model1.hdf5\n",
            "8/8 [==============================] - 17s 2s/step - loss: 0.6421 - accuracy: 0.5533 - val_loss: 0.5912 - val_accuracy: 0.5235\n",
            "Epoch 3/60\n",
            "8/8 [==============================] - ETA: 0s - loss: 0.5994 - accuracy: 0.5987"
          ]
        },
        {
          "output_type": "stream",
          "name": "stderr",
          "text": [
            "WARNING:tensorflow:Early stopping conditioned on metric `val_metric2` which is not available. Available metrics are: loss,accuracy,val_loss,val_accuracy\n"
          ]
        },
        {
          "output_type": "stream",
          "name": "stdout",
          "text": [
            "\n",
            "Epoch 3: val_accuracy did not improve from 0.52351\n",
            "8/8 [==============================] - 11s 1s/step - loss: 0.5994 - accuracy: 0.5987 - val_loss: 0.6056 - val_accuracy: 0.5047\n",
            "Epoch 4/60\n",
            "8/8 [==============================] - ETA: 0s - loss: 0.6190 - accuracy: 0.5846"
          ]
        },
        {
          "output_type": "stream",
          "name": "stderr",
          "text": [
            "WARNING:tensorflow:Early stopping conditioned on metric `val_metric2` which is not available. Available metrics are: loss,accuracy,val_loss,val_accuracy\n"
          ]
        },
        {
          "output_type": "stream",
          "name": "stdout",
          "text": [
            "\n",
            "Epoch 4: val_accuracy did not improve from 0.52351\n",
            "8/8 [==============================] - 11s 1s/step - loss: 0.6190 - accuracy: 0.5846 - val_loss: 0.6086 - val_accuracy: 0.4545\n",
            "Epoch 5/60\n",
            "8/8 [==============================] - ETA: 0s - loss: 0.5922 - accuracy: 0.6019"
          ]
        },
        {
          "output_type": "stream",
          "name": "stderr",
          "text": [
            "WARNING:tensorflow:Early stopping conditioned on metric `val_metric2` which is not available. Available metrics are: loss,accuracy,val_loss,val_accuracy\n"
          ]
        },
        {
          "output_type": "stream",
          "name": "stdout",
          "text": [
            "\n",
            "Epoch 5: val_accuracy improved from 0.52351 to 0.62069, saving model to MODEL/best_model1.hdf5\n",
            "8/8 [==============================] - 14s 2s/step - loss: 0.5922 - accuracy: 0.6019 - val_loss: 0.5515 - val_accuracy: 0.6207\n",
            "Epoch 6/60\n",
            "8/8 [==============================] - ETA: 0s - loss: 0.5478 - accuracy: 0.6348"
          ]
        },
        {
          "output_type": "stream",
          "name": "stderr",
          "text": [
            "WARNING:tensorflow:Early stopping conditioned on metric `val_metric2` which is not available. Available metrics are: loss,accuracy,val_loss,val_accuracy\n"
          ]
        },
        {
          "output_type": "stream",
          "name": "stdout",
          "text": [
            "\n",
            "Epoch 6: val_accuracy did not improve from 0.62069\n",
            "8/8 [==============================] - 9s 1s/step - loss: 0.5478 - accuracy: 0.6348 - val_loss: 0.5480 - val_accuracy: 0.6113\n",
            "Epoch 7/60\n",
            "8/8 [==============================] - ETA: 0s - loss: 0.5170 - accuracy: 0.6599"
          ]
        },
        {
          "output_type": "stream",
          "name": "stderr",
          "text": [
            "WARNING:tensorflow:Early stopping conditioned on metric `val_metric2` which is not available. Available metrics are: loss,accuracy,val_loss,val_accuracy\n"
          ]
        },
        {
          "output_type": "stream",
          "name": "stdout",
          "text": [
            "\n",
            "Epoch 7: val_accuracy did not improve from 0.62069\n",
            "8/8 [==============================] - 11s 1s/step - loss: 0.5170 - accuracy: 0.6599 - val_loss: 0.5703 - val_accuracy: 0.5611\n",
            "Epoch 8/60\n",
            "8/8 [==============================] - ETA: 0s - loss: 0.5032 - accuracy: 0.6677"
          ]
        },
        {
          "output_type": "stream",
          "name": "stderr",
          "text": [
            "WARNING:tensorflow:Early stopping conditioned on metric `val_metric2` which is not available. Available metrics are: loss,accuracy,val_loss,val_accuracy\n"
          ]
        },
        {
          "output_type": "stream",
          "name": "stdout",
          "text": [
            "\n",
            "Epoch 8: val_accuracy did not improve from 0.62069\n",
            "8/8 [==============================] - 11s 2s/step - loss: 0.5032 - accuracy: 0.6677 - val_loss: 0.5859 - val_accuracy: 0.5298\n",
            "Epoch 9/60\n",
            "8/8 [==============================] - ETA: 0s - loss: 0.5090 - accuracy: 0.6536"
          ]
        },
        {
          "output_type": "stream",
          "name": "stderr",
          "text": [
            "WARNING:tensorflow:Early stopping conditioned on metric `val_metric2` which is not available. Available metrics are: loss,accuracy,val_loss,val_accuracy\n"
          ]
        },
        {
          "output_type": "stream",
          "name": "stdout",
          "text": [
            "\n",
            "Epoch 9: val_accuracy did not improve from 0.62069\n",
            "8/8 [==============================] - 9s 1s/step - loss: 0.5090 - accuracy: 0.6536 - val_loss: 0.5294 - val_accuracy: 0.6176\n",
            "Epoch 10/60\n",
            "8/8 [==============================] - ETA: 0s - loss: 0.4958 - accuracy: 0.6395"
          ]
        },
        {
          "output_type": "stream",
          "name": "stderr",
          "text": [
            "WARNING:tensorflow:Early stopping conditioned on metric `val_metric2` which is not available. Available metrics are: loss,accuracy,val_loss,val_accuracy\n"
          ]
        },
        {
          "output_type": "stream",
          "name": "stdout",
          "text": [
            "\n",
            "Epoch 10: val_accuracy did not improve from 0.62069\n",
            "8/8 [==============================] - 9s 1s/step - loss: 0.4958 - accuracy: 0.6395 - val_loss: 0.5394 - val_accuracy: 0.6113\n",
            "Epoch 11/60\n",
            "8/8 [==============================] - ETA: 0s - loss: 0.4877 - accuracy: 0.6740"
          ]
        },
        {
          "output_type": "stream",
          "name": "stderr",
          "text": [
            "WARNING:tensorflow:Early stopping conditioned on metric `val_metric2` which is not available. Available metrics are: loss,accuracy,val_loss,val_accuracy\n"
          ]
        },
        {
          "output_type": "stream",
          "name": "stdout",
          "text": [
            "\n",
            "Epoch 11: val_accuracy improved from 0.62069 to 0.62696, saving model to MODEL/best_model1.hdf5\n",
            "8/8 [==============================] - 13s 2s/step - loss: 0.4877 - accuracy: 0.6740 - val_loss: 0.5183 - val_accuracy: 0.6270\n",
            "Epoch 12/60\n",
            "8/8 [==============================] - ETA: 0s - loss: 0.4724 - accuracy: 0.6708"
          ]
        },
        {
          "output_type": "stream",
          "name": "stderr",
          "text": [
            "WARNING:tensorflow:Early stopping conditioned on metric `val_metric2` which is not available. Available metrics are: loss,accuracy,val_loss,val_accuracy\n"
          ]
        },
        {
          "output_type": "stream",
          "name": "stdout",
          "text": [
            "\n",
            "Epoch 12: val_accuracy did not improve from 0.62696\n",
            "8/8 [==============================] - 11s 1s/step - loss: 0.4724 - accuracy: 0.6708 - val_loss: 0.5231 - val_accuracy: 0.6113\n",
            "Epoch 13/60\n",
            "8/8 [==============================] - ETA: 0s - loss: 0.4774 - accuracy: 0.6693"
          ]
        },
        {
          "output_type": "stream",
          "name": "stderr",
          "text": [
            "WARNING:tensorflow:Early stopping conditioned on metric `val_metric2` which is not available. Available metrics are: loss,accuracy,val_loss,val_accuracy\n"
          ]
        },
        {
          "output_type": "stream",
          "name": "stdout",
          "text": [
            "\n",
            "Epoch 13: val_accuracy improved from 0.62696 to 0.63950, saving model to MODEL/best_model1.hdf5\n",
            "8/8 [==============================] - 13s 2s/step - loss: 0.4774 - accuracy: 0.6693 - val_loss: 0.5315 - val_accuracy: 0.6395\n",
            "Epoch 14/60\n",
            "8/8 [==============================] - ETA: 0s - loss: 0.4875 - accuracy: 0.6473"
          ]
        },
        {
          "output_type": "stream",
          "name": "stderr",
          "text": [
            "WARNING:tensorflow:Early stopping conditioned on metric `val_metric2` which is not available. Available metrics are: loss,accuracy,val_loss,val_accuracy\n"
          ]
        },
        {
          "output_type": "stream",
          "name": "stdout",
          "text": [
            "\n",
            "Epoch 14: val_accuracy did not improve from 0.63950\n",
            "8/8 [==============================] - 11s 2s/step - loss: 0.4875 - accuracy: 0.6473 - val_loss: 0.5675 - val_accuracy: 0.5423\n",
            "Epoch 15/60\n",
            "8/8 [==============================] - ETA: 0s - loss: 0.4587 - accuracy: 0.6865"
          ]
        },
        {
          "output_type": "stream",
          "name": "stderr",
          "text": [
            "WARNING:tensorflow:Early stopping conditioned on metric `val_metric2` which is not available. Available metrics are: loss,accuracy,val_loss,val_accuracy\n"
          ]
        },
        {
          "output_type": "stream",
          "name": "stdout",
          "text": [
            "\n",
            "Epoch 15: val_accuracy did not improve from 0.63950\n",
            "8/8 [==============================] - 9s 1s/step - loss: 0.4587 - accuracy: 0.6865 - val_loss: 0.5294 - val_accuracy: 0.6113\n",
            "Epoch 16/60\n",
            "8/8 [==============================] - ETA: 0s - loss: 0.4497 - accuracy: 0.6991"
          ]
        },
        {
          "output_type": "stream",
          "name": "stderr",
          "text": [
            "WARNING:tensorflow:Early stopping conditioned on metric `val_metric2` which is not available. Available metrics are: loss,accuracy,val_loss,val_accuracy\n"
          ]
        },
        {
          "output_type": "stream",
          "name": "stdout",
          "text": [
            "\n",
            "Epoch 16: val_accuracy did not improve from 0.63950\n",
            "8/8 [==============================] - 9s 1s/step - loss: 0.4497 - accuracy: 0.6991 - val_loss: 0.5288 - val_accuracy: 0.5831\n",
            "Epoch 17/60\n",
            "8/8 [==============================] - ETA: 0s - loss: 0.4684 - accuracy: 0.6850"
          ]
        },
        {
          "output_type": "stream",
          "name": "stderr",
          "text": [
            "WARNING:tensorflow:Early stopping conditioned on metric `val_metric2` which is not available. Available metrics are: loss,accuracy,val_loss,val_accuracy\n"
          ]
        },
        {
          "output_type": "stream",
          "name": "stdout",
          "text": [
            "\n",
            "Epoch 17: val_accuracy did not improve from 0.63950\n",
            "8/8 [==============================] - 11s 2s/step - loss: 0.4684 - accuracy: 0.6850 - val_loss: 0.5651 - val_accuracy: 0.5674\n",
            "Epoch 18/60\n",
            "8/8 [==============================] - ETA: 0s - loss: 0.4571 - accuracy: 0.6771"
          ]
        },
        {
          "output_type": "stream",
          "name": "stderr",
          "text": [
            "WARNING:tensorflow:Early stopping conditioned on metric `val_metric2` which is not available. Available metrics are: loss,accuracy,val_loss,val_accuracy\n"
          ]
        },
        {
          "output_type": "stream",
          "name": "stdout",
          "text": [
            "\n",
            "Epoch 18: val_accuracy improved from 0.63950 to 0.64577, saving model to MODEL/best_model1.hdf5\n",
            "8/8 [==============================] - 11s 2s/step - loss: 0.4571 - accuracy: 0.6771 - val_loss: 0.5241 - val_accuracy: 0.6458\n",
            "Epoch 19/60\n",
            "8/8 [==============================] - ETA: 0s - loss: 0.4564 - accuracy: 0.6818"
          ]
        },
        {
          "output_type": "stream",
          "name": "stderr",
          "text": [
            "WARNING:tensorflow:Early stopping conditioned on metric `val_metric2` which is not available. Available metrics are: loss,accuracy,val_loss,val_accuracy\n"
          ]
        },
        {
          "output_type": "stream",
          "name": "stdout",
          "text": [
            "\n",
            "Epoch 19: val_accuracy did not improve from 0.64577\n",
            "8/8 [==============================] - 11s 1s/step - loss: 0.4564 - accuracy: 0.6818 - val_loss: 0.5516 - val_accuracy: 0.5705\n",
            "Epoch 20/60\n",
            "8/8 [==============================] - ETA: 0s - loss: 0.4530 - accuracy: 0.7053"
          ]
        },
        {
          "output_type": "stream",
          "name": "stderr",
          "text": [
            "WARNING:tensorflow:Early stopping conditioned on metric `val_metric2` which is not available. Available metrics are: loss,accuracy,val_loss,val_accuracy\n"
          ]
        },
        {
          "output_type": "stream",
          "name": "stdout",
          "text": [
            "\n",
            "Epoch 20: val_accuracy did not improve from 0.64577\n",
            "8/8 [==============================] - 9s 1s/step - loss: 0.4530 - accuracy: 0.7053 - val_loss: 0.5332 - val_accuracy: 0.6332\n",
            "Epoch 21/60\n",
            "8/8 [==============================] - ETA: 0s - loss: 0.4268 - accuracy: 0.7006"
          ]
        },
        {
          "output_type": "stream",
          "name": "stderr",
          "text": [
            "WARNING:tensorflow:Early stopping conditioned on metric `val_metric2` which is not available. Available metrics are: loss,accuracy,val_loss,val_accuracy\n"
          ]
        },
        {
          "output_type": "stream",
          "name": "stdout",
          "text": [
            "\n",
            "Epoch 21: val_accuracy did not improve from 0.64577\n",
            "8/8 [==============================] - 11s 1s/step - loss: 0.4268 - accuracy: 0.7006 - val_loss: 0.5469 - val_accuracy: 0.5987\n",
            "Epoch 22/60\n",
            "8/8 [==============================] - ETA: 0s - loss: 0.4149 - accuracy: 0.7304"
          ]
        },
        {
          "output_type": "stream",
          "name": "stderr",
          "text": [
            "WARNING:tensorflow:Early stopping conditioned on metric `val_metric2` which is not available. Available metrics are: loss,accuracy,val_loss,val_accuracy\n"
          ]
        },
        {
          "output_type": "stream",
          "name": "stdout",
          "text": [
            "\n",
            "Epoch 22: val_accuracy improved from 0.64577 to 0.64890, saving model to MODEL/best_model1.hdf5\n",
            "8/8 [==============================] - 14s 2s/step - loss: 0.4149 - accuracy: 0.7304 - val_loss: 0.5342 - val_accuracy: 0.6489\n",
            "Epoch 23/60\n",
            "8/8 [==============================] - ETA: 0s - loss: 0.4335 - accuracy: 0.6865"
          ]
        },
        {
          "output_type": "stream",
          "name": "stderr",
          "text": [
            "WARNING:tensorflow:Early stopping conditioned on metric `val_metric2` which is not available. Available metrics are: loss,accuracy,val_loss,val_accuracy\n"
          ]
        },
        {
          "output_type": "stream",
          "name": "stdout",
          "text": [
            "\n",
            "Epoch 23: val_accuracy did not improve from 0.64890\n",
            "8/8 [==============================] - 11s 1s/step - loss: 0.4335 - accuracy: 0.6865 - val_loss: 0.5391 - val_accuracy: 0.6113\n",
            "Epoch 24/60\n",
            "8/8 [==============================] - ETA: 0s - loss: 0.4009 - accuracy: 0.7226"
          ]
        },
        {
          "output_type": "stream",
          "name": "stderr",
          "text": [
            "WARNING:tensorflow:Early stopping conditioned on metric `val_metric2` which is not available. Available metrics are: loss,accuracy,val_loss,val_accuracy\n"
          ]
        },
        {
          "output_type": "stream",
          "name": "stdout",
          "text": [
            "\n",
            "Epoch 24: val_accuracy did not improve from 0.64890\n",
            "8/8 [==============================] - 9s 1s/step - loss: 0.4009 - accuracy: 0.7226 - val_loss: 0.5273 - val_accuracy: 0.6176\n",
            "Epoch 25/60\n",
            "8/8 [==============================] - ETA: 0s - loss: 0.4148 - accuracy: 0.7116"
          ]
        },
        {
          "output_type": "stream",
          "name": "stderr",
          "text": [
            "WARNING:tensorflow:Early stopping conditioned on metric `val_metric2` which is not available. Available metrics are: loss,accuracy,val_loss,val_accuracy\n"
          ]
        },
        {
          "output_type": "stream",
          "name": "stdout",
          "text": [
            "\n",
            "Epoch 25: val_accuracy did not improve from 0.64890\n",
            "8/8 [==============================] - 11s 1s/step - loss: 0.4148 - accuracy: 0.7116 - val_loss: 0.5670 - val_accuracy: 0.5705\n",
            "Epoch 26/60\n",
            "8/8 [==============================] - ETA: 0s - loss: 0.4049 - accuracy: 0.7429"
          ]
        },
        {
          "output_type": "stream",
          "name": "stderr",
          "text": [
            "WARNING:tensorflow:Early stopping conditioned on metric `val_metric2` which is not available. Available metrics are: loss,accuracy,val_loss,val_accuracy\n"
          ]
        },
        {
          "output_type": "stream",
          "name": "stdout",
          "text": [
            "\n",
            "Epoch 26: val_accuracy did not improve from 0.64890\n",
            "8/8 [==============================] - 9s 1s/step - loss: 0.4049 - accuracy: 0.7429 - val_loss: 0.5434 - val_accuracy: 0.6458\n",
            "Epoch 27/60\n",
            "8/8 [==============================] - ETA: 0s - loss: 0.3899 - accuracy: 0.7288"
          ]
        },
        {
          "output_type": "stream",
          "name": "stderr",
          "text": [
            "WARNING:tensorflow:Early stopping conditioned on metric `val_metric2` which is not available. Available metrics are: loss,accuracy,val_loss,val_accuracy\n"
          ]
        },
        {
          "output_type": "stream",
          "name": "stdout",
          "text": [
            "\n",
            "Epoch 27: val_accuracy did not improve from 0.64890\n",
            "8/8 [==============================] - 11s 1s/step - loss: 0.3899 - accuracy: 0.7288 - val_loss: 0.5620 - val_accuracy: 0.6207\n",
            "Epoch 28/60\n",
            "8/8 [==============================] - ETA: 0s - loss: 0.3715 - accuracy: 0.7696"
          ]
        },
        {
          "output_type": "stream",
          "name": "stderr",
          "text": [
            "WARNING:tensorflow:Early stopping conditioned on metric `val_metric2` which is not available. Available metrics are: loss,accuracy,val_loss,val_accuracy\n"
          ]
        },
        {
          "output_type": "stream",
          "name": "stdout",
          "text": [
            "\n",
            "Epoch 28: val_accuracy did not improve from 0.64890\n",
            "8/8 [==============================] - 9s 1s/step - loss: 0.3715 - accuracy: 0.7696 - val_loss: 0.5631 - val_accuracy: 0.6395\n",
            "Epoch 29/60\n",
            "8/8 [==============================] - ETA: 0s - loss: 0.3610 - accuracy: 0.7602"
          ]
        },
        {
          "output_type": "stream",
          "name": "stderr",
          "text": [
            "WARNING:tensorflow:Early stopping conditioned on metric `val_metric2` which is not available. Available metrics are: loss,accuracy,val_loss,val_accuracy\n"
          ]
        },
        {
          "output_type": "stream",
          "name": "stdout",
          "text": [
            "\n",
            "Epoch 29: val_accuracy did not improve from 0.64890\n",
            "8/8 [==============================] - 9s 1s/step - loss: 0.3610 - accuracy: 0.7602 - val_loss: 0.5482 - val_accuracy: 0.6176\n",
            "Epoch 30/60\n",
            "8/8 [==============================] - ETA: 0s - loss: 0.3631 - accuracy: 0.7665"
          ]
        },
        {
          "output_type": "stream",
          "name": "stderr",
          "text": [
            "WARNING:tensorflow:Early stopping conditioned on metric `val_metric2` which is not available. Available metrics are: loss,accuracy,val_loss,val_accuracy\n"
          ]
        },
        {
          "output_type": "stream",
          "name": "stdout",
          "text": [
            "\n",
            "Epoch 30: val_accuracy did not improve from 0.64890\n",
            "8/8 [==============================] - 9s 1s/step - loss: 0.3631 - accuracy: 0.7665 - val_loss: 0.5611 - val_accuracy: 0.6395\n",
            "Epoch 31/60\n",
            "8/8 [==============================] - ETA: 0s - loss: 0.3749 - accuracy: 0.7241"
          ]
        },
        {
          "output_type": "stream",
          "name": "stderr",
          "text": [
            "WARNING:tensorflow:Early stopping conditioned on metric `val_metric2` which is not available. Available metrics are: loss,accuracy,val_loss,val_accuracy\n"
          ]
        },
        {
          "output_type": "stream",
          "name": "stdout",
          "text": [
            "\n",
            "Epoch 31: val_accuracy did not improve from 0.64890\n",
            "8/8 [==============================] - 9s 1s/step - loss: 0.3749 - accuracy: 0.7241 - val_loss: 0.5848 - val_accuracy: 0.6364\n",
            "Epoch 32/60\n",
            "8/8 [==============================] - ETA: 0s - loss: 0.3810 - accuracy: 0.7335"
          ]
        },
        {
          "output_type": "stream",
          "name": "stderr",
          "text": [
            "WARNING:tensorflow:Early stopping conditioned on metric `val_metric2` which is not available. Available metrics are: loss,accuracy,val_loss,val_accuracy\n"
          ]
        },
        {
          "output_type": "stream",
          "name": "stdout",
          "text": [
            "\n",
            "Epoch 32: val_accuracy did not improve from 0.64890\n",
            "8/8 [==============================] - 11s 1s/step - loss: 0.3810 - accuracy: 0.7335 - val_loss: 0.5600 - val_accuracy: 0.6395\n",
            "Epoch 33/60\n",
            "8/8 [==============================] - ETA: 0s - loss: 0.3601 - accuracy: 0.7508"
          ]
        },
        {
          "output_type": "stream",
          "name": "stderr",
          "text": [
            "WARNING:tensorflow:Early stopping conditioned on metric `val_metric2` which is not available. Available metrics are: loss,accuracy,val_loss,val_accuracy\n"
          ]
        },
        {
          "output_type": "stream",
          "name": "stdout",
          "text": [
            "\n",
            "Epoch 33: val_accuracy did not improve from 0.64890\n",
            "8/8 [==============================] - 11s 1s/step - loss: 0.3601 - accuracy: 0.7508 - val_loss: 0.5965 - val_accuracy: 0.6270\n",
            "Epoch 34/60\n",
            "8/8 [==============================] - ETA: 0s - loss: 0.3795 - accuracy: 0.7555"
          ]
        },
        {
          "output_type": "stream",
          "name": "stderr",
          "text": [
            "WARNING:tensorflow:Early stopping conditioned on metric `val_metric2` which is not available. Available metrics are: loss,accuracy,val_loss,val_accuracy\n"
          ]
        },
        {
          "output_type": "stream",
          "name": "stdout",
          "text": [
            "\n",
            "Epoch 34: val_accuracy did not improve from 0.64890\n",
            "8/8 [==============================] - 9s 1s/step - loss: 0.3795 - accuracy: 0.7555 - val_loss: 0.5759 - val_accuracy: 0.6144\n",
            "Epoch 35/60\n",
            "8/8 [==============================] - ETA: 0s - loss: 0.3685 - accuracy: 0.7524"
          ]
        },
        {
          "output_type": "stream",
          "name": "stderr",
          "text": [
            "WARNING:tensorflow:Early stopping conditioned on metric `val_metric2` which is not available. Available metrics are: loss,accuracy,val_loss,val_accuracy\n"
          ]
        },
        {
          "output_type": "stream",
          "name": "stdout",
          "text": [
            "\n",
            "Epoch 35: val_accuracy did not improve from 0.64890\n",
            "8/8 [==============================] - 11s 1s/step - loss: 0.3685 - accuracy: 0.7524 - val_loss: 0.6255 - val_accuracy: 0.6019\n",
            "Epoch 36/60\n",
            "8/8 [==============================] - ETA: 0s - loss: 0.3440 - accuracy: 0.7743"
          ]
        },
        {
          "output_type": "stream",
          "name": "stderr",
          "text": [
            "WARNING:tensorflow:Early stopping conditioned on metric `val_metric2` which is not available. Available metrics are: loss,accuracy,val_loss,val_accuracy\n"
          ]
        },
        {
          "output_type": "stream",
          "name": "stdout",
          "text": [
            "\n",
            "Epoch 36: val_accuracy improved from 0.64890 to 0.67398, saving model to MODEL/best_model1.hdf5\n",
            "8/8 [==============================] - 15s 2s/step - loss: 0.3440 - accuracy: 0.7743 - val_loss: 0.5317 - val_accuracy: 0.6740\n",
            "Epoch 37/60\n",
            "8/8 [==============================] - ETA: 0s - loss: 0.3342 - accuracy: 0.8009"
          ]
        },
        {
          "output_type": "stream",
          "name": "stderr",
          "text": [
            "WARNING:tensorflow:Early stopping conditioned on metric `val_metric2` which is not available. Available metrics are: loss,accuracy,val_loss,val_accuracy\n"
          ]
        },
        {
          "output_type": "stream",
          "name": "stdout",
          "text": [
            "\n",
            "Epoch 37: val_accuracy did not improve from 0.67398\n",
            "8/8 [==============================] - 11s 1s/step - loss: 0.3342 - accuracy: 0.8009 - val_loss: 0.6454 - val_accuracy: 0.6207\n",
            "Epoch 38/60\n",
            "8/8 [==============================] - ETA: 0s - loss: 0.3360 - accuracy: 0.7649"
          ]
        },
        {
          "output_type": "stream",
          "name": "stderr",
          "text": [
            "WARNING:tensorflow:Early stopping conditioned on metric `val_metric2` which is not available. Available metrics are: loss,accuracy,val_loss,val_accuracy\n"
          ]
        },
        {
          "output_type": "stream",
          "name": "stdout",
          "text": [
            "\n",
            "Epoch 38: val_accuracy did not improve from 0.67398\n",
            "8/8 [==============================] - 9s 1s/step - loss: 0.3360 - accuracy: 0.7649 - val_loss: 0.5881 - val_accuracy: 0.6364\n",
            "Epoch 39/60\n",
            "8/8 [==============================] - ETA: 0s - loss: 0.3335 - accuracy: 0.7712"
          ]
        },
        {
          "output_type": "stream",
          "name": "stderr",
          "text": [
            "WARNING:tensorflow:Early stopping conditioned on metric `val_metric2` which is not available. Available metrics are: loss,accuracy,val_loss,val_accuracy\n"
          ]
        },
        {
          "output_type": "stream",
          "name": "stdout",
          "text": [
            "\n",
            "Epoch 39: val_accuracy did not improve from 0.67398\n",
            "8/8 [==============================] - 9s 1s/step - loss: 0.3335 - accuracy: 0.7712 - val_loss: 0.6327 - val_accuracy: 0.6144\n",
            "Epoch 40/60\n",
            "8/8 [==============================] - ETA: 0s - loss: 0.3188 - accuracy: 0.7759"
          ]
        },
        {
          "output_type": "stream",
          "name": "stderr",
          "text": [
            "WARNING:tensorflow:Early stopping conditioned on metric `val_metric2` which is not available. Available metrics are: loss,accuracy,val_loss,val_accuracy\n"
          ]
        },
        {
          "output_type": "stream",
          "name": "stdout",
          "text": [
            "\n",
            "Epoch 40: val_accuracy did not improve from 0.67398\n",
            "8/8 [==============================] - 11s 2s/step - loss: 0.3188 - accuracy: 0.7759 - val_loss: 0.6197 - val_accuracy: 0.6301\n",
            "Epoch 41/60\n",
            "8/8 [==============================] - ETA: 0s - loss: 0.3394 - accuracy: 0.7633"
          ]
        },
        {
          "output_type": "stream",
          "name": "stderr",
          "text": [
            "WARNING:tensorflow:Early stopping conditioned on metric `val_metric2` which is not available. Available metrics are: loss,accuracy,val_loss,val_accuracy\n"
          ]
        },
        {
          "output_type": "stream",
          "name": "stdout",
          "text": [
            "\n",
            "Epoch 41: val_accuracy did not improve from 0.67398\n",
            "8/8 [==============================] - 11s 1s/step - loss: 0.3394 - accuracy: 0.7633 - val_loss: 0.7259 - val_accuracy: 0.5768\n",
            "Epoch 42/60\n",
            "8/8 [==============================] - ETA: 0s - loss: 0.3170 - accuracy: 0.7837"
          ]
        },
        {
          "output_type": "stream",
          "name": "stderr",
          "text": [
            "WARNING:tensorflow:Early stopping conditioned on metric `val_metric2` which is not available. Available metrics are: loss,accuracy,val_loss,val_accuracy\n"
          ]
        },
        {
          "output_type": "stream",
          "name": "stdout",
          "text": [
            "\n",
            "Epoch 42: val_accuracy did not improve from 0.67398\n",
            "8/8 [==============================] - 11s 1s/step - loss: 0.3170 - accuracy: 0.7837 - val_loss: 0.6665 - val_accuracy: 0.6176\n",
            "Epoch 43/60\n",
            "8/8 [==============================] - ETA: 0s - loss: 0.2856 - accuracy: 0.7978"
          ]
        },
        {
          "output_type": "stream",
          "name": "stderr",
          "text": [
            "WARNING:tensorflow:Early stopping conditioned on metric `val_metric2` which is not available. Available metrics are: loss,accuracy,val_loss,val_accuracy\n"
          ]
        },
        {
          "output_type": "stream",
          "name": "stdout",
          "text": [
            "\n",
            "Epoch 43: val_accuracy did not improve from 0.67398\n",
            "8/8 [==============================] - 11s 1s/step - loss: 0.2856 - accuracy: 0.7978 - val_loss: 0.6240 - val_accuracy: 0.6364\n",
            "Epoch 44/60\n",
            "8/8 [==============================] - ETA: 0s - loss: 0.3162 - accuracy: 0.7774"
          ]
        },
        {
          "output_type": "stream",
          "name": "stderr",
          "text": [
            "WARNING:tensorflow:Early stopping conditioned on metric `val_metric2` which is not available. Available metrics are: loss,accuracy,val_loss,val_accuracy\n"
          ]
        },
        {
          "output_type": "stream",
          "name": "stdout",
          "text": [
            "\n",
            "Epoch 44: val_accuracy did not improve from 0.67398\n",
            "8/8 [==============================] - 11s 1s/step - loss: 0.3162 - accuracy: 0.7774 - val_loss: 0.6750 - val_accuracy: 0.6050\n",
            "Epoch 45/60\n",
            "8/8 [==============================] - ETA: 0s - loss: 0.3193 - accuracy: 0.7821"
          ]
        },
        {
          "output_type": "stream",
          "name": "stderr",
          "text": [
            "WARNING:tensorflow:Early stopping conditioned on metric `val_metric2` which is not available. Available metrics are: loss,accuracy,val_loss,val_accuracy\n"
          ]
        },
        {
          "output_type": "stream",
          "name": "stdout",
          "text": [
            "\n",
            "Epoch 45: val_accuracy did not improve from 0.67398\n",
            "8/8 [==============================] - 11s 1s/step - loss: 0.3193 - accuracy: 0.7821 - val_loss: 0.6639 - val_accuracy: 0.6082\n",
            "Epoch 46/60\n",
            "8/8 [==============================] - ETA: 0s - loss: 0.3066 - accuracy: 0.7790"
          ]
        },
        {
          "output_type": "stream",
          "name": "stderr",
          "text": [
            "WARNING:tensorflow:Early stopping conditioned on metric `val_metric2` which is not available. Available metrics are: loss,accuracy,val_loss,val_accuracy\n"
          ]
        },
        {
          "output_type": "stream",
          "name": "stdout",
          "text": [
            "\n",
            "Epoch 46: val_accuracy did not improve from 0.67398\n",
            "8/8 [==============================] - 9s 1s/step - loss: 0.3066 - accuracy: 0.7790 - val_loss: 0.6693 - val_accuracy: 0.6144\n",
            "Epoch 47/60\n",
            "8/8 [==============================] - ETA: 0s - loss: 0.2860 - accuracy: 0.8135"
          ]
        },
        {
          "output_type": "stream",
          "name": "stderr",
          "text": [
            "WARNING:tensorflow:Early stopping conditioned on metric `val_metric2` which is not available. Available metrics are: loss,accuracy,val_loss,val_accuracy\n"
          ]
        },
        {
          "output_type": "stream",
          "name": "stdout",
          "text": [
            "\n",
            "Epoch 47: val_accuracy did not improve from 0.67398\n",
            "8/8 [==============================] - 9s 1s/step - loss: 0.2860 - accuracy: 0.8135 - val_loss: 0.7035 - val_accuracy: 0.6144\n",
            "Epoch 48/60\n",
            "8/8 [==============================] - ETA: 0s - loss: 0.2760 - accuracy: 0.8025"
          ]
        },
        {
          "output_type": "stream",
          "name": "stderr",
          "text": [
            "WARNING:tensorflow:Early stopping conditioned on metric `val_metric2` which is not available. Available metrics are: loss,accuracy,val_loss,val_accuracy\n"
          ]
        },
        {
          "output_type": "stream",
          "name": "stdout",
          "text": [
            "\n",
            "Epoch 48: val_accuracy did not improve from 0.67398\n",
            "8/8 [==============================] - 9s 1s/step - loss: 0.2760 - accuracy: 0.8025 - val_loss: 0.7291 - val_accuracy: 0.6082\n",
            "Epoch 49/60\n",
            "8/8 [==============================] - ETA: 0s - loss: 0.3028 - accuracy: 0.8009"
          ]
        },
        {
          "output_type": "stream",
          "name": "stderr",
          "text": [
            "WARNING:tensorflow:Early stopping conditioned on metric `val_metric2` which is not available. Available metrics are: loss,accuracy,val_loss,val_accuracy\n"
          ]
        },
        {
          "output_type": "stream",
          "name": "stdout",
          "text": [
            "\n",
            "Epoch 49: val_accuracy did not improve from 0.67398\n",
            "8/8 [==============================] - 11s 1s/step - loss: 0.3028 - accuracy: 0.8009 - val_loss: 0.6994 - val_accuracy: 0.6176\n",
            "Epoch 50/60\n",
            "8/8 [==============================] - ETA: 0s - loss: 0.2801 - accuracy: 0.7915"
          ]
        },
        {
          "output_type": "stream",
          "name": "stderr",
          "text": [
            "WARNING:tensorflow:Early stopping conditioned on metric `val_metric2` which is not available. Available metrics are: loss,accuracy,val_loss,val_accuracy\n"
          ]
        },
        {
          "output_type": "stream",
          "name": "stdout",
          "text": [
            "\n",
            "Epoch 50: val_accuracy did not improve from 0.67398\n",
            "8/8 [==============================] - 9s 1s/step - loss: 0.2801 - accuracy: 0.7915 - val_loss: 0.7066 - val_accuracy: 0.6144\n",
            "Epoch 51/60\n",
            "8/8 [==============================] - ETA: 0s - loss: 0.2733 - accuracy: 0.8166"
          ]
        },
        {
          "output_type": "stream",
          "name": "stderr",
          "text": [
            "WARNING:tensorflow:Early stopping conditioned on metric `val_metric2` which is not available. Available metrics are: loss,accuracy,val_loss,val_accuracy\n"
          ]
        },
        {
          "output_type": "stream",
          "name": "stdout",
          "text": [
            "\n",
            "Epoch 51: val_accuracy did not improve from 0.67398\n",
            "8/8 [==============================] - 9s 1s/step - loss: 0.2733 - accuracy: 0.8166 - val_loss: 0.6298 - val_accuracy: 0.6301\n",
            "Epoch 52/60\n",
            "8/8 [==============================] - ETA: 0s - loss: 0.2376 - accuracy: 0.8542"
          ]
        },
        {
          "output_type": "stream",
          "name": "stderr",
          "text": [
            "WARNING:tensorflow:Early stopping conditioned on metric `val_metric2` which is not available. Available metrics are: loss,accuracy,val_loss,val_accuracy\n"
          ]
        },
        {
          "output_type": "stream",
          "name": "stdout",
          "text": [
            "\n",
            "Epoch 52: val_accuracy did not improve from 0.67398\n",
            "8/8 [==============================] - 9s 1s/step - loss: 0.2376 - accuracy: 0.8542 - val_loss: 0.7343 - val_accuracy: 0.6270\n",
            "Epoch 53/60\n",
            "8/8 [==============================] - ETA: 0s - loss: 0.2567 - accuracy: 0.8166"
          ]
        },
        {
          "output_type": "stream",
          "name": "stderr",
          "text": [
            "WARNING:tensorflow:Early stopping conditioned on metric `val_metric2` which is not available. Available metrics are: loss,accuracy,val_loss,val_accuracy\n"
          ]
        },
        {
          "output_type": "stream",
          "name": "stdout",
          "text": [
            "\n",
            "Epoch 53: val_accuracy did not improve from 0.67398\n",
            "8/8 [==============================] - 9s 1s/step - loss: 0.2567 - accuracy: 0.8166 - val_loss: 0.7480 - val_accuracy: 0.5737\n",
            "Epoch 54/60\n",
            "8/8 [==============================] - ETA: 0s - loss: 0.2666 - accuracy: 0.8041"
          ]
        },
        {
          "output_type": "stream",
          "name": "stderr",
          "text": [
            "WARNING:tensorflow:Early stopping conditioned on metric `val_metric2` which is not available. Available metrics are: loss,accuracy,val_loss,val_accuracy\n"
          ]
        },
        {
          "output_type": "stream",
          "name": "stdout",
          "text": [
            "\n",
            "Epoch 54: val_accuracy did not improve from 0.67398\n",
            "8/8 [==============================] - 9s 1s/step - loss: 0.2666 - accuracy: 0.8041 - val_loss: 0.7545 - val_accuracy: 0.6301\n",
            "Epoch 55/60\n",
            "8/8 [==============================] - ETA: 0s - loss: 0.2723 - accuracy: 0.8182"
          ]
        },
        {
          "output_type": "stream",
          "name": "stderr",
          "text": [
            "WARNING:tensorflow:Early stopping conditioned on metric `val_metric2` which is not available. Available metrics are: loss,accuracy,val_loss,val_accuracy\n"
          ]
        },
        {
          "output_type": "stream",
          "name": "stdout",
          "text": [
            "\n",
            "Epoch 55: val_accuracy did not improve from 0.67398\n",
            "8/8 [==============================] - 9s 1s/step - loss: 0.2723 - accuracy: 0.8182 - val_loss: 0.7724 - val_accuracy: 0.6395\n",
            "Epoch 56/60\n",
            "8/8 [==============================] - ETA: 0s - loss: 0.2756 - accuracy: 0.8009"
          ]
        },
        {
          "output_type": "stream",
          "name": "stderr",
          "text": [
            "WARNING:tensorflow:Early stopping conditioned on metric `val_metric2` which is not available. Available metrics are: loss,accuracy,val_loss,val_accuracy\n"
          ]
        },
        {
          "output_type": "stream",
          "name": "stdout",
          "text": [
            "\n",
            "Epoch 56: val_accuracy did not improve from 0.67398\n",
            "8/8 [==============================] - 11s 1s/step - loss: 0.2756 - accuracy: 0.8009 - val_loss: 0.7708 - val_accuracy: 0.6144\n",
            "Epoch 57/60\n",
            "8/8 [==============================] - ETA: 0s - loss: 0.2793 - accuracy: 0.8056"
          ]
        },
        {
          "output_type": "stream",
          "name": "stderr",
          "text": [
            "WARNING:tensorflow:Early stopping conditioned on metric `val_metric2` which is not available. Available metrics are: loss,accuracy,val_loss,val_accuracy\n"
          ]
        },
        {
          "output_type": "stream",
          "name": "stdout",
          "text": [
            "\n",
            "Epoch 57: val_accuracy did not improve from 0.67398\n",
            "8/8 [==============================] - 11s 1s/step - loss: 0.2793 - accuracy: 0.8056 - val_loss: 0.7246 - val_accuracy: 0.6238\n",
            "Epoch 58/60\n",
            "8/8 [==============================] - ETA: 0s - loss: 0.2511 - accuracy: 0.8245"
          ]
        },
        {
          "output_type": "stream",
          "name": "stderr",
          "text": [
            "WARNING:tensorflow:Early stopping conditioned on metric `val_metric2` which is not available. Available metrics are: loss,accuracy,val_loss,val_accuracy\n"
          ]
        },
        {
          "output_type": "stream",
          "name": "stdout",
          "text": [
            "\n",
            "Epoch 58: val_accuracy did not improve from 0.67398\n",
            "8/8 [==============================] - 11s 1s/step - loss: 0.2511 - accuracy: 0.8245 - val_loss: 0.7530 - val_accuracy: 0.6301\n",
            "Epoch 59/60\n",
            "8/8 [==============================] - ETA: 0s - loss: 0.2394 - accuracy: 0.8150"
          ]
        },
        {
          "output_type": "stream",
          "name": "stderr",
          "text": [
            "WARNING:tensorflow:Early stopping conditioned on metric `val_metric2` which is not available. Available metrics are: loss,accuracy,val_loss,val_accuracy\n"
          ]
        },
        {
          "output_type": "stream",
          "name": "stdout",
          "text": [
            "\n",
            "Epoch 59: val_accuracy did not improve from 0.67398\n",
            "8/8 [==============================] - 9s 1s/step - loss: 0.2394 - accuracy: 0.8150 - val_loss: 0.8402 - val_accuracy: 0.6301\n",
            "Epoch 60/60\n",
            "8/8 [==============================] - ETA: 0s - loss: 0.2457 - accuracy: 0.8292"
          ]
        },
        {
          "output_type": "stream",
          "name": "stderr",
          "text": [
            "WARNING:tensorflow:Early stopping conditioned on metric `val_metric2` which is not available. Available metrics are: loss,accuracy,val_loss,val_accuracy\n"
          ]
        },
        {
          "output_type": "stream",
          "name": "stdout",
          "text": [
            "\n",
            "Epoch 60: val_accuracy did not improve from 0.67398\n",
            "8/8 [==============================] - 9s 1s/step - loss: 0.2457 - accuracy: 0.8292 - val_loss: 0.7209 - val_accuracy: 0.6270\n",
            "\n",
            "Training model 2...\n",
            "Epoch 1/60\n",
            "8/8 [==============================] - ETA: 0s - loss: 0.7145 - accuracy: 0.5125"
          ]
        },
        {
          "output_type": "stream",
          "name": "stderr",
          "text": [
            "WARNING:tensorflow:Early stopping conditioned on metric `val_metric2` which is not available. Available metrics are: loss,accuracy,val_loss,val_accuracy\n"
          ]
        },
        {
          "output_type": "stream",
          "name": "stdout",
          "text": [
            "\n",
            "Epoch 1: val_accuracy improved from -inf to 0.52665, saving model to MODEL/best_model2.hdf5\n",
            "8/8 [==============================] - 35s 2s/step - loss: 0.7145 - accuracy: 0.5125 - val_loss: 0.6234 - val_accuracy: 0.5266\n",
            "Epoch 2/60\n",
            "8/8 [==============================] - ETA: 0s - loss: 0.6465 - accuracy: 0.5643"
          ]
        },
        {
          "output_type": "stream",
          "name": "stderr",
          "text": [
            "WARNING:tensorflow:Early stopping conditioned on metric `val_metric2` which is not available. Available metrics are: loss,accuracy,val_loss,val_accuracy\n"
          ]
        },
        {
          "output_type": "stream",
          "name": "stdout",
          "text": [
            "\n",
            "Epoch 2: val_accuracy improved from 0.52665 to 0.62696, saving model to MODEL/best_model2.hdf5\n",
            "8/8 [==============================] - 13s 2s/step - loss: 0.6465 - accuracy: 0.5643 - val_loss: 0.5628 - val_accuracy: 0.6270\n",
            "Epoch 3/60\n",
            "8/8 [==============================] - ETA: 0s - loss: 0.6185 - accuracy: 0.5925"
          ]
        },
        {
          "output_type": "stream",
          "name": "stderr",
          "text": [
            "WARNING:tensorflow:Early stopping conditioned on metric `val_metric2` which is not available. Available metrics are: loss,accuracy,val_loss,val_accuracy\n"
          ]
        },
        {
          "output_type": "stream",
          "name": "stdout",
          "text": [
            "\n",
            "Epoch 3: val_accuracy did not improve from 0.62696\n",
            "8/8 [==============================] - 11s 2s/step - loss: 0.6185 - accuracy: 0.5925 - val_loss: 0.5718 - val_accuracy: 0.5517\n",
            "Epoch 4/60\n",
            "8/8 [==============================] - ETA: 0s - loss: 0.5789 - accuracy: 0.5987"
          ]
        },
        {
          "output_type": "stream",
          "name": "stderr",
          "text": [
            "WARNING:tensorflow:Early stopping conditioned on metric `val_metric2` which is not available. Available metrics are: loss,accuracy,val_loss,val_accuracy\n"
          ]
        },
        {
          "output_type": "stream",
          "name": "stdout",
          "text": [
            "\n",
            "Epoch 4: val_accuracy did not improve from 0.62696\n",
            "8/8 [==============================] - 9s 1s/step - loss: 0.5789 - accuracy: 0.5987 - val_loss: 0.5565 - val_accuracy: 0.6144\n",
            "Epoch 5/60\n",
            "8/8 [==============================] - ETA: 0s - loss: 0.5535 - accuracy: 0.6003"
          ]
        },
        {
          "output_type": "stream",
          "name": "stderr",
          "text": [
            "WARNING:tensorflow:Early stopping conditioned on metric `val_metric2` which is not available. Available metrics are: loss,accuracy,val_loss,val_accuracy\n"
          ]
        },
        {
          "output_type": "stream",
          "name": "stdout",
          "text": [
            "\n",
            "Epoch 5: val_accuracy improved from 0.62696 to 0.63323, saving model to MODEL/best_model2.hdf5\n",
            "8/8 [==============================] - 11s 1s/step - loss: 0.5535 - accuracy: 0.6003 - val_loss: 0.5414 - val_accuracy: 0.6332\n",
            "Epoch 6/60\n",
            "8/8 [==============================] - ETA: 0s - loss: 0.5591 - accuracy: 0.6223"
          ]
        },
        {
          "output_type": "stream",
          "name": "stderr",
          "text": [
            "WARNING:tensorflow:Early stopping conditioned on metric `val_metric2` which is not available. Available metrics are: loss,accuracy,val_loss,val_accuracy\n"
          ]
        },
        {
          "output_type": "stream",
          "name": "stdout",
          "text": [
            "\n",
            "Epoch 6: val_accuracy did not improve from 0.63323\n",
            "8/8 [==============================] - 9s 1s/step - loss: 0.5591 - accuracy: 0.6223 - val_loss: 0.5507 - val_accuracy: 0.6113\n",
            "Epoch 7/60\n",
            "8/8 [==============================] - ETA: 0s - loss: 0.5480 - accuracy: 0.6317"
          ]
        },
        {
          "output_type": "stream",
          "name": "stderr",
          "text": [
            "WARNING:tensorflow:Early stopping conditioned on metric `val_metric2` which is not available. Available metrics are: loss,accuracy,val_loss,val_accuracy\n"
          ]
        },
        {
          "output_type": "stream",
          "name": "stdout",
          "text": [
            "\n",
            "Epoch 7: val_accuracy did not improve from 0.63323\n",
            "8/8 [==============================] - 11s 1s/step - loss: 0.5480 - accuracy: 0.6317 - val_loss: 0.5480 - val_accuracy: 0.5956\n",
            "Epoch 8/60\n",
            "8/8 [==============================] - ETA: 0s - loss: 0.5059 - accuracy: 0.6614"
          ]
        },
        {
          "output_type": "stream",
          "name": "stderr",
          "text": [
            "WARNING:tensorflow:Early stopping conditioned on metric `val_metric2` which is not available. Available metrics are: loss,accuracy,val_loss,val_accuracy\n"
          ]
        },
        {
          "output_type": "stream",
          "name": "stdout",
          "text": [
            "\n",
            "Epoch 8: val_accuracy did not improve from 0.63323\n",
            "8/8 [==============================] - 9s 1s/step - loss: 0.5059 - accuracy: 0.6614 - val_loss: 0.5436 - val_accuracy: 0.5956\n",
            "Epoch 9/60\n",
            "8/8 [==============================] - ETA: 0s - loss: 0.4999 - accuracy: 0.6771"
          ]
        },
        {
          "output_type": "stream",
          "name": "stderr",
          "text": [
            "WARNING:tensorflow:Early stopping conditioned on metric `val_metric2` which is not available. Available metrics are: loss,accuracy,val_loss,val_accuracy\n"
          ]
        },
        {
          "output_type": "stream",
          "name": "stdout",
          "text": [
            "\n",
            "Epoch 9: val_accuracy did not improve from 0.63323\n",
            "8/8 [==============================] - 11s 1s/step - loss: 0.4999 - accuracy: 0.6771 - val_loss: 0.5564 - val_accuracy: 0.6019\n",
            "Epoch 10/60\n",
            "8/8 [==============================] - ETA: 0s - loss: 0.4850 - accuracy: 0.6552"
          ]
        },
        {
          "output_type": "stream",
          "name": "stderr",
          "text": [
            "WARNING:tensorflow:Early stopping conditioned on metric `val_metric2` which is not available. Available metrics are: loss,accuracy,val_loss,val_accuracy\n"
          ]
        },
        {
          "output_type": "stream",
          "name": "stdout",
          "text": [
            "\n",
            "Epoch 10: val_accuracy did not improve from 0.63323\n",
            "8/8 [==============================] - 9s 1s/step - loss: 0.4850 - accuracy: 0.6552 - val_loss: 0.5256 - val_accuracy: 0.6113\n",
            "Epoch 11/60\n",
            "8/8 [==============================] - ETA: 0s - loss: 0.4706 - accuracy: 0.7022"
          ]
        },
        {
          "output_type": "stream",
          "name": "stderr",
          "text": [
            "WARNING:tensorflow:Early stopping conditioned on metric `val_metric2` which is not available. Available metrics are: loss,accuracy,val_loss,val_accuracy\n"
          ]
        },
        {
          "output_type": "stream",
          "name": "stdout",
          "text": [
            "\n",
            "Epoch 11: val_accuracy did not improve from 0.63323\n",
            "8/8 [==============================] - 9s 1s/step - loss: 0.4706 - accuracy: 0.7022 - val_loss: 0.5385 - val_accuracy: 0.6176\n",
            "Epoch 12/60\n",
            "8/8 [==============================] - ETA: 0s - loss: 0.4553 - accuracy: 0.7085"
          ]
        },
        {
          "output_type": "stream",
          "name": "stderr",
          "text": [
            "WARNING:tensorflow:Early stopping conditioned on metric `val_metric2` which is not available. Available metrics are: loss,accuracy,val_loss,val_accuracy\n"
          ]
        },
        {
          "output_type": "stream",
          "name": "stdout",
          "text": [
            "\n",
            "Epoch 12: val_accuracy did not improve from 0.63323\n",
            "8/8 [==============================] - 11s 2s/step - loss: 0.4553 - accuracy: 0.7085 - val_loss: 0.5165 - val_accuracy: 0.6144\n",
            "Epoch 13/60\n",
            "8/8 [==============================] - ETA: 0s - loss: 0.4826 - accuracy: 0.6614"
          ]
        },
        {
          "output_type": "stream",
          "name": "stderr",
          "text": [
            "WARNING:tensorflow:Early stopping conditioned on metric `val_metric2` which is not available. Available metrics are: loss,accuracy,val_loss,val_accuracy\n"
          ]
        },
        {
          "output_type": "stream",
          "name": "stdout",
          "text": [
            "\n",
            "Epoch 13: val_accuracy did not improve from 0.63323\n",
            "8/8 [==============================] - 11s 1s/step - loss: 0.4826 - accuracy: 0.6614 - val_loss: 0.5254 - val_accuracy: 0.6238\n",
            "Epoch 14/60\n",
            "8/8 [==============================] - ETA: 0s - loss: 0.4613 - accuracy: 0.7006"
          ]
        },
        {
          "output_type": "stream",
          "name": "stderr",
          "text": [
            "WARNING:tensorflow:Early stopping conditioned on metric `val_metric2` which is not available. Available metrics are: loss,accuracy,val_loss,val_accuracy\n"
          ]
        },
        {
          "output_type": "stream",
          "name": "stdout",
          "text": [
            "\n",
            "Epoch 14: val_accuracy did not improve from 0.63323\n",
            "8/8 [==============================] - 11s 1s/step - loss: 0.4613 - accuracy: 0.7006 - val_loss: 0.5369 - val_accuracy: 0.6082\n",
            "Epoch 15/60\n",
            "8/8 [==============================] - ETA: 0s - loss: 0.4594 - accuracy: 0.6975"
          ]
        },
        {
          "output_type": "stream",
          "name": "stderr",
          "text": [
            "WARNING:tensorflow:Early stopping conditioned on metric `val_metric2` which is not available. Available metrics are: loss,accuracy,val_loss,val_accuracy\n"
          ]
        },
        {
          "output_type": "stream",
          "name": "stdout",
          "text": [
            "\n",
            "Epoch 15: val_accuracy did not improve from 0.63323\n",
            "8/8 [==============================] - 11s 1s/step - loss: 0.4594 - accuracy: 0.6975 - val_loss: 0.5224 - val_accuracy: 0.6113\n",
            "Epoch 16/60\n",
            "8/8 [==============================] - ETA: 0s - loss: 0.4454 - accuracy: 0.7069"
          ]
        },
        {
          "output_type": "stream",
          "name": "stderr",
          "text": [
            "WARNING:tensorflow:Early stopping conditioned on metric `val_metric2` which is not available. Available metrics are: loss,accuracy,val_loss,val_accuracy\n"
          ]
        },
        {
          "output_type": "stream",
          "name": "stdout",
          "text": [
            "\n",
            "Epoch 16: val_accuracy improved from 0.63323 to 0.64577, saving model to MODEL/best_model2.hdf5\n",
            "8/8 [==============================] - 11s 1s/step - loss: 0.4454 - accuracy: 0.7069 - val_loss: 0.5043 - val_accuracy: 0.6458\n",
            "Epoch 17/60\n",
            "8/8 [==============================] - ETA: 0s - loss: 0.4549 - accuracy: 0.6912"
          ]
        },
        {
          "output_type": "stream",
          "name": "stderr",
          "text": [
            "WARNING:tensorflow:Early stopping conditioned on metric `val_metric2` which is not available. Available metrics are: loss,accuracy,val_loss,val_accuracy\n"
          ]
        },
        {
          "output_type": "stream",
          "name": "stdout",
          "text": [
            "\n",
            "Epoch 17: val_accuracy did not improve from 0.64577\n",
            "8/8 [==============================] - 9s 1s/step - loss: 0.4549 - accuracy: 0.6912 - val_loss: 0.5363 - val_accuracy: 0.6207\n",
            "Epoch 18/60\n",
            "8/8 [==============================] - ETA: 0s - loss: 0.4539 - accuracy: 0.7163"
          ]
        },
        {
          "output_type": "stream",
          "name": "stderr",
          "text": [
            "WARNING:tensorflow:Early stopping conditioned on metric `val_metric2` which is not available. Available metrics are: loss,accuracy,val_loss,val_accuracy\n"
          ]
        },
        {
          "output_type": "stream",
          "name": "stdout",
          "text": [
            "\n",
            "Epoch 18: val_accuracy did not improve from 0.64577\n",
            "8/8 [==============================] - 9s 1s/step - loss: 0.4539 - accuracy: 0.7163 - val_loss: 0.5136 - val_accuracy: 0.6301\n",
            "Epoch 19/60\n",
            "8/8 [==============================] - ETA: 0s - loss: 0.4339 - accuracy: 0.7273"
          ]
        },
        {
          "output_type": "stream",
          "name": "stderr",
          "text": [
            "WARNING:tensorflow:Early stopping conditioned on metric `val_metric2` which is not available. Available metrics are: loss,accuracy,val_loss,val_accuracy\n"
          ]
        },
        {
          "output_type": "stream",
          "name": "stdout",
          "text": [
            "\n",
            "Epoch 19: val_accuracy did not improve from 0.64577\n",
            "8/8 [==============================] - 11s 1s/step - loss: 0.4339 - accuracy: 0.7273 - val_loss: 0.5453 - val_accuracy: 0.5862\n",
            "Epoch 20/60\n",
            "8/8 [==============================] - ETA: 0s - loss: 0.3936 - accuracy: 0.7445"
          ]
        },
        {
          "output_type": "stream",
          "name": "stderr",
          "text": [
            "WARNING:tensorflow:Early stopping conditioned on metric `val_metric2` which is not available. Available metrics are: loss,accuracy,val_loss,val_accuracy\n"
          ]
        },
        {
          "output_type": "stream",
          "name": "stdout",
          "text": [
            "\n",
            "Epoch 20: val_accuracy did not improve from 0.64577\n",
            "8/8 [==============================] - 11s 1s/step - loss: 0.3936 - accuracy: 0.7445 - val_loss: 0.5174 - val_accuracy: 0.6176\n",
            "Epoch 21/60\n",
            "8/8 [==============================] - ETA: 0s - loss: 0.4102 - accuracy: 0.7351"
          ]
        },
        {
          "output_type": "stream",
          "name": "stderr",
          "text": [
            "WARNING:tensorflow:Early stopping conditioned on metric `val_metric2` which is not available. Available metrics are: loss,accuracy,val_loss,val_accuracy\n"
          ]
        },
        {
          "output_type": "stream",
          "name": "stdout",
          "text": [
            "\n",
            "Epoch 21: val_accuracy did not improve from 0.64577\n",
            "8/8 [==============================] - 9s 1s/step - loss: 0.4102 - accuracy: 0.7351 - val_loss: 0.5320 - val_accuracy: 0.5987\n",
            "Epoch 22/60\n",
            "8/8 [==============================] - ETA: 0s - loss: 0.3942 - accuracy: 0.7382"
          ]
        },
        {
          "output_type": "stream",
          "name": "stderr",
          "text": [
            "WARNING:tensorflow:Early stopping conditioned on metric `val_metric2` which is not available. Available metrics are: loss,accuracy,val_loss,val_accuracy\n"
          ]
        },
        {
          "output_type": "stream",
          "name": "stdout",
          "text": [
            "\n",
            "Epoch 22: val_accuracy did not improve from 0.64577\n",
            "8/8 [==============================] - 9s 1s/step - loss: 0.3942 - accuracy: 0.7382 - val_loss: 0.5159 - val_accuracy: 0.6458\n",
            "Epoch 23/60\n",
            "8/8 [==============================] - ETA: 0s - loss: 0.4054 - accuracy: 0.7226"
          ]
        },
        {
          "output_type": "stream",
          "name": "stderr",
          "text": [
            "WARNING:tensorflow:Early stopping conditioned on metric `val_metric2` which is not available. Available metrics are: loss,accuracy,val_loss,val_accuracy\n"
          ]
        },
        {
          "output_type": "stream",
          "name": "stdout",
          "text": [
            "\n",
            "Epoch 23: val_accuracy did not improve from 0.64577\n",
            "8/8 [==============================] - 9s 1s/step - loss: 0.4054 - accuracy: 0.7226 - val_loss: 0.5326 - val_accuracy: 0.6144\n",
            "Epoch 24/60\n",
            "8/8 [==============================] - ETA: 0s - loss: 0.3937 - accuracy: 0.7445"
          ]
        },
        {
          "output_type": "stream",
          "name": "stderr",
          "text": [
            "WARNING:tensorflow:Early stopping conditioned on metric `val_metric2` which is not available. Available metrics are: loss,accuracy,val_loss,val_accuracy\n"
          ]
        },
        {
          "output_type": "stream",
          "name": "stdout",
          "text": [
            "\n",
            "Epoch 24: val_accuracy did not improve from 0.64577\n",
            "8/8 [==============================] - 9s 1s/step - loss: 0.3937 - accuracy: 0.7445 - val_loss: 0.5185 - val_accuracy: 0.6176\n",
            "Epoch 25/60\n",
            "8/8 [==============================] - ETA: 0s - loss: 0.3795 - accuracy: 0.7774"
          ]
        },
        {
          "output_type": "stream",
          "name": "stderr",
          "text": [
            "WARNING:tensorflow:Early stopping conditioned on metric `val_metric2` which is not available. Available metrics are: loss,accuracy,val_loss,val_accuracy\n"
          ]
        },
        {
          "output_type": "stream",
          "name": "stdout",
          "text": [
            "\n",
            "Epoch 25: val_accuracy did not improve from 0.64577\n",
            "8/8 [==============================] - 11s 1s/step - loss: 0.3795 - accuracy: 0.7774 - val_loss: 0.5450 - val_accuracy: 0.6082\n",
            "Epoch 26/60\n",
            "8/8 [==============================] - ETA: 0s - loss: 0.3986 - accuracy: 0.7367"
          ]
        },
        {
          "output_type": "stream",
          "name": "stderr",
          "text": [
            "WARNING:tensorflow:Early stopping conditioned on metric `val_metric2` which is not available. Available metrics are: loss,accuracy,val_loss,val_accuracy\n"
          ]
        },
        {
          "output_type": "stream",
          "name": "stdout",
          "text": [
            "\n",
            "Epoch 26: val_accuracy did not improve from 0.64577\n",
            "8/8 [==============================] - 11s 1s/step - loss: 0.3986 - accuracy: 0.7367 - val_loss: 0.5237 - val_accuracy: 0.6113\n",
            "Epoch 27/60\n",
            "8/8 [==============================] - ETA: 0s - loss: 0.3515 - accuracy: 0.7743"
          ]
        },
        {
          "output_type": "stream",
          "name": "stderr",
          "text": [
            "WARNING:tensorflow:Early stopping conditioned on metric `val_metric2` which is not available. Available metrics are: loss,accuracy,val_loss,val_accuracy\n"
          ]
        },
        {
          "output_type": "stream",
          "name": "stdout",
          "text": [
            "\n",
            "Epoch 27: val_accuracy did not improve from 0.64577\n",
            "8/8 [==============================] - 9s 1s/step - loss: 0.3515 - accuracy: 0.7743 - val_loss: 0.5326 - val_accuracy: 0.6301\n",
            "Epoch 28/60\n",
            "8/8 [==============================] - ETA: 0s - loss: 0.3708 - accuracy: 0.7618"
          ]
        },
        {
          "output_type": "stream",
          "name": "stderr",
          "text": [
            "WARNING:tensorflow:Early stopping conditioned on metric `val_metric2` which is not available. Available metrics are: loss,accuracy,val_loss,val_accuracy\n"
          ]
        },
        {
          "output_type": "stream",
          "name": "stdout",
          "text": [
            "\n",
            "Epoch 28: val_accuracy did not improve from 0.64577\n",
            "8/8 [==============================] - 9s 1s/step - loss: 0.3708 - accuracy: 0.7618 - val_loss: 0.5492 - val_accuracy: 0.6050\n",
            "Epoch 29/60\n",
            "8/8 [==============================] - ETA: 0s - loss: 0.3636 - accuracy: 0.7539"
          ]
        },
        {
          "output_type": "stream",
          "name": "stderr",
          "text": [
            "WARNING:tensorflow:Early stopping conditioned on metric `val_metric2` which is not available. Available metrics are: loss,accuracy,val_loss,val_accuracy\n"
          ]
        },
        {
          "output_type": "stream",
          "name": "stdout",
          "text": [
            "\n",
            "Epoch 29: val_accuracy did not improve from 0.64577\n",
            "8/8 [==============================] - 11s 1s/step - loss: 0.3636 - accuracy: 0.7539 - val_loss: 0.5740 - val_accuracy: 0.6050\n",
            "Epoch 30/60\n",
            "8/8 [==============================] - ETA: 0s - loss: 0.3649 - accuracy: 0.7712"
          ]
        },
        {
          "output_type": "stream",
          "name": "stderr",
          "text": [
            "WARNING:tensorflow:Early stopping conditioned on metric `val_metric2` which is not available. Available metrics are: loss,accuracy,val_loss,val_accuracy\n"
          ]
        },
        {
          "output_type": "stream",
          "name": "stdout",
          "text": [
            "\n",
            "Epoch 30: val_accuracy did not improve from 0.64577\n",
            "8/8 [==============================] - 11s 2s/step - loss: 0.3649 - accuracy: 0.7712 - val_loss: 0.5741 - val_accuracy: 0.5987\n",
            "Epoch 31/60\n",
            "8/8 [==============================] - ETA: 0s - loss: 0.3828 - accuracy: 0.7539"
          ]
        },
        {
          "output_type": "stream",
          "name": "stderr",
          "text": [
            "WARNING:tensorflow:Early stopping conditioned on metric `val_metric2` which is not available. Available metrics are: loss,accuracy,val_loss,val_accuracy\n"
          ]
        },
        {
          "output_type": "stream",
          "name": "stdout",
          "text": [
            "\n",
            "Epoch 31: val_accuracy did not improve from 0.64577\n",
            "8/8 [==============================] - 9s 1s/step - loss: 0.3828 - accuracy: 0.7539 - val_loss: 0.6065 - val_accuracy: 0.5862\n",
            "Epoch 32/60\n",
            "8/8 [==============================] - ETA: 0s - loss: 0.3656 - accuracy: 0.7320"
          ]
        },
        {
          "output_type": "stream",
          "name": "stderr",
          "text": [
            "WARNING:tensorflow:Early stopping conditioned on metric `val_metric2` which is not available. Available metrics are: loss,accuracy,val_loss,val_accuracy\n"
          ]
        },
        {
          "output_type": "stream",
          "name": "stdout",
          "text": [
            "\n",
            "Epoch 32: val_accuracy did not improve from 0.64577\n",
            "8/8 [==============================] - 11s 1s/step - loss: 0.3656 - accuracy: 0.7320 - val_loss: 0.5814 - val_accuracy: 0.5925\n",
            "Epoch 33/60\n",
            "8/8 [==============================] - ETA: 0s - loss: 0.3376 - accuracy: 0.7790"
          ]
        },
        {
          "output_type": "stream",
          "name": "stderr",
          "text": [
            "WARNING:tensorflow:Early stopping conditioned on metric `val_metric2` which is not available. Available metrics are: loss,accuracy,val_loss,val_accuracy\n"
          ]
        },
        {
          "output_type": "stream",
          "name": "stdout",
          "text": [
            "\n",
            "Epoch 33: val_accuracy did not improve from 0.64577\n",
            "8/8 [==============================] - 9s 1s/step - loss: 0.3376 - accuracy: 0.7790 - val_loss: 0.5866 - val_accuracy: 0.6082\n",
            "Epoch 34/60\n",
            "8/8 [==============================] - ETA: 0s - loss: 0.3518 - accuracy: 0.7806"
          ]
        },
        {
          "output_type": "stream",
          "name": "stderr",
          "text": [
            "WARNING:tensorflow:Early stopping conditioned on metric `val_metric2` which is not available. Available metrics are: loss,accuracy,val_loss,val_accuracy\n"
          ]
        },
        {
          "output_type": "stream",
          "name": "stdout",
          "text": [
            "\n",
            "Epoch 34: val_accuracy did not improve from 0.64577\n",
            "8/8 [==============================] - 9s 1s/step - loss: 0.3518 - accuracy: 0.7806 - val_loss: 0.6433 - val_accuracy: 0.5987\n",
            "Epoch 35/60\n",
            "8/8 [==============================] - ETA: 0s - loss: 0.3576 - accuracy: 0.7273"
          ]
        },
        {
          "output_type": "stream",
          "name": "stderr",
          "text": [
            "WARNING:tensorflow:Early stopping conditioned on metric `val_metric2` which is not available. Available metrics are: loss,accuracy,val_loss,val_accuracy\n"
          ]
        },
        {
          "output_type": "stream",
          "name": "stdout",
          "text": [
            "\n",
            "Epoch 35: val_accuracy did not improve from 0.64577\n",
            "8/8 [==============================] - 9s 1s/step - loss: 0.3576 - accuracy: 0.7273 - val_loss: 0.6013 - val_accuracy: 0.5987\n",
            "Epoch 36/60\n",
            "8/8 [==============================] - ETA: 0s - loss: 0.3216 - accuracy: 0.7649"
          ]
        },
        {
          "output_type": "stream",
          "name": "stderr",
          "text": [
            "WARNING:tensorflow:Early stopping conditioned on metric `val_metric2` which is not available. Available metrics are: loss,accuracy,val_loss,val_accuracy\n"
          ]
        },
        {
          "output_type": "stream",
          "name": "stdout",
          "text": [
            "\n",
            "Epoch 36: val_accuracy did not improve from 0.64577\n",
            "8/8 [==============================] - 11s 1s/step - loss: 0.3216 - accuracy: 0.7649 - val_loss: 0.6102 - val_accuracy: 0.6019\n",
            "Epoch 37/60\n",
            "8/8 [==============================] - ETA: 0s - loss: 0.3542 - accuracy: 0.7649"
          ]
        },
        {
          "output_type": "stream",
          "name": "stderr",
          "text": [
            "WARNING:tensorflow:Early stopping conditioned on metric `val_metric2` which is not available. Available metrics are: loss,accuracy,val_loss,val_accuracy\n"
          ]
        },
        {
          "output_type": "stream",
          "name": "stdout",
          "text": [
            "\n",
            "Epoch 37: val_accuracy did not improve from 0.64577\n",
            "8/8 [==============================] - 9s 1s/step - loss: 0.3542 - accuracy: 0.7649 - val_loss: 0.6334 - val_accuracy: 0.5956\n",
            "Epoch 38/60\n",
            "8/8 [==============================] - ETA: 0s - loss: 0.3228 - accuracy: 0.7665"
          ]
        },
        {
          "output_type": "stream",
          "name": "stderr",
          "text": [
            "WARNING:tensorflow:Early stopping conditioned on metric `val_metric2` which is not available. Available metrics are: loss,accuracy,val_loss,val_accuracy\n"
          ]
        },
        {
          "output_type": "stream",
          "name": "stdout",
          "text": [
            "\n",
            "Epoch 38: val_accuracy did not improve from 0.64577\n",
            "8/8 [==============================] - 11s 1s/step - loss: 0.3228 - accuracy: 0.7665 - val_loss: 0.6487 - val_accuracy: 0.5987\n",
            "Epoch 39/60\n",
            "8/8 [==============================] - ETA: 0s - loss: 0.3006 - accuracy: 0.7962"
          ]
        },
        {
          "output_type": "stream",
          "name": "stderr",
          "text": [
            "WARNING:tensorflow:Early stopping conditioned on metric `val_metric2` which is not available. Available metrics are: loss,accuracy,val_loss,val_accuracy\n"
          ]
        },
        {
          "output_type": "stream",
          "name": "stdout",
          "text": [
            "\n",
            "Epoch 39: val_accuracy did not improve from 0.64577\n",
            "8/8 [==============================] - 11s 1s/step - loss: 0.3006 - accuracy: 0.7962 - val_loss: 0.6370 - val_accuracy: 0.5956\n",
            "Epoch 40/60\n",
            "8/8 [==============================] - ETA: 0s - loss: 0.3192 - accuracy: 0.7727"
          ]
        },
        {
          "output_type": "stream",
          "name": "stderr",
          "text": [
            "WARNING:tensorflow:Early stopping conditioned on metric `val_metric2` which is not available. Available metrics are: loss,accuracy,val_loss,val_accuracy\n"
          ]
        },
        {
          "output_type": "stream",
          "name": "stdout",
          "text": [
            "\n",
            "Epoch 40: val_accuracy did not improve from 0.64577\n",
            "8/8 [==============================] - 11s 1s/step - loss: 0.3192 - accuracy: 0.7727 - val_loss: 0.6211 - val_accuracy: 0.6113\n",
            "Epoch 41/60\n",
            "8/8 [==============================] - ETA: 0s - loss: 0.3207 - accuracy: 0.7649"
          ]
        },
        {
          "output_type": "stream",
          "name": "stderr",
          "text": [
            "WARNING:tensorflow:Early stopping conditioned on metric `val_metric2` which is not available. Available metrics are: loss,accuracy,val_loss,val_accuracy\n"
          ]
        },
        {
          "output_type": "stream",
          "name": "stdout",
          "text": [
            "\n",
            "Epoch 41: val_accuracy did not improve from 0.64577\n",
            "8/8 [==============================] - 11s 1s/step - loss: 0.3207 - accuracy: 0.7649 - val_loss: 0.6439 - val_accuracy: 0.5893\n",
            "Epoch 42/60\n",
            "8/8 [==============================] - ETA: 0s - loss: 0.2946 - accuracy: 0.8088"
          ]
        },
        {
          "output_type": "stream",
          "name": "stderr",
          "text": [
            "WARNING:tensorflow:Early stopping conditioned on metric `val_metric2` which is not available. Available metrics are: loss,accuracy,val_loss,val_accuracy\n"
          ]
        },
        {
          "output_type": "stream",
          "name": "stdout",
          "text": [
            "\n",
            "Epoch 42: val_accuracy did not improve from 0.64577\n",
            "8/8 [==============================] - 11s 1s/step - loss: 0.2946 - accuracy: 0.8088 - val_loss: 0.6928 - val_accuracy: 0.5925\n",
            "Epoch 43/60\n",
            "8/8 [==============================] - ETA: 0s - loss: 0.3033 - accuracy: 0.7931"
          ]
        },
        {
          "output_type": "stream",
          "name": "stderr",
          "text": [
            "WARNING:tensorflow:Early stopping conditioned on metric `val_metric2` which is not available. Available metrics are: loss,accuracy,val_loss,val_accuracy\n"
          ]
        },
        {
          "output_type": "stream",
          "name": "stdout",
          "text": [
            "\n",
            "Epoch 43: val_accuracy did not improve from 0.64577\n",
            "8/8 [==============================] - 9s 1s/step - loss: 0.3033 - accuracy: 0.7931 - val_loss: 0.6288 - val_accuracy: 0.6082\n",
            "Epoch 44/60\n",
            "8/8 [==============================] - ETA: 0s - loss: 0.3031 - accuracy: 0.7759"
          ]
        },
        {
          "output_type": "stream",
          "name": "stderr",
          "text": [
            "WARNING:tensorflow:Early stopping conditioned on metric `val_metric2` which is not available. Available metrics are: loss,accuracy,val_loss,val_accuracy\n"
          ]
        },
        {
          "output_type": "stream",
          "name": "stdout",
          "text": [
            "\n",
            "Epoch 44: val_accuracy did not improve from 0.64577\n",
            "8/8 [==============================] - 11s 2s/step - loss: 0.3031 - accuracy: 0.7759 - val_loss: 0.6585 - val_accuracy: 0.5831\n",
            "Epoch 45/60\n",
            "8/8 [==============================] - ETA: 0s - loss: 0.3118 - accuracy: 0.8041"
          ]
        },
        {
          "output_type": "stream",
          "name": "stderr",
          "text": [
            "WARNING:tensorflow:Early stopping conditioned on metric `val_metric2` which is not available. Available metrics are: loss,accuracy,val_loss,val_accuracy\n"
          ]
        },
        {
          "output_type": "stream",
          "name": "stdout",
          "text": [
            "\n",
            "Epoch 45: val_accuracy did not improve from 0.64577\n",
            "8/8 [==============================] - 11s 1s/step - loss: 0.3118 - accuracy: 0.8041 - val_loss: 0.6199 - val_accuracy: 0.6270\n",
            "Epoch 46/60\n",
            "8/8 [==============================] - ETA: 0s - loss: 0.3236 - accuracy: 0.7461"
          ]
        },
        {
          "output_type": "stream",
          "name": "stderr",
          "text": [
            "WARNING:tensorflow:Early stopping conditioned on metric `val_metric2` which is not available. Available metrics are: loss,accuracy,val_loss,val_accuracy\n"
          ]
        },
        {
          "output_type": "stream",
          "name": "stdout",
          "text": [
            "\n",
            "Epoch 46: val_accuracy did not improve from 0.64577\n",
            "8/8 [==============================] - 11s 1s/step - loss: 0.3236 - accuracy: 0.7461 - val_loss: 0.6715 - val_accuracy: 0.6270\n",
            "Epoch 47/60\n",
            "8/8 [==============================] - ETA: 0s - loss: 0.2927 - accuracy: 0.7931"
          ]
        },
        {
          "output_type": "stream",
          "name": "stderr",
          "text": [
            "WARNING:tensorflow:Early stopping conditioned on metric `val_metric2` which is not available. Available metrics are: loss,accuracy,val_loss,val_accuracy\n"
          ]
        },
        {
          "output_type": "stream",
          "name": "stdout",
          "text": [
            "\n",
            "Epoch 47: val_accuracy did not improve from 0.64577\n",
            "8/8 [==============================] - 9s 1s/step - loss: 0.2927 - accuracy: 0.7931 - val_loss: 0.6491 - val_accuracy: 0.5893\n",
            "Epoch 48/60\n",
            "8/8 [==============================] - ETA: 0s - loss: 0.3019 - accuracy: 0.7884"
          ]
        },
        {
          "output_type": "stream",
          "name": "stderr",
          "text": [
            "WARNING:tensorflow:Early stopping conditioned on metric `val_metric2` which is not available. Available metrics are: loss,accuracy,val_loss,val_accuracy\n"
          ]
        },
        {
          "output_type": "stream",
          "name": "stdout",
          "text": [
            "\n",
            "Epoch 48: val_accuracy did not improve from 0.64577\n",
            "8/8 [==============================] - 9s 1s/step - loss: 0.3019 - accuracy: 0.7884 - val_loss: 0.6413 - val_accuracy: 0.5799\n",
            "Epoch 49/60\n",
            "8/8 [==============================] - ETA: 0s - loss: 0.2977 - accuracy: 0.7994"
          ]
        },
        {
          "output_type": "stream",
          "name": "stderr",
          "text": [
            "WARNING:tensorflow:Early stopping conditioned on metric `val_metric2` which is not available. Available metrics are: loss,accuracy,val_loss,val_accuracy\n"
          ]
        },
        {
          "output_type": "stream",
          "name": "stdout",
          "text": [
            "\n",
            "Epoch 49: val_accuracy did not improve from 0.64577\n",
            "8/8 [==============================] - 11s 2s/step - loss: 0.2977 - accuracy: 0.7994 - val_loss: 0.6772 - val_accuracy: 0.6270\n",
            "Epoch 50/60\n",
            "8/8 [==============================] - ETA: 0s - loss: 0.2922 - accuracy: 0.7915"
          ]
        },
        {
          "output_type": "stream",
          "name": "stderr",
          "text": [
            "WARNING:tensorflow:Early stopping conditioned on metric `val_metric2` which is not available. Available metrics are: loss,accuracy,val_loss,val_accuracy\n"
          ]
        },
        {
          "output_type": "stream",
          "name": "stdout",
          "text": [
            "\n",
            "Epoch 50: val_accuracy did not improve from 0.64577\n",
            "8/8 [==============================] - 9s 1s/step - loss: 0.2922 - accuracy: 0.7915 - val_loss: 0.6558 - val_accuracy: 0.6207\n",
            "Epoch 51/60\n",
            "8/8 [==============================] - ETA: 0s - loss: 0.2977 - accuracy: 0.8072"
          ]
        },
        {
          "output_type": "stream",
          "name": "stderr",
          "text": [
            "WARNING:tensorflow:Early stopping conditioned on metric `val_metric2` which is not available. Available metrics are: loss,accuracy,val_loss,val_accuracy\n"
          ]
        },
        {
          "output_type": "stream",
          "name": "stdout",
          "text": [
            "\n",
            "Epoch 51: val_accuracy did not improve from 0.64577\n",
            "8/8 [==============================] - 11s 1s/step - loss: 0.2977 - accuracy: 0.8072 - val_loss: 0.7190 - val_accuracy: 0.6082\n",
            "Epoch 52/60\n",
            "8/8 [==============================] - ETA: 0s - loss: 0.2829 - accuracy: 0.8056"
          ]
        },
        {
          "output_type": "stream",
          "name": "stderr",
          "text": [
            "WARNING:tensorflow:Early stopping conditioned on metric `val_metric2` which is not available. Available metrics are: loss,accuracy,val_loss,val_accuracy\n"
          ]
        },
        {
          "output_type": "stream",
          "name": "stdout",
          "text": [
            "\n",
            "Epoch 52: val_accuracy did not improve from 0.64577\n",
            "8/8 [==============================] - 9s 1s/step - loss: 0.2829 - accuracy: 0.8056 - val_loss: 0.6823 - val_accuracy: 0.6207\n",
            "Epoch 53/60\n",
            "8/8 [==============================] - ETA: 0s - loss: 0.2509 - accuracy: 0.8213"
          ]
        },
        {
          "output_type": "stream",
          "name": "stderr",
          "text": [
            "WARNING:tensorflow:Early stopping conditioned on metric `val_metric2` which is not available. Available metrics are: loss,accuracy,val_loss,val_accuracy\n"
          ]
        },
        {
          "output_type": "stream",
          "name": "stdout",
          "text": [
            "\n",
            "Epoch 53: val_accuracy did not improve from 0.64577\n",
            "8/8 [==============================] - 9s 1s/step - loss: 0.2509 - accuracy: 0.8213 - val_loss: 0.6787 - val_accuracy: 0.6113\n",
            "Epoch 54/60\n",
            "8/8 [==============================] - ETA: 0s - loss: 0.2872 - accuracy: 0.8119"
          ]
        },
        {
          "output_type": "stream",
          "name": "stderr",
          "text": [
            "WARNING:tensorflow:Early stopping conditioned on metric `val_metric2` which is not available. Available metrics are: loss,accuracy,val_loss,val_accuracy\n"
          ]
        },
        {
          "output_type": "stream",
          "name": "stdout",
          "text": [
            "\n",
            "Epoch 54: val_accuracy did not improve from 0.64577\n",
            "8/8 [==============================] - 9s 1s/step - loss: 0.2872 - accuracy: 0.8119 - val_loss: 0.7695 - val_accuracy: 0.6113\n",
            "Epoch 55/60\n",
            "8/8 [==============================] - ETA: 0s - loss: 0.2664 - accuracy: 0.7994"
          ]
        },
        {
          "output_type": "stream",
          "name": "stderr",
          "text": [
            "WARNING:tensorflow:Early stopping conditioned on metric `val_metric2` which is not available. Available metrics are: loss,accuracy,val_loss,val_accuracy\n"
          ]
        },
        {
          "output_type": "stream",
          "name": "stdout",
          "text": [
            "\n",
            "Epoch 55: val_accuracy did not improve from 0.64577\n",
            "8/8 [==============================] - 11s 1s/step - loss: 0.2664 - accuracy: 0.7994 - val_loss: 0.7055 - val_accuracy: 0.6019\n",
            "Epoch 56/60\n",
            "8/8 [==============================] - ETA: 0s - loss: 0.2417 - accuracy: 0.8041"
          ]
        },
        {
          "output_type": "stream",
          "name": "stderr",
          "text": [
            "WARNING:tensorflow:Early stopping conditioned on metric `val_metric2` which is not available. Available metrics are: loss,accuracy,val_loss,val_accuracy\n"
          ]
        },
        {
          "output_type": "stream",
          "name": "stdout",
          "text": [
            "\n",
            "Epoch 56: val_accuracy did not improve from 0.64577\n",
            "8/8 [==============================] - 9s 1s/step - loss: 0.2417 - accuracy: 0.8041 - val_loss: 0.7246 - val_accuracy: 0.6144\n",
            "Epoch 57/60\n",
            "8/8 [==============================] - ETA: 0s - loss: 0.2459 - accuracy: 0.8041"
          ]
        },
        {
          "output_type": "stream",
          "name": "stderr",
          "text": [
            "WARNING:tensorflow:Early stopping conditioned on metric `val_metric2` which is not available. Available metrics are: loss,accuracy,val_loss,val_accuracy\n"
          ]
        },
        {
          "output_type": "stream",
          "name": "stdout",
          "text": [
            "\n",
            "Epoch 57: val_accuracy did not improve from 0.64577\n",
            "8/8 [==============================] - 11s 1s/step - loss: 0.2459 - accuracy: 0.8041 - val_loss: 0.7178 - val_accuracy: 0.5987\n",
            "Epoch 58/60\n",
            "8/8 [==============================] - ETA: 0s - loss: 0.2590 - accuracy: 0.8260"
          ]
        },
        {
          "output_type": "stream",
          "name": "stderr",
          "text": [
            "WARNING:tensorflow:Early stopping conditioned on metric `val_metric2` which is not available. Available metrics are: loss,accuracy,val_loss,val_accuracy\n"
          ]
        },
        {
          "output_type": "stream",
          "name": "stdout",
          "text": [
            "\n",
            "Epoch 58: val_accuracy did not improve from 0.64577\n",
            "8/8 [==============================] - 11s 1s/step - loss: 0.2590 - accuracy: 0.8260 - val_loss: 0.8254 - val_accuracy: 0.5486\n",
            "Epoch 59/60\n",
            "8/8 [==============================] - ETA: 0s - loss: 0.2978 - accuracy: 0.8213"
          ]
        },
        {
          "output_type": "stream",
          "name": "stderr",
          "text": [
            "WARNING:tensorflow:Early stopping conditioned on metric `val_metric2` which is not available. Available metrics are: loss,accuracy,val_loss,val_accuracy\n"
          ]
        },
        {
          "output_type": "stream",
          "name": "stdout",
          "text": [
            "\n",
            "Epoch 59: val_accuracy did not improve from 0.64577\n",
            "8/8 [==============================] - 11s 1s/step - loss: 0.2978 - accuracy: 0.8213 - val_loss: 0.6809 - val_accuracy: 0.6176\n",
            "Epoch 60/60\n",
            "8/8 [==============================] - ETA: 0s - loss: 0.2506 - accuracy: 0.8103"
          ]
        },
        {
          "output_type": "stream",
          "name": "stderr",
          "text": [
            "WARNING:tensorflow:Early stopping conditioned on metric `val_metric2` which is not available. Available metrics are: loss,accuracy,val_loss,val_accuracy\n"
          ]
        },
        {
          "output_type": "stream",
          "name": "stdout",
          "text": [
            "\n",
            "Epoch 60: val_accuracy did not improve from 0.64577\n",
            "8/8 [==============================] - 9s 1s/step - loss: 0.2506 - accuracy: 0.8103 - val_loss: 0.6878 - val_accuracy: 0.6270\n",
            "\n",
            "Training model 3...\n",
            "Epoch 1/60\n",
            "8/8 [==============================] - ETA: 0s - loss: 0.7109 - accuracy: 0.5157"
          ]
        },
        {
          "output_type": "stream",
          "name": "stderr",
          "text": [
            "WARNING:tensorflow:Early stopping conditioned on metric `val_metric2` which is not available. Available metrics are: loss,accuracy,val_loss,val_accuracy\n"
          ]
        },
        {
          "output_type": "stream",
          "name": "stdout",
          "text": [
            "\n",
            "Epoch 1: val_accuracy improved from -inf to 0.52351, saving model to MODEL/best_model3.hdf5\n",
            "8/8 [==============================] - 28s 2s/step - loss: 0.7109 - accuracy: 0.5157 - val_loss: 0.5867 - val_accuracy: 0.5235\n",
            "Epoch 2/60\n",
            "8/8 [==============================] - ETA: 0s - loss: 0.6269 - accuracy: 0.5925"
          ]
        },
        {
          "output_type": "stream",
          "name": "stderr",
          "text": [
            "WARNING:tensorflow:Early stopping conditioned on metric `val_metric2` which is not available. Available metrics are: loss,accuracy,val_loss,val_accuracy\n"
          ]
        },
        {
          "output_type": "stream",
          "name": "stdout",
          "text": [
            "\n",
            "Epoch 2: val_accuracy did not improve from 0.52351\n",
            "8/8 [==============================] - 11s 2s/step - loss: 0.6269 - accuracy: 0.5925 - val_loss: 0.6469 - val_accuracy: 0.3605\n",
            "Epoch 3/60\n",
            "8/8 [==============================] - ETA: 0s - loss: 0.5673 - accuracy: 0.6113"
          ]
        },
        {
          "output_type": "stream",
          "name": "stderr",
          "text": [
            "WARNING:tensorflow:Early stopping conditioned on metric `val_metric2` which is not available. Available metrics are: loss,accuracy,val_loss,val_accuracy\n"
          ]
        },
        {
          "output_type": "stream",
          "name": "stdout",
          "text": [
            "\n",
            "Epoch 3: val_accuracy did not improve from 0.52351\n",
            "8/8 [==============================] - 11s 2s/step - loss: 0.5673 - accuracy: 0.6113 - val_loss: 0.7036 - val_accuracy: 0.3197\n",
            "Epoch 4/60\n",
            "8/8 [==============================] - ETA: 0s - loss: 0.5558 - accuracy: 0.6034"
          ]
        },
        {
          "output_type": "stream",
          "name": "stderr",
          "text": [
            "WARNING:tensorflow:Early stopping conditioned on metric `val_metric2` which is not available. Available metrics are: loss,accuracy,val_loss,val_accuracy\n"
          ]
        },
        {
          "output_type": "stream",
          "name": "stdout",
          "text": [
            "\n",
            "Epoch 4: val_accuracy did not improve from 0.52351\n",
            "8/8 [==============================] - 9s 1s/step - loss: 0.5558 - accuracy: 0.6034 - val_loss: 0.6303 - val_accuracy: 0.5204\n",
            "Epoch 5/60\n",
            "8/8 [==============================] - ETA: 0s - loss: 0.5736 - accuracy: 0.5893"
          ]
        },
        {
          "output_type": "stream",
          "name": "stderr",
          "text": [
            "WARNING:tensorflow:Early stopping conditioned on metric `val_metric2` which is not available. Available metrics are: loss,accuracy,val_loss,val_accuracy\n"
          ]
        },
        {
          "output_type": "stream",
          "name": "stdout",
          "text": [
            "\n",
            "Epoch 5: val_accuracy did not improve from 0.52351\n",
            "8/8 [==============================] - 11s 2s/step - loss: 0.5736 - accuracy: 0.5893 - val_loss: 0.5961 - val_accuracy: 0.4922\n",
            "Epoch 6/60\n",
            "8/8 [==============================] - ETA: 0s - loss: 0.5413 - accuracy: 0.6317"
          ]
        },
        {
          "output_type": "stream",
          "name": "stderr",
          "text": [
            "WARNING:tensorflow:Early stopping conditioned on metric `val_metric2` which is not available. Available metrics are: loss,accuracy,val_loss,val_accuracy\n"
          ]
        },
        {
          "output_type": "stream",
          "name": "stdout",
          "text": [
            "\n",
            "Epoch 6: val_accuracy did not improve from 0.52351\n",
            "8/8 [==============================] - 11s 1s/step - loss: 0.5413 - accuracy: 0.6317 - val_loss: 0.6638 - val_accuracy: 0.4232\n",
            "Epoch 7/60\n",
            "8/8 [==============================] - ETA: 0s - loss: 0.5048 - accuracy: 0.6661"
          ]
        },
        {
          "output_type": "stream",
          "name": "stderr",
          "text": [
            "WARNING:tensorflow:Early stopping conditioned on metric `val_metric2` which is not available. Available metrics are: loss,accuracy,val_loss,val_accuracy\n"
          ]
        },
        {
          "output_type": "stream",
          "name": "stdout",
          "text": [
            "\n",
            "Epoch 7: val_accuracy did not improve from 0.52351\n",
            "8/8 [==============================] - 9s 1s/step - loss: 0.5048 - accuracy: 0.6661 - val_loss: 0.5896 - val_accuracy: 0.5141\n",
            "Epoch 8/60\n",
            "8/8 [==============================] - ETA: 0s - loss: 0.5102 - accuracy: 0.6552"
          ]
        },
        {
          "output_type": "stream",
          "name": "stderr",
          "text": [
            "WARNING:tensorflow:Early stopping conditioned on metric `val_metric2` which is not available. Available metrics are: loss,accuracy,val_loss,val_accuracy\n"
          ]
        },
        {
          "output_type": "stream",
          "name": "stdout",
          "text": [
            "\n",
            "Epoch 8: val_accuracy did not improve from 0.52351\n",
            "8/8 [==============================] - 9s 1s/step - loss: 0.5102 - accuracy: 0.6552 - val_loss: 0.6515 - val_accuracy: 0.4483\n",
            "Epoch 9/60\n",
            "8/8 [==============================] - ETA: 0s - loss: 0.5163 - accuracy: 0.6426"
          ]
        },
        {
          "output_type": "stream",
          "name": "stderr",
          "text": [
            "WARNING:tensorflow:Early stopping conditioned on metric `val_metric2` which is not available. Available metrics are: loss,accuracy,val_loss,val_accuracy\n"
          ]
        },
        {
          "output_type": "stream",
          "name": "stdout",
          "text": [
            "\n",
            "Epoch 9: val_accuracy did not improve from 0.52351\n",
            "8/8 [==============================] - 11s 1s/step - loss: 0.5163 - accuracy: 0.6426 - val_loss: 0.6079 - val_accuracy: 0.5078\n",
            "Epoch 10/60\n",
            "8/8 [==============================] - ETA: 0s - loss: 0.4746 - accuracy: 0.6834"
          ]
        },
        {
          "output_type": "stream",
          "name": "stderr",
          "text": [
            "WARNING:tensorflow:Early stopping conditioned on metric `val_metric2` which is not available. Available metrics are: loss,accuracy,val_loss,val_accuracy\n"
          ]
        },
        {
          "output_type": "stream",
          "name": "stdout",
          "text": [
            "\n",
            "Epoch 10: val_accuracy did not improve from 0.52351\n",
            "8/8 [==============================] - 11s 1s/step - loss: 0.4746 - accuracy: 0.6834 - val_loss: 0.6286 - val_accuracy: 0.5141\n",
            "Epoch 11/60\n",
            "8/8 [==============================] - ETA: 0s - loss: 0.4689 - accuracy: 0.6740"
          ]
        },
        {
          "output_type": "stream",
          "name": "stderr",
          "text": [
            "WARNING:tensorflow:Early stopping conditioned on metric `val_metric2` which is not available. Available metrics are: loss,accuracy,val_loss,val_accuracy\n"
          ]
        },
        {
          "output_type": "stream",
          "name": "stdout",
          "text": [
            "\n",
            "Epoch 11: val_accuracy did not improve from 0.52351\n",
            "8/8 [==============================] - 11s 2s/step - loss: 0.4689 - accuracy: 0.6740 - val_loss: 0.6636 - val_accuracy: 0.4734\n",
            "Epoch 12/60\n",
            "8/8 [==============================] - ETA: 0s - loss: 0.4972 - accuracy: 0.6489"
          ]
        },
        {
          "output_type": "stream",
          "name": "stderr",
          "text": [
            "WARNING:tensorflow:Early stopping conditioned on metric `val_metric2` which is not available. Available metrics are: loss,accuracy,val_loss,val_accuracy\n"
          ]
        },
        {
          "output_type": "stream",
          "name": "stdout",
          "text": [
            "\n",
            "Epoch 12: val_accuracy improved from 0.52351 to 0.57367, saving model to MODEL/best_model3.hdf5\n",
            "8/8 [==============================] - 13s 2s/step - loss: 0.4972 - accuracy: 0.6489 - val_loss: 0.5631 - val_accuracy: 0.5737\n",
            "Epoch 13/60\n",
            "8/8 [==============================] - ETA: 0s - loss: 0.4557 - accuracy: 0.6881"
          ]
        },
        {
          "output_type": "stream",
          "name": "stderr",
          "text": [
            "WARNING:tensorflow:Early stopping conditioned on metric `val_metric2` which is not available. Available metrics are: loss,accuracy,val_loss,val_accuracy\n"
          ]
        },
        {
          "output_type": "stream",
          "name": "stdout",
          "text": [
            "\n",
            "Epoch 13: val_accuracy did not improve from 0.57367\n",
            "8/8 [==============================] - 9s 1s/step - loss: 0.4557 - accuracy: 0.6881 - val_loss: 0.6217 - val_accuracy: 0.5266\n",
            "Epoch 14/60\n",
            "8/8 [==============================] - ETA: 0s - loss: 0.4515 - accuracy: 0.6708"
          ]
        },
        {
          "output_type": "stream",
          "name": "stderr",
          "text": [
            "WARNING:tensorflow:Early stopping conditioned on metric `val_metric2` which is not available. Available metrics are: loss,accuracy,val_loss,val_accuracy\n"
          ]
        },
        {
          "output_type": "stream",
          "name": "stdout",
          "text": [
            "\n",
            "Epoch 14: val_accuracy did not improve from 0.57367\n",
            "8/8 [==============================] - 9s 1s/step - loss: 0.4515 - accuracy: 0.6708 - val_loss: 0.5649 - val_accuracy: 0.5110\n",
            "Epoch 15/60\n",
            "8/8 [==============================] - ETA: 0s - loss: 0.4513 - accuracy: 0.7194"
          ]
        },
        {
          "output_type": "stream",
          "name": "stderr",
          "text": [
            "WARNING:tensorflow:Early stopping conditioned on metric `val_metric2` which is not available. Available metrics are: loss,accuracy,val_loss,val_accuracy\n"
          ]
        },
        {
          "output_type": "stream",
          "name": "stdout",
          "text": [
            "\n",
            "Epoch 15: val_accuracy did not improve from 0.57367\n",
            "8/8 [==============================] - 9s 1s/step - loss: 0.4513 - accuracy: 0.7194 - val_loss: 0.6225 - val_accuracy: 0.5235\n",
            "Epoch 16/60\n",
            "8/8 [==============================] - ETA: 0s - loss: 0.4498 - accuracy: 0.6834"
          ]
        },
        {
          "output_type": "stream",
          "name": "stderr",
          "text": [
            "WARNING:tensorflow:Early stopping conditioned on metric `val_metric2` which is not available. Available metrics are: loss,accuracy,val_loss,val_accuracy\n"
          ]
        },
        {
          "output_type": "stream",
          "name": "stdout",
          "text": [
            "\n",
            "Epoch 16: val_accuracy did not improve from 0.57367\n",
            "8/8 [==============================] - 9s 1s/step - loss: 0.4498 - accuracy: 0.6834 - val_loss: 0.6248 - val_accuracy: 0.5611\n",
            "Epoch 17/60\n",
            "8/8 [==============================] - ETA: 0s - loss: 0.4293 - accuracy: 0.7022"
          ]
        },
        {
          "output_type": "stream",
          "name": "stderr",
          "text": [
            "WARNING:tensorflow:Early stopping conditioned on metric `val_metric2` which is not available. Available metrics are: loss,accuracy,val_loss,val_accuracy\n"
          ]
        },
        {
          "output_type": "stream",
          "name": "stdout",
          "text": [
            "\n",
            "Epoch 17: val_accuracy did not improve from 0.57367\n",
            "8/8 [==============================] - 11s 1s/step - loss: 0.4293 - accuracy: 0.7022 - val_loss: 0.5610 - val_accuracy: 0.5643\n",
            "Epoch 18/60\n",
            "8/8 [==============================] - ETA: 0s - loss: 0.4398 - accuracy: 0.7241"
          ]
        },
        {
          "output_type": "stream",
          "name": "stderr",
          "text": [
            "WARNING:tensorflow:Early stopping conditioned on metric `val_metric2` which is not available. Available metrics are: loss,accuracy,val_loss,val_accuracy\n"
          ]
        },
        {
          "output_type": "stream",
          "name": "stdout",
          "text": [
            "\n",
            "Epoch 18: val_accuracy did not improve from 0.57367\n",
            "8/8 [==============================] - 9s 1s/step - loss: 0.4398 - accuracy: 0.7241 - val_loss: 0.5733 - val_accuracy: 0.5611\n",
            "Epoch 19/60\n",
            "8/8 [==============================] - ETA: 0s - loss: 0.4141 - accuracy: 0.7147"
          ]
        },
        {
          "output_type": "stream",
          "name": "stderr",
          "text": [
            "WARNING:tensorflow:Early stopping conditioned on metric `val_metric2` which is not available. Available metrics are: loss,accuracy,val_loss,val_accuracy\n"
          ]
        },
        {
          "output_type": "stream",
          "name": "stdout",
          "text": [
            "\n",
            "Epoch 19: val_accuracy improved from 0.57367 to 0.58307, saving model to MODEL/best_model3.hdf5\n",
            "8/8 [==============================] - 11s 1s/step - loss: 0.4141 - accuracy: 0.7147 - val_loss: 0.5708 - val_accuracy: 0.5831\n",
            "Epoch 20/60\n",
            "8/8 [==============================] - ETA: 0s - loss: 0.4216 - accuracy: 0.7288"
          ]
        },
        {
          "output_type": "stream",
          "name": "stderr",
          "text": [
            "WARNING:tensorflow:Early stopping conditioned on metric `val_metric2` which is not available. Available metrics are: loss,accuracy,val_loss,val_accuracy\n"
          ]
        },
        {
          "output_type": "stream",
          "name": "stdout",
          "text": [
            "\n",
            "Epoch 20: val_accuracy did not improve from 0.58307\n",
            "8/8 [==============================] - 11s 1s/step - loss: 0.4216 - accuracy: 0.7288 - val_loss: 0.6080 - val_accuracy: 0.4922\n",
            "Epoch 21/60\n",
            "8/8 [==============================] - ETA: 0s - loss: 0.3857 - accuracy: 0.7163"
          ]
        },
        {
          "output_type": "stream",
          "name": "stderr",
          "text": [
            "WARNING:tensorflow:Early stopping conditioned on metric `val_metric2` which is not available. Available metrics are: loss,accuracy,val_loss,val_accuracy\n"
          ]
        },
        {
          "output_type": "stream",
          "name": "stdout",
          "text": [
            "\n",
            "Epoch 21: val_accuracy did not improve from 0.58307\n",
            "8/8 [==============================] - 11s 1s/step - loss: 0.3857 - accuracy: 0.7163 - val_loss: 0.5707 - val_accuracy: 0.5737\n",
            "Epoch 22/60\n",
            "8/8 [==============================] - ETA: 0s - loss: 0.4008 - accuracy: 0.7241"
          ]
        },
        {
          "output_type": "stream",
          "name": "stderr",
          "text": [
            "WARNING:tensorflow:Early stopping conditioned on metric `val_metric2` which is not available. Available metrics are: loss,accuracy,val_loss,val_accuracy\n"
          ]
        },
        {
          "output_type": "stream",
          "name": "stdout",
          "text": [
            "\n",
            "Epoch 22: val_accuracy did not improve from 0.58307\n",
            "8/8 [==============================] - 9s 1s/step - loss: 0.4008 - accuracy: 0.7241 - val_loss: 0.5884 - val_accuracy: 0.5737\n",
            "Epoch 23/60\n",
            "8/8 [==============================] - ETA: 0s - loss: 0.3978 - accuracy: 0.7461"
          ]
        },
        {
          "output_type": "stream",
          "name": "stderr",
          "text": [
            "WARNING:tensorflow:Early stopping conditioned on metric `val_metric2` which is not available. Available metrics are: loss,accuracy,val_loss,val_accuracy\n"
          ]
        },
        {
          "output_type": "stream",
          "name": "stdout",
          "text": [
            "\n",
            "Epoch 23: val_accuracy did not improve from 0.58307\n",
            "8/8 [==============================] - 11s 1s/step - loss: 0.3978 - accuracy: 0.7461 - val_loss: 0.6308 - val_accuracy: 0.4890\n",
            "Epoch 24/60\n",
            "8/8 [==============================] - ETA: 0s - loss: 0.4085 - accuracy: 0.7085"
          ]
        },
        {
          "output_type": "stream",
          "name": "stderr",
          "text": [
            "WARNING:tensorflow:Early stopping conditioned on metric `val_metric2` which is not available. Available metrics are: loss,accuracy,val_loss,val_accuracy\n"
          ]
        },
        {
          "output_type": "stream",
          "name": "stdout",
          "text": [
            "\n",
            "Epoch 24: val_accuracy improved from 0.58307 to 0.61129, saving model to MODEL/best_model3.hdf5\n",
            "8/8 [==============================] - 11s 1s/step - loss: 0.4085 - accuracy: 0.7085 - val_loss: 0.5726 - val_accuracy: 0.6113\n",
            "Epoch 25/60\n",
            "8/8 [==============================] - ETA: 0s - loss: 0.4063 - accuracy: 0.7194"
          ]
        },
        {
          "output_type": "stream",
          "name": "stderr",
          "text": [
            "WARNING:tensorflow:Early stopping conditioned on metric `val_metric2` which is not available. Available metrics are: loss,accuracy,val_loss,val_accuracy\n"
          ]
        },
        {
          "output_type": "stream",
          "name": "stdout",
          "text": [
            "\n",
            "Epoch 25: val_accuracy did not improve from 0.61129\n",
            "8/8 [==============================] - 11s 1s/step - loss: 0.4063 - accuracy: 0.7194 - val_loss: 0.5792 - val_accuracy: 0.5643\n",
            "Epoch 26/60\n",
            "8/8 [==============================] - ETA: 0s - loss: 0.3688 - accuracy: 0.7539"
          ]
        },
        {
          "output_type": "stream",
          "name": "stderr",
          "text": [
            "WARNING:tensorflow:Early stopping conditioned on metric `val_metric2` which is not available. Available metrics are: loss,accuracy,val_loss,val_accuracy\n"
          ]
        },
        {
          "output_type": "stream",
          "name": "stdout",
          "text": [
            "\n",
            "Epoch 26: val_accuracy did not improve from 0.61129\n",
            "8/8 [==============================] - 9s 1s/step - loss: 0.3688 - accuracy: 0.7539 - val_loss: 0.5917 - val_accuracy: 0.5580\n",
            "Epoch 27/60\n",
            "8/8 [==============================] - ETA: 0s - loss: 0.3766 - accuracy: 0.7649"
          ]
        },
        {
          "output_type": "stream",
          "name": "stderr",
          "text": [
            "WARNING:tensorflow:Early stopping conditioned on metric `val_metric2` which is not available. Available metrics are: loss,accuracy,val_loss,val_accuracy\n"
          ]
        },
        {
          "output_type": "stream",
          "name": "stdout",
          "text": [
            "\n",
            "Epoch 27: val_accuracy did not improve from 0.61129\n",
            "8/8 [==============================] - 11s 1s/step - loss: 0.3766 - accuracy: 0.7649 - val_loss: 0.5937 - val_accuracy: 0.5768\n",
            "Epoch 28/60\n",
            "8/8 [==============================] - ETA: 0s - loss: 0.3687 - accuracy: 0.7524"
          ]
        },
        {
          "output_type": "stream",
          "name": "stderr",
          "text": [
            "WARNING:tensorflow:Early stopping conditioned on metric `val_metric2` which is not available. Available metrics are: loss,accuracy,val_loss,val_accuracy\n"
          ]
        },
        {
          "output_type": "stream",
          "name": "stdout",
          "text": [
            "\n",
            "Epoch 28: val_accuracy did not improve from 0.61129\n",
            "8/8 [==============================] - 9s 1s/step - loss: 0.3687 - accuracy: 0.7524 - val_loss: 0.6473 - val_accuracy: 0.5580\n",
            "Epoch 29/60\n",
            "8/8 [==============================] - ETA: 0s - loss: 0.3333 - accuracy: 0.7759"
          ]
        },
        {
          "output_type": "stream",
          "name": "stderr",
          "text": [
            "WARNING:tensorflow:Early stopping conditioned on metric `val_metric2` which is not available. Available metrics are: loss,accuracy,val_loss,val_accuracy\n"
          ]
        },
        {
          "output_type": "stream",
          "name": "stdout",
          "text": [
            "\n",
            "Epoch 29: val_accuracy improved from 0.61129 to 0.61442, saving model to MODEL/best_model3.hdf5\n",
            "8/8 [==============================] - 13s 2s/step - loss: 0.3333 - accuracy: 0.7759 - val_loss: 0.5865 - val_accuracy: 0.6144\n",
            "Epoch 30/60\n",
            "8/8 [==============================] - ETA: 0s - loss: 0.3385 - accuracy: 0.7821"
          ]
        },
        {
          "output_type": "stream",
          "name": "stderr",
          "text": [
            "WARNING:tensorflow:Early stopping conditioned on metric `val_metric2` which is not available. Available metrics are: loss,accuracy,val_loss,val_accuracy\n"
          ]
        },
        {
          "output_type": "stream",
          "name": "stdout",
          "text": [
            "\n",
            "Epoch 30: val_accuracy did not improve from 0.61442\n",
            "8/8 [==============================] - 9s 1s/step - loss: 0.3385 - accuracy: 0.7821 - val_loss: 0.7052 - val_accuracy: 0.5611\n",
            "Epoch 31/60\n",
            "8/8 [==============================] - ETA: 0s - loss: 0.3582 - accuracy: 0.7743"
          ]
        },
        {
          "output_type": "stream",
          "name": "stderr",
          "text": [
            "WARNING:tensorflow:Early stopping conditioned on metric `val_metric2` which is not available. Available metrics are: loss,accuracy,val_loss,val_accuracy\n"
          ]
        },
        {
          "output_type": "stream",
          "name": "stdout",
          "text": [
            "\n",
            "Epoch 31: val_accuracy did not improve from 0.61442\n",
            "8/8 [==============================] - 11s 1s/step - loss: 0.3582 - accuracy: 0.7743 - val_loss: 0.6507 - val_accuracy: 0.5549\n",
            "Epoch 32/60\n",
            "8/8 [==============================] - ETA: 0s - loss: 0.3535 - accuracy: 0.7759"
          ]
        },
        {
          "output_type": "stream",
          "name": "stderr",
          "text": [
            "WARNING:tensorflow:Early stopping conditioned on metric `val_metric2` which is not available. Available metrics are: loss,accuracy,val_loss,val_accuracy\n"
          ]
        },
        {
          "output_type": "stream",
          "name": "stdout",
          "text": [
            "\n",
            "Epoch 32: val_accuracy did not improve from 0.61442\n",
            "8/8 [==============================] - 9s 1s/step - loss: 0.3535 - accuracy: 0.7759 - val_loss: 0.6135 - val_accuracy: 0.5674\n",
            "Epoch 33/60\n",
            "8/8 [==============================] - ETA: 0s - loss: 0.3179 - accuracy: 0.7962"
          ]
        },
        {
          "output_type": "stream",
          "name": "stderr",
          "text": [
            "WARNING:tensorflow:Early stopping conditioned on metric `val_metric2` which is not available. Available metrics are: loss,accuracy,val_loss,val_accuracy\n"
          ]
        },
        {
          "output_type": "stream",
          "name": "stdout",
          "text": [
            "\n",
            "Epoch 33: val_accuracy did not improve from 0.61442\n",
            "8/8 [==============================] - 9s 1s/step - loss: 0.3179 - accuracy: 0.7962 - val_loss: 0.6311 - val_accuracy: 0.5987\n",
            "Epoch 34/60\n",
            "8/8 [==============================] - ETA: 0s - loss: 0.3647 - accuracy: 0.7304"
          ]
        },
        {
          "output_type": "stream",
          "name": "stderr",
          "text": [
            "WARNING:tensorflow:Early stopping conditioned on metric `val_metric2` which is not available. Available metrics are: loss,accuracy,val_loss,val_accuracy\n"
          ]
        },
        {
          "output_type": "stream",
          "name": "stdout",
          "text": [
            "\n",
            "Epoch 34: val_accuracy did not improve from 0.61442\n",
            "8/8 [==============================] - 9s 1s/step - loss: 0.3647 - accuracy: 0.7304 - val_loss: 0.6452 - val_accuracy: 0.5768\n",
            "Epoch 35/60\n",
            "8/8 [==============================] - ETA: 0s - loss: 0.3440 - accuracy: 0.7806"
          ]
        },
        {
          "output_type": "stream",
          "name": "stderr",
          "text": [
            "WARNING:tensorflow:Early stopping conditioned on metric `val_metric2` which is not available. Available metrics are: loss,accuracy,val_loss,val_accuracy\n"
          ]
        },
        {
          "output_type": "stream",
          "name": "stdout",
          "text": [
            "\n",
            "Epoch 35: val_accuracy did not improve from 0.61442\n",
            "8/8 [==============================] - 9s 1s/step - loss: 0.3440 - accuracy: 0.7806 - val_loss: 0.6432 - val_accuracy: 0.5549\n",
            "Epoch 36/60\n",
            "8/8 [==============================] - ETA: 0s - loss: 0.3164 - accuracy: 0.8056"
          ]
        },
        {
          "output_type": "stream",
          "name": "stderr",
          "text": [
            "WARNING:tensorflow:Early stopping conditioned on metric `val_metric2` which is not available. Available metrics are: loss,accuracy,val_loss,val_accuracy\n"
          ]
        },
        {
          "output_type": "stream",
          "name": "stdout",
          "text": [
            "\n",
            "Epoch 36: val_accuracy did not improve from 0.61442\n",
            "8/8 [==============================] - 11s 1s/step - loss: 0.3164 - accuracy: 0.8056 - val_loss: 0.7074 - val_accuracy: 0.5611\n",
            "Epoch 37/60\n",
            "8/8 [==============================] - ETA: 0s - loss: 0.3432 - accuracy: 0.7727"
          ]
        },
        {
          "output_type": "stream",
          "name": "stderr",
          "text": [
            "WARNING:tensorflow:Early stopping conditioned on metric `val_metric2` which is not available. Available metrics are: loss,accuracy,val_loss,val_accuracy\n"
          ]
        },
        {
          "output_type": "stream",
          "name": "stdout",
          "text": [
            "\n",
            "Epoch 37: val_accuracy did not improve from 0.61442\n",
            "8/8 [==============================] - 9s 1s/step - loss: 0.3432 - accuracy: 0.7727 - val_loss: 0.6792 - val_accuracy: 0.5737\n",
            "Epoch 38/60\n",
            "8/8 [==============================] - ETA: 0s - loss: 0.3396 - accuracy: 0.7790"
          ]
        },
        {
          "output_type": "stream",
          "name": "stderr",
          "text": [
            "WARNING:tensorflow:Early stopping conditioned on metric `val_metric2` which is not available. Available metrics are: loss,accuracy,val_loss,val_accuracy\n"
          ]
        },
        {
          "output_type": "stream",
          "name": "stdout",
          "text": [
            "\n",
            "Epoch 38: val_accuracy did not improve from 0.61442\n",
            "8/8 [==============================] - 11s 1s/step - loss: 0.3396 - accuracy: 0.7790 - val_loss: 0.6603 - val_accuracy: 0.5831\n",
            "Epoch 39/60\n",
            "8/8 [==============================] - ETA: 0s - loss: 0.3409 - accuracy: 0.7680"
          ]
        },
        {
          "output_type": "stream",
          "name": "stderr",
          "text": [
            "WARNING:tensorflow:Early stopping conditioned on metric `val_metric2` which is not available. Available metrics are: loss,accuracy,val_loss,val_accuracy\n"
          ]
        },
        {
          "output_type": "stream",
          "name": "stdout",
          "text": [
            "\n",
            "Epoch 39: val_accuracy did not improve from 0.61442\n",
            "8/8 [==============================] - 11s 1s/step - loss: 0.3409 - accuracy: 0.7680 - val_loss: 0.6703 - val_accuracy: 0.5737\n",
            "Epoch 40/60\n",
            "8/8 [==============================] - ETA: 0s - loss: 0.3092 - accuracy: 0.7806"
          ]
        },
        {
          "output_type": "stream",
          "name": "stderr",
          "text": [
            "WARNING:tensorflow:Early stopping conditioned on metric `val_metric2` which is not available. Available metrics are: loss,accuracy,val_loss,val_accuracy\n"
          ]
        },
        {
          "output_type": "stream",
          "name": "stdout",
          "text": [
            "\n",
            "Epoch 40: val_accuracy did not improve from 0.61442\n",
            "8/8 [==============================] - 9s 1s/step - loss: 0.3092 - accuracy: 0.7806 - val_loss: 0.7479 - val_accuracy: 0.5831\n",
            "Epoch 41/60\n",
            "8/8 [==============================] - ETA: 0s - loss: 0.3067 - accuracy: 0.8041"
          ]
        },
        {
          "output_type": "stream",
          "name": "stderr",
          "text": [
            "WARNING:tensorflow:Early stopping conditioned on metric `val_metric2` which is not available. Available metrics are: loss,accuracy,val_loss,val_accuracy\n"
          ]
        },
        {
          "output_type": "stream",
          "name": "stdout",
          "text": [
            "\n",
            "Epoch 41: val_accuracy did not improve from 0.61442\n",
            "8/8 [==============================] - 9s 1s/step - loss: 0.3067 - accuracy: 0.8041 - val_loss: 0.7177 - val_accuracy: 0.5580\n",
            "Epoch 42/60\n",
            "8/8 [==============================] - ETA: 0s - loss: 0.2984 - accuracy: 0.7962"
          ]
        },
        {
          "output_type": "stream",
          "name": "stderr",
          "text": [
            "WARNING:tensorflow:Early stopping conditioned on metric `val_metric2` which is not available. Available metrics are: loss,accuracy,val_loss,val_accuracy\n"
          ]
        },
        {
          "output_type": "stream",
          "name": "stdout",
          "text": [
            "\n",
            "Epoch 42: val_accuracy did not improve from 0.61442\n",
            "8/8 [==============================] - 11s 1s/step - loss: 0.2984 - accuracy: 0.7962 - val_loss: 0.7303 - val_accuracy: 0.5831\n",
            "Epoch 43/60\n",
            "8/8 [==============================] - ETA: 0s - loss: 0.2803 - accuracy: 0.8260"
          ]
        },
        {
          "output_type": "stream",
          "name": "stderr",
          "text": [
            "WARNING:tensorflow:Early stopping conditioned on metric `val_metric2` which is not available. Available metrics are: loss,accuracy,val_loss,val_accuracy\n"
          ]
        },
        {
          "output_type": "stream",
          "name": "stdout",
          "text": [
            "\n",
            "Epoch 43: val_accuracy did not improve from 0.61442\n",
            "8/8 [==============================] - 11s 1s/step - loss: 0.2803 - accuracy: 0.8260 - val_loss: 0.7814 - val_accuracy: 0.5580\n",
            "Epoch 44/60\n",
            "8/8 [==============================] - ETA: 0s - loss: 0.3164 - accuracy: 0.8009"
          ]
        },
        {
          "output_type": "stream",
          "name": "stderr",
          "text": [
            "WARNING:tensorflow:Early stopping conditioned on metric `val_metric2` which is not available. Available metrics are: loss,accuracy,val_loss,val_accuracy\n"
          ]
        },
        {
          "output_type": "stream",
          "name": "stdout",
          "text": [
            "\n",
            "Epoch 44: val_accuracy did not improve from 0.61442\n",
            "8/8 [==============================] - 9s 1s/step - loss: 0.3164 - accuracy: 0.8009 - val_loss: 0.6858 - val_accuracy: 0.6019\n",
            "Epoch 45/60\n",
            "8/8 [==============================] - ETA: 0s - loss: 0.3026 - accuracy: 0.7853"
          ]
        },
        {
          "output_type": "stream",
          "name": "stderr",
          "text": [
            "WARNING:tensorflow:Early stopping conditioned on metric `val_metric2` which is not available. Available metrics are: loss,accuracy,val_loss,val_accuracy\n"
          ]
        },
        {
          "output_type": "stream",
          "name": "stdout",
          "text": [
            "\n",
            "Epoch 45: val_accuracy did not improve from 0.61442\n",
            "8/8 [==============================] - 11s 1s/step - loss: 0.3026 - accuracy: 0.7853 - val_loss: 0.7132 - val_accuracy: 0.5549\n",
            "Epoch 46/60\n",
            "8/8 [==============================] - ETA: 0s - loss: 0.3038 - accuracy: 0.8119"
          ]
        },
        {
          "output_type": "stream",
          "name": "stderr",
          "text": [
            "WARNING:tensorflow:Early stopping conditioned on metric `val_metric2` which is not available. Available metrics are: loss,accuracy,val_loss,val_accuracy\n"
          ]
        },
        {
          "output_type": "stream",
          "name": "stdout",
          "text": [
            "\n",
            "Epoch 46: val_accuracy did not improve from 0.61442\n",
            "8/8 [==============================] - 9s 1s/step - loss: 0.3038 - accuracy: 0.8119 - val_loss: 0.7643 - val_accuracy: 0.5799\n",
            "Epoch 47/60\n",
            "8/8 [==============================] - ETA: 0s - loss: 0.2963 - accuracy: 0.8072"
          ]
        },
        {
          "output_type": "stream",
          "name": "stderr",
          "text": [
            "WARNING:tensorflow:Early stopping conditioned on metric `val_metric2` which is not available. Available metrics are: loss,accuracy,val_loss,val_accuracy\n"
          ]
        },
        {
          "output_type": "stream",
          "name": "stdout",
          "text": [
            "\n",
            "Epoch 47: val_accuracy did not improve from 0.61442\n",
            "8/8 [==============================] - 11s 1s/step - loss: 0.2963 - accuracy: 0.8072 - val_loss: 0.7461 - val_accuracy: 0.5831\n",
            "Epoch 48/60\n",
            "8/8 [==============================] - ETA: 0s - loss: 0.2854 - accuracy: 0.8135"
          ]
        },
        {
          "output_type": "stream",
          "name": "stderr",
          "text": [
            "WARNING:tensorflow:Early stopping conditioned on metric `val_metric2` which is not available. Available metrics are: loss,accuracy,val_loss,val_accuracy\n"
          ]
        },
        {
          "output_type": "stream",
          "name": "stdout",
          "text": [
            "\n",
            "Epoch 48: val_accuracy did not improve from 0.61442\n",
            "8/8 [==============================] - 9s 1s/step - loss: 0.2854 - accuracy: 0.8135 - val_loss: 0.7979 - val_accuracy: 0.5987\n",
            "Epoch 49/60\n",
            "8/8 [==============================] - ETA: 0s - loss: 0.2846 - accuracy: 0.8025"
          ]
        },
        {
          "output_type": "stream",
          "name": "stderr",
          "text": [
            "WARNING:tensorflow:Early stopping conditioned on metric `val_metric2` which is not available. Available metrics are: loss,accuracy,val_loss,val_accuracy\n"
          ]
        },
        {
          "output_type": "stream",
          "name": "stdout",
          "text": [
            "\n",
            "Epoch 49: val_accuracy improved from 0.61442 to 0.62069, saving model to MODEL/best_model3.hdf5\n",
            "8/8 [==============================] - 13s 2s/step - loss: 0.2846 - accuracy: 0.8025 - val_loss: 0.7363 - val_accuracy: 0.6207\n",
            "Epoch 50/60\n",
            "8/8 [==============================] - ETA: 0s - loss: 0.2920 - accuracy: 0.8182"
          ]
        },
        {
          "output_type": "stream",
          "name": "stderr",
          "text": [
            "WARNING:tensorflow:Early stopping conditioned on metric `val_metric2` which is not available. Available metrics are: loss,accuracy,val_loss,val_accuracy\n"
          ]
        },
        {
          "output_type": "stream",
          "name": "stdout",
          "text": [
            "\n",
            "Epoch 50: val_accuracy did not improve from 0.62069\n",
            "8/8 [==============================] - 9s 1s/step - loss: 0.2920 - accuracy: 0.8182 - val_loss: 0.7729 - val_accuracy: 0.5517\n",
            "Epoch 51/60\n",
            "8/8 [==============================] - ETA: 0s - loss: 0.2942 - accuracy: 0.7900"
          ]
        },
        {
          "output_type": "stream",
          "name": "stderr",
          "text": [
            "WARNING:tensorflow:Early stopping conditioned on metric `val_metric2` which is not available. Available metrics are: loss,accuracy,val_loss,val_accuracy\n"
          ]
        },
        {
          "output_type": "stream",
          "name": "stdout",
          "text": [
            "\n",
            "Epoch 51: val_accuracy did not improve from 0.62069\n",
            "8/8 [==============================] - 9s 1s/step - loss: 0.2942 - accuracy: 0.7900 - val_loss: 0.7340 - val_accuracy: 0.5987\n",
            "Epoch 52/60\n",
            "8/8 [==============================] - ETA: 0s - loss: 0.2766 - accuracy: 0.8103"
          ]
        },
        {
          "output_type": "stream",
          "name": "stderr",
          "text": [
            "WARNING:tensorflow:Early stopping conditioned on metric `val_metric2` which is not available. Available metrics are: loss,accuracy,val_loss,val_accuracy\n"
          ]
        },
        {
          "output_type": "stream",
          "name": "stdout",
          "text": [
            "\n",
            "Epoch 52: val_accuracy did not improve from 0.62069\n",
            "8/8 [==============================] - 11s 1s/step - loss: 0.2766 - accuracy: 0.8103 - val_loss: 0.7948 - val_accuracy: 0.5643\n",
            "Epoch 53/60\n",
            "8/8 [==============================] - ETA: 0s - loss: 0.2446 - accuracy: 0.8558"
          ]
        },
        {
          "output_type": "stream",
          "name": "stderr",
          "text": [
            "WARNING:tensorflow:Early stopping conditioned on metric `val_metric2` which is not available. Available metrics are: loss,accuracy,val_loss,val_accuracy\n"
          ]
        },
        {
          "output_type": "stream",
          "name": "stdout",
          "text": [
            "\n",
            "Epoch 53: val_accuracy did not improve from 0.62069\n",
            "8/8 [==============================] - 9s 1s/step - loss: 0.2446 - accuracy: 0.8558 - val_loss: 0.7875 - val_accuracy: 0.5737\n",
            "Epoch 54/60\n",
            "8/8 [==============================] - ETA: 0s - loss: 0.2472 - accuracy: 0.8307"
          ]
        },
        {
          "output_type": "stream",
          "name": "stderr",
          "text": [
            "WARNING:tensorflow:Early stopping conditioned on metric `val_metric2` which is not available. Available metrics are: loss,accuracy,val_loss,val_accuracy\n"
          ]
        },
        {
          "output_type": "stream",
          "name": "stdout",
          "text": [
            "\n",
            "Epoch 54: val_accuracy did not improve from 0.62069\n",
            "8/8 [==============================] - 9s 1s/step - loss: 0.2472 - accuracy: 0.8307 - val_loss: 0.8239 - val_accuracy: 0.5549\n",
            "Epoch 55/60\n",
            "8/8 [==============================] - ETA: 0s - loss: 0.2508 - accuracy: 0.8370"
          ]
        },
        {
          "output_type": "stream",
          "name": "stderr",
          "text": [
            "WARNING:tensorflow:Early stopping conditioned on metric `val_metric2` which is not available. Available metrics are: loss,accuracy,val_loss,val_accuracy\n"
          ]
        },
        {
          "output_type": "stream",
          "name": "stdout",
          "text": [
            "\n",
            "Epoch 55: val_accuracy did not improve from 0.62069\n",
            "8/8 [==============================] - 9s 1s/step - loss: 0.2508 - accuracy: 0.8370 - val_loss: 0.8090 - val_accuracy: 0.5674\n",
            "Epoch 56/60\n",
            "8/8 [==============================] - ETA: 0s - loss: 0.2550 - accuracy: 0.8386"
          ]
        },
        {
          "output_type": "stream",
          "name": "stderr",
          "text": [
            "WARNING:tensorflow:Early stopping conditioned on metric `val_metric2` which is not available. Available metrics are: loss,accuracy,val_loss,val_accuracy\n"
          ]
        },
        {
          "output_type": "stream",
          "name": "stdout",
          "text": [
            "\n",
            "Epoch 56: val_accuracy did not improve from 0.62069\n",
            "8/8 [==============================] - 9s 1s/step - loss: 0.2550 - accuracy: 0.8386 - val_loss: 0.7911 - val_accuracy: 0.5831\n",
            "Epoch 57/60\n",
            "8/8 [==============================] - ETA: 0s - loss: 0.2690 - accuracy: 0.8386"
          ]
        },
        {
          "output_type": "stream",
          "name": "stderr",
          "text": [
            "WARNING:tensorflow:Early stopping conditioned on metric `val_metric2` which is not available. Available metrics are: loss,accuracy,val_loss,val_accuracy\n"
          ]
        },
        {
          "output_type": "stream",
          "name": "stdout",
          "text": [
            "\n",
            "Epoch 57: val_accuracy did not improve from 0.62069\n",
            "8/8 [==============================] - 9s 1s/step - loss: 0.2690 - accuracy: 0.8386 - val_loss: 0.8284 - val_accuracy: 0.5705\n",
            "Epoch 58/60\n",
            "8/8 [==============================] - ETA: 0s - loss: 0.2484 - accuracy: 0.8527"
          ]
        },
        {
          "output_type": "stream",
          "name": "stderr",
          "text": [
            "WARNING:tensorflow:Early stopping conditioned on metric `val_metric2` which is not available. Available metrics are: loss,accuracy,val_loss,val_accuracy\n"
          ]
        },
        {
          "output_type": "stream",
          "name": "stdout",
          "text": [
            "\n",
            "Epoch 58: val_accuracy did not improve from 0.62069\n",
            "8/8 [==============================] - 11s 1s/step - loss: 0.2484 - accuracy: 0.8527 - val_loss: 0.8055 - val_accuracy: 0.5831\n",
            "Epoch 59/60\n",
            "8/8 [==============================] - ETA: 0s - loss: 0.2538 - accuracy: 0.8276"
          ]
        },
        {
          "output_type": "stream",
          "name": "stderr",
          "text": [
            "WARNING:tensorflow:Early stopping conditioned on metric `val_metric2` which is not available. Available metrics are: loss,accuracy,val_loss,val_accuracy\n"
          ]
        },
        {
          "output_type": "stream",
          "name": "stdout",
          "text": [
            "\n",
            "Epoch 59: val_accuracy did not improve from 0.62069\n",
            "8/8 [==============================] - 9s 1s/step - loss: 0.2538 - accuracy: 0.8276 - val_loss: 0.8429 - val_accuracy: 0.5925\n",
            "Epoch 60/60\n",
            "8/8 [==============================] - ETA: 0s - loss: 0.2380 - accuracy: 0.8464"
          ]
        },
        {
          "output_type": "stream",
          "name": "stderr",
          "text": [
            "WARNING:tensorflow:Early stopping conditioned on metric `val_metric2` which is not available. Available metrics are: loss,accuracy,val_loss,val_accuracy\n"
          ]
        },
        {
          "output_type": "stream",
          "name": "stdout",
          "text": [
            "\n",
            "Epoch 60: val_accuracy did not improve from 0.62069\n",
            "8/8 [==============================] - 11s 1s/step - loss: 0.2380 - accuracy: 0.8464 - val_loss: 0.8101 - val_accuracy: 0.6019\n",
            "---Finished---\n"
          ]
        }
      ],
      "source": [
        "list_of_models = [] # To save models\n",
        "list_history = [] # To save model efficiency\n",
        "\n",
        "kfold = KFold(n_splits=nb_fold, shuffle=True, random_state=42)\n",
        "\n",
        "# Training with k-fold method\n",
        "k = 1\n",
        "for train_index, val_index in kfold.split(X_ids_train,Y_train):\n",
        "    print(f'\\nTraining model {k}...')\n",
        "    model = get_model() # Model construction\n",
        "    history = fit_the_model(model,\n",
        "                            [X_ids_train[train_index],\n",
        "                             X_mask_train[train_index]],\n",
        "                            Y_train[train_index],\n",
        "                            [X_ids_train[val_index],\n",
        "                             X_mask_train[val_index]],\n",
        "                            Y_train[val_index], k) # Model training\n",
        "    list_of_models.append(history)\n",
        "    list_history.append(history.history.history)\n",
        "    k += 1\n",
        "\n",
        "print(\"---Finished---\")"
      ]
    },
    {
      "cell_type": "markdown",
      "id": "0bf70fa4",
      "metadata": {
        "id": "0bf70fa4"
      },
      "source": [
        "## 6. Model performance visualization"
      ]
    },
    {
      "cell_type": "code",
      "execution_count": null,
      "id": "344c539a",
      "metadata": {
        "id": "344c539a"
      },
      "outputs": [],
      "source": [
        "def ConfusionMatrix(y_true , y_pred):\n",
        "    cm = confusion_matrix(y_true , y_pred)\n",
        "    return cm/y_true.shape[0]"
      ]
    },
    {
      "cell_type": "code",
      "execution_count": null,
      "id": "8778a20b",
      "metadata": {
        "id": "8778a20b"
      },
      "outputs": [],
      "source": [
        "# Calculate the proportion of well predicted class for each class\n",
        "\n",
        "def metric2_per_class(y_true,y_pred):\n",
        "    L = []\n",
        "    y_pred = y_pred.reshape((len(y_pred),1))\n",
        "    for i in range(0,3):\n",
        "        L.append(y_true[(y_true==y_pred) & (y_true==i)].shape[0] / y_true[(y_true==i)].shape[0])\n",
        "    return L"
      ]
    },
    {
      "cell_type": "code",
      "execution_count": null,
      "id": "dbc1d58a",
      "metadata": {
        "scrolled": false,
        "colab": {
          "base_uri": "https://localhost:8080/",
          "height": 1000
        },
        "id": "dbc1d58a",
        "outputId": "6c4c7012-2769-420b-908b-6bccaf675300"
      },
      "outputs": [
        {
          "output_type": "stream",
          "name": "stdout",
          "text": [
            "-------------------------------------------------- MODEL PERFORMANCE 1 --------------------------------------------------\n"
          ]
        },
        {
          "output_type": "display_data",
          "data": {
            "text/plain": [
              "<Figure size 1600x400 with 2 Axes>"
            ],
            "image/png": "[encoded data removed]"
          },
          "metadata": {}
        },
        {
          "output_type": "stream",
          "name": "stdout",
          "text": [
            "-------------------------------------------------- MODEL PERFORMANCE 2 --------------------------------------------------\n"
          ]
        },
        {
          "output_type": "display_data",
          "data": {
            "text/plain": [
              "<Figure size 1600x400 with 2 Axes>"
            ],
            "image/png": "[encoded data removed]"
          },
          "metadata": {}
        },
        {
          "output_type": "stream",
          "name": "stdout",
          "text": [
            "-------------------------------------------------- MODEL PERFORMANCE 3 --------------------------------------------------\n"
          ]
        },
        {
          "output_type": "display_data",
          "data": {
            "text/plain": [
              "<Figure size 1600x400 with 2 Axes>"
            ],
            "image/png": "[encoded data removed]"
          },
          "metadata": {}
        }
      ],
      "source": [
        "for i in range(nb_fold):\n",
        "    print(50*'-',f\"MODEL PERFORMANCE {i+1}\",50*'-')\n",
        "\n",
        "    average_loss = list_history[i]['loss']\n",
        "    average_val_loss = list_history[i]['val_loss']\n",
        "\n",
        "    average_metric_1 = list_history[i]['accuracy']\n",
        "    average_val_metric_1 = list_history[i]['val_accuracy']\n",
        "\n",
        "    plt.figure(figsize=(16,4))\n",
        "\n",
        "    # Displays model loss and efficiency evolutions for each model\n",
        "    txtTitres = [\"Training and validation loss\",\"Training and validation accuracy\"]\n",
        "\n",
        "    txtYLabel = [\"Loss\",\"Metric 1 \"]\n",
        "\n",
        "    L1 = [average_loss, average_metric_1]\n",
        "    L2 = [average_val_loss, average_val_metric_1]\n",
        "\n",
        "    for k in range(2):\n",
        "        if len(L1[0]) < nb_epoch: # to avoid dimension errors when plotting\n",
        "            nb_epoch_plot=len(L1[0])\n",
        "        else:\n",
        "            nb_epoch_plot=nb_epoch\n",
        "        Epochs = range(1, nb_epoch_plot+1)\n",
        "        plt.subplot(1,3,k+1)\n",
        "        plt.plot(Epochs, L1[k], color='b', marker='o', label=\"training\")\n",
        "        plt.plot(Epochs, L2[k], color='r', marker='o', label=\"validation\")\n",
        "        plt.grid()\n",
        "        plt.title(txtTitres[k])\n",
        "        plt.xlabel(\"Epochs\")\n",
        "        plt.ylabel(txtYLabel[k])\n",
        "        plt.legend()\n",
        "    plt.show()"
      ]
    },
    {
      "cell_type": "code",
      "execution_count": null,
      "id": "6df2512e",
      "metadata": {
        "id": "6df2512e"
      },
      "outputs": [],
      "source": [
        "# Loading the best model for each fold, our final model will be the \"average\" of all of them\n",
        "L_best_models = []\n",
        "for i in range(nb_fold):\n",
        "    path = \"MODEL/best_model\" + str(i+1) + \".hdf5\"\n",
        "    L_best_models.append(keras.models.load_model(path,\n",
        "                                                 custom_objects={\"TFRobertaModel\": pretrained_model},\n",
        "                                                 compile=False))"
      ]
    },
    {
      "cell_type": "code",
      "source": [
        "from sklearn.metrics import multilabel_confusion_matrix\n",
        "\n",
        "def ConfusionMatrix(y_true , y_pred):\n",
        "    cm = multilabel_confusion_matrix(y_true , y_pred)\n",
        "    return cm/y_true.shape[0]"
      ],
      "metadata": {
        "id": "hDD7VoOlUOsd"
      },
      "id": "hDD7VoOlUOsd",
      "execution_count": null,
      "outputs": []
    },
    {
      "cell_type": "code",
      "source": [
        "def metric1(y_true, y_pred):\n",
        "    n = K.cast(K.shape(y_true)[0], 'float32')\n",
        "    y_pred_r = K.round(y_pred)\n",
        "    res = K.all(K.equal(y_true, y_pred_r), axis=1)\n",
        "    res = K.cast(res, 'float32')\n",
        "    res = K.sum(res) / n\n",
        "    return res"
      ],
      "metadata": {
        "id": "hOjOD_T8U1xZ"
      },
      "id": "hOjOD_T8U1xZ",
      "execution_count": null,
      "outputs": []
    },
    {
      "cell_type": "code",
      "source": [
        "def metric2_per_labels(M): # Takes a matrix containing the absolute difference between true value and prediction\n",
        "    for i in range(M.shape[1]):\n",
        "        s = np.sum(M,axis = 0) # Summing per column\n",
        "        s = 1-s/M.shape[0] # % of good predictions per column\n",
        "        s = np.round(s,3)\n",
        "    return s"
      ],
      "metadata": {
        "id": "CXabzcI7U4zo"
      },
      "id": "CXabzcI7U4zo",
      "execution_count": null,
      "outputs": []
    },
    {
      "cell_type": "code",
      "source": [
        "L_pred = [np.round(model.predict([X_ids_test, X_mask_test])) for model in L_best_models]\n",
        "prediction = np.median(L_pred, axis=0) # prediction of final model on test data, that's where nb_fold needs to be odd\n",
        "\n",
        "cm = ConfusionMatrix(Y_test , prediction)\n",
        "f1 = f1_score(Y_test , prediction, average=None)\n",
        "m1 = float(metric1(Y_test, prediction))\n",
        "m2 = float(metric2(Y_test, prediction))\n",
        "diff = np.abs(prediction-Y_test)\n",
        "m3 = metric2_per_labels(diff)"
      ],
      "metadata": {
        "colab": {
          "base_uri": "https://localhost:8080/"
        },
        "id": "J8fEzqhRUbmK",
        "outputId": "c2f2a802-7b1a-4681-b037-59f5e00e0811"
      },
      "id": "J8fEzqhRUbmK",
      "execution_count": null,
      "outputs": [
        {
          "output_type": "stream",
          "name": "stdout",
          "text": [
            "8/8 [==============================] - 5s 255ms/step\n",
            "8/8 [==============================] - 6s 261ms/step\n",
            "8/8 [==============================] - 5s 256ms/step\n"
          ]
        }
      ]
    },
    {
      "cell_type": "code",
      "source": [
        "# Summary of the model's performances on testing data\n",
        "print(40*'-',f\"SUMMARY OF MODEL PERFORMANCE ON TEST DATA\",20*'-',\"\\n\")\n",
        "\n",
        "# metrics\n",
        "print(\"metric1 test mean :\", m1, \"\\n\")\n",
        "print(\"metric2 test mean :\", m2, \"\\n\")\n",
        "print(\"metric2 test mean per labels :\", m3, \"\\n\")\n",
        "\n",
        "# F1 score\n",
        "print(\"F1 score on positive/negative/neutral: \", f1)\n",
        "\n",
        "# Confusion matrix\n",
        "L_titles = ['Confusion Matrix for Negative label', 'Confusion Matrix for Neutral label','Confusion Matrix for Positive label']\n",
        "L_labels = [ 'Not Negative', 'Negative', 'Not Neutral', 'Neutral','Not Positive', 'Positive']\n",
        "\n",
        "k = 0\n",
        "for i in range(3):\n",
        "    plt.figure(figsize=(3,3))\n",
        "    ax = sns.heatmap(cm[i], annot=True, fmt='.2%' , cmap=\"Blues\")\n",
        "    ax.set_xlabel('\\n Predicted Values')\n",
        "    ax.set_ylabel('Actual Values ')\n",
        "    ax.set_title(L_titles[i])\n",
        "    ax.xaxis.set_ticklabels(L_labels[k:k+2])\n",
        "    ax.yaxis.set_ticklabels(L_labels[k:k+2])\n",
        "    k += 2\n",
        "    plt.show()"
      ],
      "metadata": {
        "colab": {
          "base_uri": "https://localhost:8080/",
          "height": 1000
        },
        "id": "8jSJfQs_Udb4",
        "outputId": "59619701-bc11-4333-85d5-3ffc7167e37a"
      },
      "id": "8jSJfQs_Udb4",
      "execution_count": null,
      "outputs": [
        {
          "output_type": "stream",
          "name": "stdout",
          "text": [
            "---------------------------------------- SUMMARY OF MODEL PERFORMANCE ON TEST DATA -------------------- \n",
            "\n",
            "metric1 test mean : 0.4476987421512604 \n",
            "\n",
            "metric2 test mean : 0.7266387939453125 \n",
            "\n",
            "metric2 test mean per labels : [0.695 0.695 0.791] \n",
            "\n",
            "F1 score on positive/negative/neutral:  [0.58285714 0.657277   0.63235294]\n"
          ]
        },
        {
          "output_type": "display_data",
          "data": {
            "text/plain": [
              "<Figure size 300x300 with 2 Axes>"
            ],
            "image/png": "[encoded data removed]"
          },
          "metadata": {}
        },
        {
          "output_type": "display_data",
          "data": {
            "text/plain": [
              "<Figure size 300x300 with 2 Axes>"
            ],
            "image/png": "[encoded data removed]"
          },
          "metadata": {}
        },
        {
          "output_type": "display_data",
          "data": {
            "text/plain": [
              "<Figure size 300x300 with 2 Axes>"
            ],
            "image/png": "[encoded data removed]"
          },
          "metadata": {}
        }
      ]
    },
    {
      "cell_type": "code",
      "source": [
        "from sklearn.metrics import confusion_matrix,classification_report,accuracy_score, f1_score\n",
        "\n",
        "\n",
        "print(\"Classification Report: \\n\", classification_report(Y_test, prediction,target_names=['Negative','Neutral','Positive']))"
      ],
      "metadata": {
        "colab": {
          "base_uri": "https://localhost:8080/"
        },
        "id": "R7xjk4k1VGmj",
        "outputId": "ea19c4e9-1750-460f-f1e8-9d372e2e8173"
      },
      "id": "R7xjk4k1VGmj",
      "execution_count": null,
      "outputs": [
        {
          "output_type": "stream",
          "name": "stdout",
          "text": [
            "Classification Report: \n",
            "               precision    recall  f1-score   support\n",
            "\n",
            "    Negative       0.63      0.54      0.58        94\n",
            "     Neutral       0.73      0.60      0.66       117\n",
            "    Positive       0.68      0.59      0.63        73\n",
            "\n",
            "   micro avg       0.68      0.58      0.63       284\n",
            "   macro avg       0.68      0.58      0.62       284\n",
            "weighted avg       0.68      0.58      0.63       284\n",
            " samples avg       0.63      0.60      0.60       284\n",
            "\n"
          ]
        }
      ]
    },
    {
      "cell_type": "code",
      "execution_count": null,
      "id": "e348e81a",
      "metadata": {
        "scrolled": true,
        "id": "e348e81a"
      },
      "outputs": [],
      "source": [
        "# Computing prediction of final model on validation data, accessible via each fold\n",
        "L_predictions = []\n",
        "L_cm = []\n",
        "L_f1 = []\n",
        "L_m1, L_m2 = [], []\n",
        "\n",
        "k = 0\n",
        "\n",
        "# To evaluate our model which prediction will be the median of all predictions, we'll do an\n",
        "# average of all scores obtained by each model on their own validation_data\n",
        "kfold = KFold(n_splits=nb_fold, shuffle=True, random_state=42)\n",
        "for train_index, val_index in kfold.split(X_ids_train,Y_train):\n",
        "\n",
        "    prediction = np.argmax(L_best_models[k].predict([X_ids_train[val_index], X_mask_train[val_index]]), axis=1) # prediction for this fold's validation data\n",
        "\n",
        "    cm = ConfusionMatrix(Y_train[val_index] , prediction)\n",
        "    f1 = f1_score(Y_train[val_index] , prediction, average=None)\n",
        "    m1 = metric1(Y_train[val_index], prediction)\n",
        "    m2 = metric2_per_class(Y_train[val_index] , prediction)\n",
        "\n",
        "    L_predictions.append(prediction)\n",
        "    L_cm.append(cm)\n",
        "    L_f1.append(f1)\n",
        "    L_m1.append(m1)\n",
        "    L_m2.append(m2)\n",
        "    k += 1"
      ]
    },
    {
      "cell_type": "code",
      "execution_count": null,
      "id": "ddc54bab",
      "metadata": {
        "colab": {
          "base_uri": "https://localhost:8080/",
          "height": 625
        },
        "id": "ddc54bab",
        "outputId": "421c9af0-c194-4ea2-f0ec-529778a53ab4"
      },
      "outputs": [
        {
          "output_type": "stream",
          "name": "stdout",
          "text": [
            "---------------------------------------- SUMMARY OF MODEL PERFORMANCE ON VALIDATION DATA -------------------- \n",
            "\n",
            "metric1 validation mean : 0.65308255 \n",
            "\n",
            "metric2 validation mean per class : [0.6961625  0.59347243 0.67060485] \n",
            "\n",
            "Average F1 score on positive/negative/neutral:  [0.66042599 0.63424033 0.65726263]\n"
          ]
        },
        {
          "output_type": "display_data",
          "data": {
            "text/plain": [
              "<Figure size 500x500 with 2 Axes>"
            ],
            "image/png": "[encoded data removed]"
          },
          "metadata": {}
        }
      ],
      "source": [
        "# Summary of the model's performances on validation data\n",
        "print(40*'-',f\"SUMMARY OF MODEL PERFORMANCE ON VALIDATION DATA\",20*'-',\"\\n\")\n",
        "\n",
        "# Average best metrics\n",
        "m1 = np.mean(L_m1,axis=0)\n",
        "m2 = np.mean(L_m2,axis=0)\n",
        "\n",
        "print(\"metric1 validation mean :\", m1, \"\\n\")\n",
        "print(\"metric2 validation mean per class :\", m2, \"\\n\")\n",
        "\n",
        "# Average F1 score\n",
        "print(\"Average F1 score on positive/negative/neutral: \", np.mean(L_f1,axis=0))\n",
        "\n",
        "# Average confusion matrix\n",
        "avg_cm = np.mean(L_cm,axis=0)\n",
        "plt.figure(figsize=(5,5))\n",
        "ax = sns.heatmap(avg_cm, annot=True, fmt='.2%' , cmap=\"Blues\")\n",
        "ax.set_xlabel('\\n Predicted Values')\n",
        "ax.set_ylabel('Actual Values ')\n",
        "ax.set_title(f'Confusion Matrix of the model ')\n",
        "ax.xaxis.set_ticklabels(['Positive', 'Negative' ,'Neutral'])\n",
        "ax.yaxis.set_ticklabels(['Positive', 'Negative' ,'Neutral'])\n",
        "plt.show()"
      ]
    },
    {
      "cell_type": "markdown",
      "source": [
        "# Test"
      ],
      "metadata": {
        "id": "KTPozo7EbpP3"
      },
      "id": "KTPozo7EbpP3"
    },
    {
      "cell_type": "code",
      "source": [
        "# Loading pretrained model\n",
        "pretrained_model = TFAutoModel.from_pretrained(pretrained_model_name)"
      ],
      "metadata": {
        "colab": {
          "base_uri": "https://localhost:8080/"
        },
        "id": "dUhG4-ALbriW",
        "outputId": "f97c6235-238a-429c-d6af-ce3bb8e83780"
      },
      "id": "dUhG4-ALbriW",
      "execution_count": null,
      "outputs": [
        {
          "output_type": "stream",
          "name": "stderr",
          "text": [
            "All model checkpoint layers were used when initializing TFRobertaModel.\n",
            "\n",
            "All the layers of TFRobertaModel were initialized from the model checkpoint at cardiffnlp/twitter-roberta-base-sentiment-latest.\n",
            "If your task is similar to the task the model of the checkpoint was trained on, you can already use TFRobertaModel for predictions without further training.\n"
          ]
        }
      ]
    },
    {
      "cell_type": "code",
      "source": [
        "# from sklearn.metrics import multilabel_confusion_matrix\n",
        "\n",
        "# def ConfusionMatrix(y_true , y_pred):\n",
        "#     cm = multilabel_confusion_matrix(y_true , y_pred)\n",
        "#     return cm/y_true.shape[0]"
      ],
      "metadata": {
        "id": "rax0z4OWbv-Y"
      },
      "id": "rax0z4OWbv-Y",
      "execution_count": null,
      "outputs": []
    },
    {
      "cell_type": "code",
      "source": [
        "def metric2_per_labels(M): # Takes a matrix containing the absolute difference between true value and prediction\n",
        "    for i in range(M.shape[1]):\n",
        "        s = np.sum(M,axis = 0) # Summing per column\n",
        "        s = 1-s/M.shape[0] # % of good predictions per column\n",
        "        s = np.round(s,3)\n",
        "    return s"
      ],
      "metadata": {
        "id": "tno4lS_GbxAu"
      },
      "id": "tno4lS_GbxAu",
      "execution_count": null,
      "outputs": []
    },
    {
      "cell_type": "code",
      "source": [
        "# Loading the best model for each fold, our final model will be the \"average\" of all of them\n",
        "L_best_models = []\n",
        "for i in range(nb_fold):\n",
        "    path = \"MODEL/best_model\" + str(i+1) + \".hdf5\"\n",
        "    L_best_models.append(keras.models.load_model(path,\n",
        "                                                 custom_objects={\"TFRobertaModel\": pretrained_model,\n",
        "                                                                 \"metric1\": metric1,\n",
        "                                                                 \"metric2\":metric2},\n",
        "                                                 compile=False))"
      ],
      "metadata": {
        "id": "ndFZucISbyHv"
      },
      "id": "ndFZucISbyHv",
      "execution_count": null,
      "outputs": []
    },
    {
      "cell_type": "code",
      "source": [
        "L_pred = [np.round(model.predict([X_ids_test, X_mask_test])) for model in L_best_models]\n",
        "prediction = np.median(L_pred, axis=0)\n",
        "\n",
        "predicted_labels = np.argmax(prediction, axis=1).reshape(-1, 1)"
      ],
      "metadata": {
        "colab": {
          "base_uri": "https://localhost:8080/"
        },
        "id": "2bxaj50ZmMIP",
        "outputId": "78c1e16a-002f-4d81-cb09-49c80576b40d"
      },
      "id": "2bxaj50ZmMIP",
      "execution_count": null,
      "outputs": [
        {
          "output_type": "stream",
          "name": "stdout",
          "text": [
            "8/8 [==============================] - 2s 281ms/step\n",
            "8/8 [==============================] - 2s 264ms/step\n",
            "8/8 [==============================] - 2s 266ms/step\n"
          ]
        }
      ]
    },
    {
      "cell_type": "code",
      "source": [
        "from sklearn.metrics import confusion_matrix,classification_report,accuracy_score, f1_score\n",
        "\n",
        "\n",
        "print(\"Classification Report: \\n\", classification_report(Y_test, predicted_labels,target_names=['Negative','Neutral','Positive']))"
      ],
      "metadata": {
        "colab": {
          "base_uri": "https://localhost:8080/"
        },
        "id": "cKvIdfCSmOQP",
        "outputId": "a4be412e-58d3-4d8b-a143-502247dbb3ad"
      },
      "id": "cKvIdfCSmOQP",
      "execution_count": null,
      "outputs": [
        {
          "output_type": "stream",
          "name": "stdout",
          "text": [
            "Classification Report: \n",
            "               precision    recall  f1-score   support\n",
            "\n",
            "    Negative       0.52      0.81      0.63        90\n",
            "     Neutral       0.81      0.35      0.48        84\n",
            "    Positive       0.63      0.62      0.62        65\n",
            "\n",
            "    accuracy                           0.59       239\n",
            "   macro avg       0.65      0.59      0.58       239\n",
            "weighted avg       0.65      0.59      0.58       239\n",
            "\n"
          ]
        }
      ]
    },
    {
      "cell_type": "code",
      "source": [
        "# Computing prediction of final model on test data\n",
        "\n",
        "L_pred = [np.round(model.predict([X_ids_test, X_mask_test])) for model in L_best_models]\n",
        "prediction = np.median(L_pred, axis=0) # prediction of final model on test data, that's where nb_fold needs to be odd\n",
        "\n",
        "predicted_labels = np.argmax(prediction, axis=1).reshape(-1, 1)\n",
        "\n",
        "cm = ConfusionMatrix(Y_test , predicted_labels)\n",
        "f1 = f1_score(Y_test , predicted_labels, average=None)\n",
        "m1 = float(metric1(Y_test, predicted_labels))\n",
        "m2 = float(metric2(Y_test, predicted_labels))\n",
        "diff = np.abs(predicted_labels-Y_test)\n",
        "m3 = metric2_per_labels(diff)"
      ],
      "metadata": {
        "colab": {
          "base_uri": "https://localhost:8080/"
        },
        "id": "i6nrJKMhb5iW",
        "outputId": "d8c733bb-8648-4734-caa4-33b783cd169a"
      },
      "id": "i6nrJKMhb5iW",
      "execution_count": null,
      "outputs": [
        {
          "output_type": "stream",
          "name": "stdout",
          "text": [
            "8/8 [==============================] - 2s 272ms/step\n",
            "8/8 [==============================] - 2s 261ms/step\n",
            "8/8 [==============================] - 2s 262ms/step\n"
          ]
        }
      ]
    },
    {
      "cell_type": "code",
      "source": [
        "# Summary of the model's performances on testing data\n",
        "print(40*'-',f\"SUMMARY OF MODEL PERFORMANCE ON TEST DATA\",20*'-',\"\\n\")\n",
        "\n",
        "# metrics\n",
        "print(\"metric1 validation mean :\", m1, \"\\n\")\n",
        "print(\"metric2 validation mean :\", m2, \"\\n\")\n",
        "print(\"metric2 validation mean per labels :\", m3, \"\\n\")\n",
        "\n",
        "# F1 score\n",
        "print(\"F1 score on positive/negative/neutral: \", f1)\n",
        "\n",
        "# Confusion matrix\n",
        "L_titles = ['Confusion Matrix for Positive label', 'Confusion Matrix for Negative label', 'Confusion Matrix for Neutral label']\n",
        "L_labels = ['Not Positive', 'Positive', 'Not Negative', 'Negative', 'Not Neutral', 'Neutral']\n",
        "\n",
        "k = 0\n",
        "for i in range(3):\n",
        "    plt.figure(figsize=(3,3))\n",
        "    ax = sns.heatmap(cm[i], annot=True, fmt='.2%' , cmap=\"Blues\")\n",
        "    ax.set_xlabel('\\n Predicted Values')\n",
        "    ax.set_ylabel('Actual Values ')\n",
        "    ax.set_title(L_titles[i])\n",
        "    ax.xaxis.set_ticklabels(L_labels[k:k+2])\n",
        "    ax.yaxis.set_ticklabels(L_labels[k:k+2])\n",
        "    k += 2\n",
        "    plt.show()"
      ],
      "metadata": {
        "id": "hUV_fJkzcCC1"
      },
      "id": "hUV_fJkzcCC1",
      "execution_count": null,
      "outputs": []
    },
    {
      "cell_type": "code",
      "source": [],
      "metadata": {
        "id": "h6J8RW51psM8"
      },
      "id": "h6J8RW51psM8",
      "execution_count": null,
      "outputs": []
    }
  ],
  "metadata": {
    "kernelspec": {
      "display_name": "Python 3",
      "name": "python3"
    },
    "language_info": {
      "codemirror_mode": {
        "name": "ipython",
        "version": 3
      },
      "file_extension": ".py",
      "mimetype": "text/x-python",
      "name": "python",
      "nbconvert_exporter": "python",
      "pygments_lexer": "ipython3",
      "version": "3.9.13"
    },
    "colab": {
      "provenance": []
    },
    "widgets": {
      "application/vnd.jupyter.widget-state+json": {
        "0266838004cc49cead103f7d181e7620": {
          "model_module": "@jupyter-widgets/controls",
          "model_name": "HBoxModel",
          "model_module_version": "1.5.0",
          "state": {
            "_dom_classes": [],
            "_model_module": "@jupyter-widgets/controls",
            "_model_module_version": "1.5.0",
            "_model_name": "HBoxModel",
            "_view_count": null,
            "_view_module": "@jupyter-widgets/controls",
            "_view_module_version": "1.5.0",
            "_view_name": "HBoxView",
            "box_style": "",
            "children": [
              "IPY_MODEL_7fe7f369d01d4ec7b13074164501ac1a",
              "IPY_MODEL_c63a08fc27234f0fbd6e0477ba4e0554",
              "IPY_MODEL_080638cccd4640e7aa2bb8ddfee017aa"
            ],
            "layout": "IPY_MODEL_dba5ccae134a4a998a870a0e32c029bf"
          }
        },
        "7fe7f369d01d4ec7b13074164501ac1a": {
          "model_module": "@jupyter-widgets/controls",
          "model_name": "HTMLModel",
          "model_module_version": "1.5.0",
          "state": {
            "_dom_classes": [],
            "_model_module": "@jupyter-widgets/controls",
            "_model_module_version": "1.5.0",
            "_model_name": "HTMLModel",
            "_view_count": null,
            "_view_module": "@jupyter-widgets/controls",
            "_view_module_version": "1.5.0",
            "_view_name": "HTMLView",
            "description": "",
            "description_tooltip": null,
            "layout": "IPY_MODEL_275b62ab1d5e4b2c963878f651e352ec",
            "placeholder": "​",
            "style": "IPY_MODEL_8a237ba461b942279cc0a75d2aab8946",
            "value": "config.json: 100%"
          }
        },
        "c63a08fc27234f0fbd6e0477ba4e0554": {
          "model_module": "@jupyter-widgets/controls",
          "model_name": "FloatProgressModel",
          "model_module_version": "1.5.0",
          "state": {
            "_dom_classes": [],
            "_model_module": "@jupyter-widgets/controls",
            "_model_module_version": "1.5.0",
            "_model_name": "FloatProgressModel",
            "_view_count": null,
            "_view_module": "@jupyter-widgets/controls",
            "_view_module_version": "1.5.0",
            "_view_name": "ProgressView",
            "bar_style": "success",
            "description": "",
            "description_tooltip": null,
            "layout": "IPY_MODEL_3dbe7307db5748c8a715bdf0549dbff6",
            "max": 929,
            "min": 0,
            "orientation": "horizontal",
            "style": "IPY_MODEL_95b12011d744456fa600fc46f494a4b3",
            "value": 929
          }
        },
        "080638cccd4640e7aa2bb8ddfee017aa": {
          "model_module": "@jupyter-widgets/controls",
          "model_name": "HTMLModel",
          "model_module_version": "1.5.0",
          "state": {
            "_dom_classes": [],
            "_model_module": "@jupyter-widgets/controls",
            "_model_module_version": "1.5.0",
            "_model_name": "HTMLModel",
            "_view_count": null,
            "_view_module": "@jupyter-widgets/controls",
            "_view_module_version": "1.5.0",
            "_view_name": "HTMLView",
            "description": "",
            "description_tooltip": null,
            "layout": "IPY_MODEL_c9f1ae2174f24d38b9ac8e453932c60e",
            "placeholder": "​",
            "style": "IPY_MODEL_1084253b74134145af3b75a3c6fafc5e",
            "value": " 929/929 [00:00&lt;00:00, 29.4kB/s]"
          }
        },
        "dba5ccae134a4a998a870a0e32c029bf": {
          "model_module": "@jupyter-widgets/base",
          "model_name": "LayoutModel",
          "model_module_version": "1.2.0",
          "state": {
            "_model_module": "@jupyter-widgets/base",
            "_model_module_version": "1.2.0",
            "_model_name": "LayoutModel",
            "_view_count": null,
            "_view_module": "@jupyter-widgets/base",
            "_view_module_version": "1.2.0",
            "_view_name": "LayoutView",
            "align_content": null,
            "align_items": null,
            "align_self": null,
            "border": null,
            "bottom": null,
            "display": null,
            "flex": null,
            "flex_flow": null,
            "grid_area": null,
            "grid_auto_columns": null,
            "grid_auto_flow": null,
            "grid_auto_rows": null,
            "grid_column": null,
            "grid_gap": null,
            "grid_row": null,
            "grid_template_areas": null,
            "grid_template_columns": null,
            "grid_template_rows": null,
            "height": null,
            "justify_content": null,
            "justify_items": null,
            "left": null,
            "margin": null,
            "max_height": null,
            "max_width": null,
            "min_height": null,
            "min_width": null,
            "object_fit": null,
            "object_position": null,
            "order": null,
            "overflow": null,
            "overflow_x": null,
            "overflow_y": null,
            "padding": null,
            "right": null,
            "top": null,
            "visibility": null,
            "width": null
          }
        },
        "275b62ab1d5e4b2c963878f651e352ec": {
          "model_module": "@jupyter-widgets/base",
          "model_name": "LayoutModel",
          "model_module_version": "1.2.0",
          "state": {
            "_model_module": "@jupyter-widgets/base",
            "_model_module_version": "1.2.0",
            "_model_name": "LayoutModel",
            "_view_count": null,
            "_view_module": "@jupyter-widgets/base",
            "_view_module_version": "1.2.0",
            "_view_name": "LayoutView",
            "align_content": null,
            "align_items": null,
            "align_self": null,
            "border": null,
            "bottom": null,
            "display": null,
            "flex": null,
            "flex_flow": null,
            "grid_area": null,
            "grid_auto_columns": null,
            "grid_auto_flow": null,
            "grid_auto_rows": null,
            "grid_column": null,
            "grid_gap": null,
            "grid_row": null,
            "grid_template_areas": null,
            "grid_template_columns": null,
            "grid_template_rows": null,
            "height": null,
            "justify_content": null,
            "justify_items": null,
            "left": null,
            "margin": null,
            "max_height": null,
            "max_width": null,
            "min_height": null,
            "min_width": null,
            "object_fit": null,
            "object_position": null,
            "order": null,
            "overflow": null,
            "overflow_x": null,
            "overflow_y": null,
            "padding": null,
            "right": null,
            "top": null,
            "visibility": null,
            "width": null
          }
        },
        "8a237ba461b942279cc0a75d2aab8946": {
          "model_module": "@jupyter-widgets/controls",
          "model_name": "DescriptionStyleModel",
          "model_module_version": "1.5.0",
          "state": {
            "_model_module": "@jupyter-widgets/controls",
            "_model_module_version": "1.5.0",
            "_model_name": "DescriptionStyleModel",
            "_view_count": null,
            "_view_module": "@jupyter-widgets/base",
            "_view_module_version": "1.2.0",
            "_view_name": "StyleView",
            "description_width": ""
          }
        },
        "3dbe7307db5748c8a715bdf0549dbff6": {
          "model_module": "@jupyter-widgets/base",
          "model_name": "LayoutModel",
          "model_module_version": "1.2.0",
          "state": {
            "_model_module": "@jupyter-widgets/base",
            "_model_module_version": "1.2.0",
            "_model_name": "LayoutModel",
            "_view_count": null,
            "_view_module": "@jupyter-widgets/base",
            "_view_module_version": "1.2.0",
            "_view_name": "LayoutView",
            "align_content": null,
            "align_items": null,
            "align_self": null,
            "border": null,
            "bottom": null,
            "display": null,
            "flex": null,
            "flex_flow": null,
            "grid_area": null,
            "grid_auto_columns": null,
            "grid_auto_flow": null,
            "grid_auto_rows": null,
            "grid_column": null,
            "grid_gap": null,
            "grid_row": null,
            "grid_template_areas": null,
            "grid_template_columns": null,
            "grid_template_rows": null,
            "height": null,
            "justify_content": null,
            "justify_items": null,
            "left": null,
            "margin": null,
            "max_height": null,
            "max_width": null,
            "min_height": null,
            "min_width": null,
            "object_fit": null,
            "object_position": null,
            "order": null,
            "overflow": null,
            "overflow_x": null,
            "overflow_y": null,
            "padding": null,
            "right": null,
            "top": null,
            "visibility": null,
            "width": null
          }
        },
        "95b12011d744456fa600fc46f494a4b3": {
          "model_module": "@jupyter-widgets/controls",
          "model_name": "ProgressStyleModel",
          "model_module_version": "1.5.0",
          "state": {
            "_model_module": "@jupyter-widgets/controls",
            "_model_module_version": "1.5.0",
            "_model_name": "ProgressStyleModel",
            "_view_count": null,
            "_view_module": "@jupyter-widgets/base",
            "_view_module_version": "1.2.0",
            "_view_name": "StyleView",
            "bar_color": null,
            "description_width": ""
          }
        },
        "c9f1ae2174f24d38b9ac8e453932c60e": {
          "model_module": "@jupyter-widgets/base",
          "model_name": "LayoutModel",
          "model_module_version": "1.2.0",
          "state": {
            "_model_module": "@jupyter-widgets/base",
            "_model_module_version": "1.2.0",
            "_model_name": "LayoutModel",
            "_view_count": null,
            "_view_module": "@jupyter-widgets/base",
            "_view_module_version": "1.2.0",
            "_view_name": "LayoutView",
            "align_content": null,
            "align_items": null,
            "align_self": null,
            "border": null,
            "bottom": null,
            "display": null,
            "flex": null,
            "flex_flow": null,
            "grid_area": null,
            "grid_auto_columns": null,
            "grid_auto_flow": null,
            "grid_auto_rows": null,
            "grid_column": null,
            "grid_gap": null,
            "grid_row": null,
            "grid_template_areas": null,
            "grid_template_columns": null,
            "grid_template_rows": null,
            "height": null,
            "justify_content": null,
            "justify_items": null,
            "left": null,
            "margin": null,
            "max_height": null,
            "max_width": null,
            "min_height": null,
            "min_width": null,
            "object_fit": null,
            "object_position": null,
            "order": null,
            "overflow": null,
            "overflow_x": null,
            "overflow_y": null,
            "padding": null,
            "right": null,
            "top": null,
            "visibility": null,
            "width": null
          }
        },
        "1084253b74134145af3b75a3c6fafc5e": {
          "model_module": "@jupyter-widgets/controls",
          "model_name": "DescriptionStyleModel",
          "model_module_version": "1.5.0",
          "state": {
            "_model_module": "@jupyter-widgets/controls",
            "_model_module_version": "1.5.0",
            "_model_name": "DescriptionStyleModel",
            "_view_count": null,
            "_view_module": "@jupyter-widgets/base",
            "_view_module_version": "1.2.0",
            "_view_name": "StyleView",
            "description_width": ""
          }
        },
        "e5778c0514e34897b9b10dc9866eb3b4": {
          "model_module": "@jupyter-widgets/controls",
          "model_name": "HBoxModel",
          "model_module_version": "1.5.0",
          "state": {
            "_dom_classes": [],
            "_model_module": "@jupyter-widgets/controls",
            "_model_module_version": "1.5.0",
            "_model_name": "HBoxModel",
            "_view_count": null,
            "_view_module": "@jupyter-widgets/controls",
            "_view_module_version": "1.5.0",
            "_view_name": "HBoxView",
            "box_style": "",
            "children": [
              "IPY_MODEL_9c390a5c02d045d985d0faa214b7f203",
              "IPY_MODEL_d7b3b688b19c4756b9077a02ecf8215b",
              "IPY_MODEL_81c295010ff543f3a01708757ba82420"
            ],
            "layout": "IPY_MODEL_24c416b2ad4745bea6bd360501d57b2f"
          }
        },
        "9c390a5c02d045d985d0faa214b7f203": {
          "model_module": "@jupyter-widgets/controls",
          "model_name": "HTMLModel",
          "model_module_version": "1.5.0",
          "state": {
            "_dom_classes": [],
            "_model_module": "@jupyter-widgets/controls",
            "_model_module_version": "1.5.0",
            "_model_name": "HTMLModel",
            "_view_count": null,
            "_view_module": "@jupyter-widgets/controls",
            "_view_module_version": "1.5.0",
            "_view_name": "HTMLView",
            "description": "",
            "description_tooltip": null,
            "layout": "IPY_MODEL_17b02648324647dc893af9d941470237",
            "placeholder": "​",
            "style": "IPY_MODEL_2f0a43b76c924bfd912745e772874fc0",
            "value": "vocab.json: 100%"
          }
        },
        "d7b3b688b19c4756b9077a02ecf8215b": {
          "model_module": "@jupyter-widgets/controls",
          "model_name": "FloatProgressModel",
          "model_module_version": "1.5.0",
          "state": {
            "_dom_classes": [],
            "_model_module": "@jupyter-widgets/controls",
            "_model_module_version": "1.5.0",
            "_model_name": "FloatProgressModel",
            "_view_count": null,
            "_view_module": "@jupyter-widgets/controls",
            "_view_module_version": "1.5.0",
            "_view_name": "ProgressView",
            "bar_style": "success",
            "description": "",
            "description_tooltip": null,
            "layout": "IPY_MODEL_39ea9c7e80034edeacd29dcfb940e660",
            "max": 898822,
            "min": 0,
            "orientation": "horizontal",
            "style": "IPY_MODEL_2cd7dd9188a4427ab195cf7f0370f187",
            "value": 898822
          }
        },
        "81c295010ff543f3a01708757ba82420": {
          "model_module": "@jupyter-widgets/controls",
          "model_name": "HTMLModel",
          "model_module_version": "1.5.0",
          "state": {
            "_dom_classes": [],
            "_model_module": "@jupyter-widgets/controls",
            "_model_module_version": "1.5.0",
            "_model_name": "HTMLModel",
            "_view_count": null,
            "_view_module": "@jupyter-widgets/controls",
            "_view_module_version": "1.5.0",
            "_view_name": "HTMLView",
            "description": "",
            "description_tooltip": null,
            "layout": "IPY_MODEL_95a75141afc14df499fafb0d7779f4d3",
            "placeholder": "​",
            "style": "IPY_MODEL_30da31524c8d4aedb70c45e64775a731",
            "value": " 899k/899k [00:00&lt;00:00, 2.76MB/s]"
          }
        },
        "24c416b2ad4745bea6bd360501d57b2f": {
          "model_module": "@jupyter-widgets/base",
          "model_name": "LayoutModel",
          "model_module_version": "1.2.0",
          "state": {
            "_model_module": "@jupyter-widgets/base",
            "_model_module_version": "1.2.0",
            "_model_name": "LayoutModel",
            "_view_count": null,
            "_view_module": "@jupyter-widgets/base",
            "_view_module_version": "1.2.0",
            "_view_name": "LayoutView",
            "align_content": null,
            "align_items": null,
            "align_self": null,
            "border": null,
            "bottom": null,
            "display": null,
            "flex": null,
            "flex_flow": null,
            "grid_area": null,
            "grid_auto_columns": null,
            "grid_auto_flow": null,
            "grid_auto_rows": null,
            "grid_column": null,
            "grid_gap": null,
            "grid_row": null,
            "grid_template_areas": null,
            "grid_template_columns": null,
            "grid_template_rows": null,
            "height": null,
            "justify_content": null,
            "justify_items": null,
            "left": null,
            "margin": null,
            "max_height": null,
            "max_width": null,
            "min_height": null,
            "min_width": null,
            "object_fit": null,
            "object_position": null,
            "order": null,
            "overflow": null,
            "overflow_x": null,
            "overflow_y": null,
            "padding": null,
            "right": null,
            "top": null,
            "visibility": null,
            "width": null
          }
        },
        "17b02648324647dc893af9d941470237": {
          "model_module": "@jupyter-widgets/base",
          "model_name": "LayoutModel",
          "model_module_version": "1.2.0",
          "state": {
            "_model_module": "@jupyter-widgets/base",
            "_model_module_version": "1.2.0",
            "_model_name": "LayoutModel",
            "_view_count": null,
            "_view_module": "@jupyter-widgets/base",
            "_view_module_version": "1.2.0",
            "_view_name": "LayoutView",
            "align_content": null,
            "align_items": null,
            "align_self": null,
            "border": null,
            "bottom": null,
            "display": null,
            "flex": null,
            "flex_flow": null,
            "grid_area": null,
            "grid_auto_columns": null,
            "grid_auto_flow": null,
            "grid_auto_rows": null,
            "grid_column": null,
            "grid_gap": null,
            "grid_row": null,
            "grid_template_areas": null,
            "grid_template_columns": null,
            "grid_template_rows": null,
            "height": null,
            "justify_content": null,
            "justify_items": null,
            "left": null,
            "margin": null,
            "max_height": null,
            "max_width": null,
            "min_height": null,
            "min_width": null,
            "object_fit": null,
            "object_position": null,
            "order": null,
            "overflow": null,
            "overflow_x": null,
            "overflow_y": null,
            "padding": null,
            "right": null,
            "top": null,
            "visibility": null,
            "width": null
          }
        },
        "2f0a43b76c924bfd912745e772874fc0": {
          "model_module": "@jupyter-widgets/controls",
          "model_name": "DescriptionStyleModel",
          "model_module_version": "1.5.0",
          "state": {
            "_model_module": "@jupyter-widgets/controls",
            "_model_module_version": "1.5.0",
            "_model_name": "DescriptionStyleModel",
            "_view_count": null,
            "_view_module": "@jupyter-widgets/base",
            "_view_module_version": "1.2.0",
            "_view_name": "StyleView",
            "description_width": ""
          }
        },
        "39ea9c7e80034edeacd29dcfb940e660": {
          "model_module": "@jupyter-widgets/base",
          "model_name": "LayoutModel",
          "model_module_version": "1.2.0",
          "state": {
            "_model_module": "@jupyter-widgets/base",
            "_model_module_version": "1.2.0",
            "_model_name": "LayoutModel",
            "_view_count": null,
            "_view_module": "@jupyter-widgets/base",
            "_view_module_version": "1.2.0",
            "_view_name": "LayoutView",
            "align_content": null,
            "align_items": null,
            "align_self": null,
            "border": null,
            "bottom": null,
            "display": null,
            "flex": null,
            "flex_flow": null,
            "grid_area": null,
            "grid_auto_columns": null,
            "grid_auto_flow": null,
            "grid_auto_rows": null,
            "grid_column": null,
            "grid_gap": null,
            "grid_row": null,
            "grid_template_areas": null,
            "grid_template_columns": null,
            "grid_template_rows": null,
            "height": null,
            "justify_content": null,
            "justify_items": null,
            "left": null,
            "margin": null,
            "max_height": null,
            "max_width": null,
            "min_height": null,
            "min_width": null,
            "object_fit": null,
            "object_position": null,
            "order": null,
            "overflow": null,
            "overflow_x": null,
            "overflow_y": null,
            "padding": null,
            "right": null,
            "top": null,
            "visibility": null,
            "width": null
          }
        },
        "2cd7dd9188a4427ab195cf7f0370f187": {
          "model_module": "@jupyter-widgets/controls",
          "model_name": "ProgressStyleModel",
          "model_module_version": "1.5.0",
          "state": {
            "_model_module": "@jupyter-widgets/controls",
            "_model_module_version": "1.5.0",
            "_model_name": "ProgressStyleModel",
            "_view_count": null,
            "_view_module": "@jupyter-widgets/base",
            "_view_module_version": "1.2.0",
            "_view_name": "StyleView",
            "bar_color": null,
            "description_width": ""
          }
        },
        "95a75141afc14df499fafb0d7779f4d3": {
          "model_module": "@jupyter-widgets/base",
          "model_name": "LayoutModel",
          "model_module_version": "1.2.0",
          "state": {
            "_model_module": "@jupyter-widgets/base",
            "_model_module_version": "1.2.0",
            "_model_name": "LayoutModel",
            "_view_count": null,
            "_view_module": "@jupyter-widgets/base",
            "_view_module_version": "1.2.0",
            "_view_name": "LayoutView",
            "align_content": null,
            "align_items": null,
            "align_self": null,
            "border": null,
            "bottom": null,
            "display": null,
            "flex": null,
            "flex_flow": null,
            "grid_area": null,
            "grid_auto_columns": null,
            "grid_auto_flow": null,
            "grid_auto_rows": null,
            "grid_column": null,
            "grid_gap": null,
            "grid_row": null,
            "grid_template_areas": null,
            "grid_template_columns": null,
            "grid_template_rows": null,
            "height": null,
            "justify_content": null,
            "justify_items": null,
            "left": null,
            "margin": null,
            "max_height": null,
            "max_width": null,
            "min_height": null,
            "min_width": null,
            "object_fit": null,
            "object_position": null,
            "order": null,
            "overflow": null,
            "overflow_x": null,
            "overflow_y": null,
            "padding": null,
            "right": null,
            "top": null,
            "visibility": null,
            "width": null
          }
        },
        "30da31524c8d4aedb70c45e64775a731": {
          "model_module": "@jupyter-widgets/controls",
          "model_name": "DescriptionStyleModel",
          "model_module_version": "1.5.0",
          "state": {
            "_model_module": "@jupyter-widgets/controls",
            "_model_module_version": "1.5.0",
            "_model_name": "DescriptionStyleModel",
            "_view_count": null,
            "_view_module": "@jupyter-widgets/base",
            "_view_module_version": "1.2.0",
            "_view_name": "StyleView",
            "description_width": ""
          }
        },
        "013bcd63840943cda7f5a6aa1433ec9b": {
          "model_module": "@jupyter-widgets/controls",
          "model_name": "HBoxModel",
          "model_module_version": "1.5.0",
          "state": {
            "_dom_classes": [],
            "_model_module": "@jupyter-widgets/controls",
            "_model_module_version": "1.5.0",
            "_model_name": "HBoxModel",
            "_view_count": null,
            "_view_module": "@jupyter-widgets/controls",
            "_view_module_version": "1.5.0",
            "_view_name": "HBoxView",
            "box_style": "",
            "children": [
              "IPY_MODEL_bc431357ddc24f2cba8c2f91b75b663a",
              "IPY_MODEL_5a2f0b8182b24c10b819f3c7d0ad8b5f",
              "IPY_MODEL_e74642f4f6714d7a99cce096d1f21bbc"
            ],
            "layout": "IPY_MODEL_a843a33d522748829252dea6735c44a6"
          }
        },
        "bc431357ddc24f2cba8c2f91b75b663a": {
          "model_module": "@jupyter-widgets/controls",
          "model_name": "HTMLModel",
          "model_module_version": "1.5.0",
          "state": {
            "_dom_classes": [],
            "_model_module": "@jupyter-widgets/controls",
            "_model_module_version": "1.5.0",
            "_model_name": "HTMLModel",
            "_view_count": null,
            "_view_module": "@jupyter-widgets/controls",
            "_view_module_version": "1.5.0",
            "_view_name": "HTMLView",
            "description": "",
            "description_tooltip": null,
            "layout": "IPY_MODEL_acfc396685644aa7aa7ef322f18da82c",
            "placeholder": "​",
            "style": "IPY_MODEL_1c2e0be2757141ecba3061e924327c42",
            "value": "merges.txt: 100%"
          }
        },
        "5a2f0b8182b24c10b819f3c7d0ad8b5f": {
          "model_module": "@jupyter-widgets/controls",
          "model_name": "FloatProgressModel",
          "model_module_version": "1.5.0",
          "state": {
            "_dom_classes": [],
            "_model_module": "@jupyter-widgets/controls",
            "_model_module_version": "1.5.0",
            "_model_name": "FloatProgressModel",
            "_view_count": null,
            "_view_module": "@jupyter-widgets/controls",
            "_view_module_version": "1.5.0",
            "_view_name": "ProgressView",
            "bar_style": "success",
            "description": "",
            "description_tooltip": null,
            "layout": "IPY_MODEL_e1c95f5911274051a85c6046b550454c",
            "max": 456318,
            "min": 0,
            "orientation": "horizontal",
            "style": "IPY_MODEL_d49033b907e34da98908d265c7b2cc15",
            "value": 456318
          }
        },
        "e74642f4f6714d7a99cce096d1f21bbc": {
          "model_module": "@jupyter-widgets/controls",
          "model_name": "HTMLModel",
          "model_module_version": "1.5.0",
          "state": {
            "_dom_classes": [],
            "_model_module": "@jupyter-widgets/controls",
            "_model_module_version": "1.5.0",
            "_model_name": "HTMLModel",
            "_view_count": null,
            "_view_module": "@jupyter-widgets/controls",
            "_view_module_version": "1.5.0",
            "_view_name": "HTMLView",
            "description": "",
            "description_tooltip": null,
            "layout": "IPY_MODEL_caceb6dcae3e400cb34021319c78663a",
            "placeholder": "​",
            "style": "IPY_MODEL_288a6c2b50d24315a5edc065c47f6799",
            "value": " 456k/456k [00:00&lt;00:00, 1.86MB/s]"
          }
        },
        "a843a33d522748829252dea6735c44a6": {
          "model_module": "@jupyter-widgets/base",
          "model_name": "LayoutModel",
          "model_module_version": "1.2.0",
          "state": {
            "_model_module": "@jupyter-widgets/base",
            "_model_module_version": "1.2.0",
            "_model_name": "LayoutModel",
            "_view_count": null,
            "_view_module": "@jupyter-widgets/base",
            "_view_module_version": "1.2.0",
            "_view_name": "LayoutView",
            "align_content": null,
            "align_items": null,
            "align_self": null,
            "border": null,
            "bottom": null,
            "display": null,
            "flex": null,
            "flex_flow": null,
            "grid_area": null,
            "grid_auto_columns": null,
            "grid_auto_flow": null,
            "grid_auto_rows": null,
            "grid_column": null,
            "grid_gap": null,
            "grid_row": null,
            "grid_template_areas": null,
            "grid_template_columns": null,
            "grid_template_rows": null,
            "height": null,
            "justify_content": null,
            "justify_items": null,
            "left": null,
            "margin": null,
            "max_height": null,
            "max_width": null,
            "min_height": null,
            "min_width": null,
            "object_fit": null,
            "object_position": null,
            "order": null,
            "overflow": null,
            "overflow_x": null,
            "overflow_y": null,
            "padding": null,
            "right": null,
            "top": null,
            "visibility": null,
            "width": null
          }
        },
        "acfc396685644aa7aa7ef322f18da82c": {
          "model_module": "@jupyter-widgets/base",
          "model_name": "LayoutModel",
          "model_module_version": "1.2.0",
          "state": {
            "_model_module": "@jupyter-widgets/base",
            "_model_module_version": "1.2.0",
            "_model_name": "LayoutModel",
            "_view_count": null,
            "_view_module": "@jupyter-widgets/base",
            "_view_module_version": "1.2.0",
            "_view_name": "LayoutView",
            "align_content": null,
            "align_items": null,
            "align_self": null,
            "border": null,
            "bottom": null,
            "display": null,
            "flex": null,
            "flex_flow": null,
            "grid_area": null,
            "grid_auto_columns": null,
            "grid_auto_flow": null,
            "grid_auto_rows": null,
            "grid_column": null,
            "grid_gap": null,
            "grid_row": null,
            "grid_template_areas": null,
            "grid_template_columns": null,
            "grid_template_rows": null,
            "height": null,
            "justify_content": null,
            "justify_items": null,
            "left": null,
            "margin": null,
            "max_height": null,
            "max_width": null,
            "min_height": null,
            "min_width": null,
            "object_fit": null,
            "object_position": null,
            "order": null,
            "overflow": null,
            "overflow_x": null,
            "overflow_y": null,
            "padding": null,
            "right": null,
            "top": null,
            "visibility": null,
            "width": null
          }
        },
        "1c2e0be2757141ecba3061e924327c42": {
          "model_module": "@jupyter-widgets/controls",
          "model_name": "DescriptionStyleModel",
          "model_module_version": "1.5.0",
          "state": {
            "_model_module": "@jupyter-widgets/controls",
            "_model_module_version": "1.5.0",
            "_model_name": "DescriptionStyleModel",
            "_view_count": null,
            "_view_module": "@jupyter-widgets/base",
            "_view_module_version": "1.2.0",
            "_view_name": "StyleView",
            "description_width": ""
          }
        },
        "e1c95f5911274051a85c6046b550454c": {
          "model_module": "@jupyter-widgets/base",
          "model_name": "LayoutModel",
          "model_module_version": "1.2.0",
          "state": {
            "_model_module": "@jupyter-widgets/base",
            "_model_module_version": "1.2.0",
            "_model_name": "LayoutModel",
            "_view_count": null,
            "_view_module": "@jupyter-widgets/base",
            "_view_module_version": "1.2.0",
            "_view_name": "LayoutView",
            "align_content": null,
            "align_items": null,
            "align_self": null,
            "border": null,
            "bottom": null,
            "display": null,
            "flex": null,
            "flex_flow": null,
            "grid_area": null,
            "grid_auto_columns": null,
            "grid_auto_flow": null,
            "grid_auto_rows": null,
            "grid_column": null,
            "grid_gap": null,
            "grid_row": null,
            "grid_template_areas": null,
            "grid_template_columns": null,
            "grid_template_rows": null,
            "height": null,
            "justify_content": null,
            "justify_items": null,
            "left": null,
            "margin": null,
            "max_height": null,
            "max_width": null,
            "min_height": null,
            "min_width": null,
            "object_fit": null,
            "object_position": null,
            "order": null,
            "overflow": null,
            "overflow_x": null,
            "overflow_y": null,
            "padding": null,
            "right": null,
            "top": null,
            "visibility": null,
            "width": null
          }
        },
        "d49033b907e34da98908d265c7b2cc15": {
          "model_module": "@jupyter-widgets/controls",
          "model_name": "ProgressStyleModel",
          "model_module_version": "1.5.0",
          "state": {
            "_model_module": "@jupyter-widgets/controls",
            "_model_module_version": "1.5.0",
            "_model_name": "ProgressStyleModel",
            "_view_count": null,
            "_view_module": "@jupyter-widgets/base",
            "_view_module_version": "1.2.0",
            "_view_name": "StyleView",
            "bar_color": null,
            "description_width": ""
          }
        },
        "caceb6dcae3e400cb34021319c78663a": {
          "model_module": "@jupyter-widgets/base",
          "model_name": "LayoutModel",
          "model_module_version": "1.2.0",
          "state": {
            "_model_module": "@jupyter-widgets/base",
            "_model_module_version": "1.2.0",
            "_model_name": "LayoutModel",
            "_view_count": null,
            "_view_module": "@jupyter-widgets/base",
            "_view_module_version": "1.2.0",
            "_view_name": "LayoutView",
            "align_content": null,
            "align_items": null,
            "align_self": null,
            "border": null,
            "bottom": null,
            "display": null,
            "flex": null,
            "flex_flow": null,
            "grid_area": null,
            "grid_auto_columns": null,
            "grid_auto_flow": null,
            "grid_auto_rows": null,
            "grid_column": null,
            "grid_gap": null,
            "grid_row": null,
            "grid_template_areas": null,
            "grid_template_columns": null,
            "grid_template_rows": null,
            "height": null,
            "justify_content": null,
            "justify_items": null,
            "left": null,
            "margin": null,
            "max_height": null,
            "max_width": null,
            "min_height": null,
            "min_width": null,
            "object_fit": null,
            "object_position": null,
            "order": null,
            "overflow": null,
            "overflow_x": null,
            "overflow_y": null,
            "padding": null,
            "right": null,
            "top": null,
            "visibility": null,
            "width": null
          }
        },
        "288a6c2b50d24315a5edc065c47f6799": {
          "model_module": "@jupyter-widgets/controls",
          "model_name": "DescriptionStyleModel",
          "model_module_version": "1.5.0",
          "state": {
            "_model_module": "@jupyter-widgets/controls",
            "_model_module_version": "1.5.0",
            "_model_name": "DescriptionStyleModel",
            "_view_count": null,
            "_view_module": "@jupyter-widgets/base",
            "_view_module_version": "1.2.0",
            "_view_name": "StyleView",
            "description_width": ""
          }
        },
        "46099226c8d2472a83ca8e7d0a2af56a": {
          "model_module": "@jupyter-widgets/controls",
          "model_name": "HBoxModel",
          "model_module_version": "1.5.0",
          "state": {
            "_dom_classes": [],
            "_model_module": "@jupyter-widgets/controls",
            "_model_module_version": "1.5.0",
            "_model_name": "HBoxModel",
            "_view_count": null,
            "_view_module": "@jupyter-widgets/controls",
            "_view_module_version": "1.5.0",
            "_view_name": "HBoxView",
            "box_style": "",
            "children": [
              "IPY_MODEL_c4392c2b8c3b4395b799069f05feb426",
              "IPY_MODEL_dace64476d8c450fbc3babf0cb892eab",
              "IPY_MODEL_986005212c1449e68f7d967088124102"
            ],
            "layout": "IPY_MODEL_4d33b258c60247bba1facdac8c496313"
          }
        },
        "c4392c2b8c3b4395b799069f05feb426": {
          "model_module": "@jupyter-widgets/controls",
          "model_name": "HTMLModel",
          "model_module_version": "1.5.0",
          "state": {
            "_dom_classes": [],
            "_model_module": "@jupyter-widgets/controls",
            "_model_module_version": "1.5.0",
            "_model_name": "HTMLModel",
            "_view_count": null,
            "_view_module": "@jupyter-widgets/controls",
            "_view_module_version": "1.5.0",
            "_view_name": "HTMLView",
            "description": "",
            "description_tooltip": null,
            "layout": "IPY_MODEL_e35a30e3efd3460d89f9f1e4b8298ed9",
            "placeholder": "​",
            "style": "IPY_MODEL_4a681681a7f440d28eb69a134cbea2a0",
            "value": "special_tokens_map.json: 100%"
          }
        },
        "dace64476d8c450fbc3babf0cb892eab": {
          "model_module": "@jupyter-widgets/controls",
          "model_name": "FloatProgressModel",
          "model_module_version": "1.5.0",
          "state": {
            "_dom_classes": [],
            "_model_module": "@jupyter-widgets/controls",
            "_model_module_version": "1.5.0",
            "_model_name": "FloatProgressModel",
            "_view_count": null,
            "_view_module": "@jupyter-widgets/controls",
            "_view_module_version": "1.5.0",
            "_view_name": "ProgressView",
            "bar_style": "success",
            "description": "",
            "description_tooltip": null,
            "layout": "IPY_MODEL_b699e4eedfec442d84f9b7e7e5d3d75d",
            "max": 239,
            "min": 0,
            "orientation": "horizontal",
            "style": "IPY_MODEL_d2013a9b9054427a9a6d02794e746d31",
            "value": 239
          }
        },
        "986005212c1449e68f7d967088124102": {
          "model_module": "@jupyter-widgets/controls",
          "model_name": "HTMLModel",
          "model_module_version": "1.5.0",
          "state": {
            "_dom_classes": [],
            "_model_module": "@jupyter-widgets/controls",
            "_model_module_version": "1.5.0",
            "_model_name": "HTMLModel",
            "_view_count": null,
            "_view_module": "@jupyter-widgets/controls",
            "_view_module_version": "1.5.0",
            "_view_name": "HTMLView",
            "description": "",
            "description_tooltip": null,
            "layout": "IPY_MODEL_01bdf081ebcc4b32a1504c16678cd0d2",
            "placeholder": "​",
            "style": "IPY_MODEL_b608c09bfa714d82953d40d4acb38aed",
            "value": " 239/239 [00:00&lt;00:00, 9.05kB/s]"
          }
        },
        "4d33b258c60247bba1facdac8c496313": {
          "model_module": "@jupyter-widgets/base",
          "model_name": "LayoutModel",
          "model_module_version": "1.2.0",
          "state": {
            "_model_module": "@jupyter-widgets/base",
            "_model_module_version": "1.2.0",
            "_model_name": "LayoutModel",
            "_view_count": null,
            "_view_module": "@jupyter-widgets/base",
            "_view_module_version": "1.2.0",
            "_view_name": "LayoutView",
            "align_content": null,
            "align_items": null,
            "align_self": null,
            "border": null,
            "bottom": null,
            "display": null,
            "flex": null,
            "flex_flow": null,
            "grid_area": null,
            "grid_auto_columns": null,
            "grid_auto_flow": null,
            "grid_auto_rows": null,
            "grid_column": null,
            "grid_gap": null,
            "grid_row": null,
            "grid_template_areas": null,
            "grid_template_columns": null,
            "grid_template_rows": null,
            "height": null,
            "justify_content": null,
            "justify_items": null,
            "left": null,
            "margin": null,
            "max_height": null,
            "max_width": null,
            "min_height": null,
            "min_width": null,
            "object_fit": null,
            "object_position": null,
            "order": null,
            "overflow": null,
            "overflow_x": null,
            "overflow_y": null,
            "padding": null,
            "right": null,
            "top": null,
            "visibility": null,
            "width": null
          }
        },
        "e35a30e3efd3460d89f9f1e4b8298ed9": {
          "model_module": "@jupyter-widgets/base",
          "model_name": "LayoutModel",
          "model_module_version": "1.2.0",
          "state": {
            "_model_module": "@jupyter-widgets/base",
            "_model_module_version": "1.2.0",
            "_model_name": "LayoutModel",
            "_view_count": null,
            "_view_module": "@jupyter-widgets/base",
            "_view_module_version": "1.2.0",
            "_view_name": "LayoutView",
            "align_content": null,
            "align_items": null,
            "align_self": null,
            "border": null,
            "bottom": null,
            "display": null,
            "flex": null,
            "flex_flow": null,
            "grid_area": null,
            "grid_auto_columns": null,
            "grid_auto_flow": null,
            "grid_auto_rows": null,
            "grid_column": null,
            "grid_gap": null,
            "grid_row": null,
            "grid_template_areas": null,
            "grid_template_columns": null,
            "grid_template_rows": null,
            "height": null,
            "justify_content": null,
            "justify_items": null,
            "left": null,
            "margin": null,
            "max_height": null,
            "max_width": null,
            "min_height": null,
            "min_width": null,
            "object_fit": null,
            "object_position": null,
            "order": null,
            "overflow": null,
            "overflow_x": null,
            "overflow_y": null,
            "padding": null,
            "right": null,
            "top": null,
            "visibility": null,
            "width": null
          }
        },
        "4a681681a7f440d28eb69a134cbea2a0": {
          "model_module": "@jupyter-widgets/controls",
          "model_name": "DescriptionStyleModel",
          "model_module_version": "1.5.0",
          "state": {
            "_model_module": "@jupyter-widgets/controls",
            "_model_module_version": "1.5.0",
            "_model_name": "DescriptionStyleModel",
            "_view_count": null,
            "_view_module": "@jupyter-widgets/base",
            "_view_module_version": "1.2.0",
            "_view_name": "StyleView",
            "description_width": ""
          }
        },
        "b699e4eedfec442d84f9b7e7e5d3d75d": {
          "model_module": "@jupyter-widgets/base",
          "model_name": "LayoutModel",
          "model_module_version": "1.2.0",
          "state": {
            "_model_module": "@jupyter-widgets/base",
            "_model_module_version": "1.2.0",
            "_model_name": "LayoutModel",
            "_view_count": null,
            "_view_module": "@jupyter-widgets/base",
            "_view_module_version": "1.2.0",
            "_view_name": "LayoutView",
            "align_content": null,
            "align_items": null,
            "align_self": null,
            "border": null,
            "bottom": null,
            "display": null,
            "flex": null,
            "flex_flow": null,
            "grid_area": null,
            "grid_auto_columns": null,
            "grid_auto_flow": null,
            "grid_auto_rows": null,
            "grid_column": null,
            "grid_gap": null,
            "grid_row": null,
            "grid_template_areas": null,
            "grid_template_columns": null,
            "grid_template_rows": null,
            "height": null,
            "justify_content": null,
            "justify_items": null,
            "left": null,
            "margin": null,
            "max_height": null,
            "max_width": null,
            "min_height": null,
            "min_width": null,
            "object_fit": null,
            "object_position": null,
            "order": null,
            "overflow": null,
            "overflow_x": null,
            "overflow_y": null,
            "padding": null,
            "right": null,
            "top": null,
            "visibility": null,
            "width": null
          }
        },
        "d2013a9b9054427a9a6d02794e746d31": {
          "model_module": "@jupyter-widgets/controls",
          "model_name": "ProgressStyleModel",
          "model_module_version": "1.5.0",
          "state": {
            "_model_module": "@jupyter-widgets/controls",
            "_model_module_version": "1.5.0",
            "_model_name": "ProgressStyleModel",
            "_view_count": null,
            "_view_module": "@jupyter-widgets/base",
            "_view_module_version": "1.2.0",
            "_view_name": "StyleView",
            "bar_color": null,
            "description_width": ""
          }
        },
        "01bdf081ebcc4b32a1504c16678cd0d2": {
          "model_module": "@jupyter-widgets/base",
          "model_name": "LayoutModel",
          "model_module_version": "1.2.0",
          "state": {
            "_model_module": "@jupyter-widgets/base",
            "_model_module_version": "1.2.0",
            "_model_name": "LayoutModel",
            "_view_count": null,
            "_view_module": "@jupyter-widgets/base",
            "_view_module_version": "1.2.0",
            "_view_name": "LayoutView",
            "align_content": null,
            "align_items": null,
            "align_self": null,
            "border": null,
            "bottom": null,
            "display": null,
            "flex": null,
            "flex_flow": null,
            "grid_area": null,
            "grid_auto_columns": null,
            "grid_auto_flow": null,
            "grid_auto_rows": null,
            "grid_column": null,
            "grid_gap": null,
            "grid_row": null,
            "grid_template_areas": null,
            "grid_template_columns": null,
            "grid_template_rows": null,
            "height": null,
            "justify_content": null,
            "justify_items": null,
            "left": null,
            "margin": null,
            "max_height": null,
            "max_width": null,
            "min_height": null,
            "min_width": null,
            "object_fit": null,
            "object_position": null,
            "order": null,
            "overflow": null,
            "overflow_x": null,
            "overflow_y": null,
            "padding": null,
            "right": null,
            "top": null,
            "visibility": null,
            "width": null
          }
        },
        "b608c09bfa714d82953d40d4acb38aed": {
          "model_module": "@jupyter-widgets/controls",
          "model_name": "DescriptionStyleModel",
          "model_module_version": "1.5.0",
          "state": {
            "_model_module": "@jupyter-widgets/controls",
            "_model_module_version": "1.5.0",
            "_model_name": "DescriptionStyleModel",
            "_view_count": null,
            "_view_module": "@jupyter-widgets/base",
            "_view_module_version": "1.2.0",
            "_view_name": "StyleView",
            "description_width": ""
          }
        },
        "e9786999edde474492559e8c4ef19730": {
          "model_module": "@jupyter-widgets/controls",
          "model_name": "HBoxModel",
          "model_module_version": "1.5.0",
          "state": {
            "_dom_classes": [],
            "_model_module": "@jupyter-widgets/controls",
            "_model_module_version": "1.5.0",
            "_model_name": "HBoxModel",
            "_view_count": null,
            "_view_module": "@jupyter-widgets/controls",
            "_view_module_version": "1.5.0",
            "_view_name": "HBoxView",
            "box_style": "",
            "children": [
              "IPY_MODEL_2ebf2b7cf83b4c6993416b0b3f2f5452",
              "IPY_MODEL_5c9ff670cf754513b272e568ee44babb",
              "IPY_MODEL_2be0951e218e45f781399a7c8f3dc638"
            ],
            "layout": "IPY_MODEL_b558e4c1e4bf421fbaed54c91e97a3b8"
          }
        },
        "2ebf2b7cf83b4c6993416b0b3f2f5452": {
          "model_module": "@jupyter-widgets/controls",
          "model_name": "HTMLModel",
          "model_module_version": "1.5.0",
          "state": {
            "_dom_classes": [],
            "_model_module": "@jupyter-widgets/controls",
            "_model_module_version": "1.5.0",
            "_model_name": "HTMLModel",
            "_view_count": null,
            "_view_module": "@jupyter-widgets/controls",
            "_view_module_version": "1.5.0",
            "_view_name": "HTMLView",
            "description": "",
            "description_tooltip": null,
            "layout": "IPY_MODEL_e361a3abd74a46a8bb6bd575c24db626",
            "placeholder": "​",
            "style": "IPY_MODEL_a85244eae2ea422fbc15c0a98ca08226",
            "value": "tf_model.h5: 100%"
          }
        },
        "5c9ff670cf754513b272e568ee44babb": {
          "model_module": "@jupyter-widgets/controls",
          "model_name": "FloatProgressModel",
          "model_module_version": "1.5.0",
          "state": {
            "_dom_classes": [],
            "_model_module": "@jupyter-widgets/controls",
            "_model_module_version": "1.5.0",
            "_model_name": "FloatProgressModel",
            "_view_count": null,
            "_view_module": "@jupyter-widgets/controls",
            "_view_module_version": "1.5.0",
            "_view_name": "ProgressView",
            "bar_style": "success",
            "description": "",
            "description_tooltip": null,
            "layout": "IPY_MODEL_ed7429290630460dba10402f53bc16be",
            "max": 498845224,
            "min": 0,
            "orientation": "horizontal",
            "style": "IPY_MODEL_87f5b5b85dbf4d7493c110e8759b08f8",
            "value": 498845224
          }
        },
        "2be0951e218e45f781399a7c8f3dc638": {
          "model_module": "@jupyter-widgets/controls",
          "model_name": "HTMLModel",
          "model_module_version": "1.5.0",
          "state": {
            "_dom_classes": [],
            "_model_module": "@jupyter-widgets/controls",
            "_model_module_version": "1.5.0",
            "_model_name": "HTMLModel",
            "_view_count": null,
            "_view_module": "@jupyter-widgets/controls",
            "_view_module_version": "1.5.0",
            "_view_name": "HTMLView",
            "description": "",
            "description_tooltip": null,
            "layout": "IPY_MODEL_0b4698e450f948e0b09cd1835407fb7e",
            "placeholder": "​",
            "style": "IPY_MODEL_607df118d273443b8815300be944dab0",
            "value": " 499M/499M [00:12&lt;00:00, 43.8MB/s]"
          }
        },
        "b558e4c1e4bf421fbaed54c91e97a3b8": {
          "model_module": "@jupyter-widgets/base",
          "model_name": "LayoutModel",
          "model_module_version": "1.2.0",
          "state": {
            "_model_module": "@jupyter-widgets/base",
            "_model_module_version": "1.2.0",
            "_model_name": "LayoutModel",
            "_view_count": null,
            "_view_module": "@jupyter-widgets/base",
            "_view_module_version": "1.2.0",
            "_view_name": "LayoutView",
            "align_content": null,
            "align_items": null,
            "align_self": null,
            "border": null,
            "bottom": null,
            "display": null,
            "flex": null,
            "flex_flow": null,
            "grid_area": null,
            "grid_auto_columns": null,
            "grid_auto_flow": null,
            "grid_auto_rows": null,
            "grid_column": null,
            "grid_gap": null,
            "grid_row": null,
            "grid_template_areas": null,
            "grid_template_columns": null,
            "grid_template_rows": null,
            "height": null,
            "justify_content": null,
            "justify_items": null,
            "left": null,
            "margin": null,
            "max_height": null,
            "max_width": null,
            "min_height": null,
            "min_width": null,
            "object_fit": null,
            "object_position": null,
            "order": null,
            "overflow": null,
            "overflow_x": null,
            "overflow_y": null,
            "padding": null,
            "right": null,
            "top": null,
            "visibility": null,
            "width": null
          }
        },
        "e361a3abd74a46a8bb6bd575c24db626": {
          "model_module": "@jupyter-widgets/base",
          "model_name": "LayoutModel",
          "model_module_version": "1.2.0",
          "state": {
            "_model_module": "@jupyter-widgets/base",
            "_model_module_version": "1.2.0",
            "_model_name": "LayoutModel",
            "_view_count": null,
            "_view_module": "@jupyter-widgets/base",
            "_view_module_version": "1.2.0",
            "_view_name": "LayoutView",
            "align_content": null,
            "align_items": null,
            "align_self": null,
            "border": null,
            "bottom": null,
            "display": null,
            "flex": null,
            "flex_flow": null,
            "grid_area": null,
            "grid_auto_columns": null,
            "grid_auto_flow": null,
            "grid_auto_rows": null,
            "grid_column": null,
            "grid_gap": null,
            "grid_row": null,
            "grid_template_areas": null,
            "grid_template_columns": null,
            "grid_template_rows": null,
            "height": null,
            "justify_content": null,
            "justify_items": null,
            "left": null,
            "margin": null,
            "max_height": null,
            "max_width": null,
            "min_height": null,
            "min_width": null,
            "object_fit": null,
            "object_position": null,
            "order": null,
            "overflow": null,
            "overflow_x": null,
            "overflow_y": null,
            "padding": null,
            "right": null,
            "top": null,
            "visibility": null,
            "width": null
          }
        },
        "a85244eae2ea422fbc15c0a98ca08226": {
          "model_module": "@jupyter-widgets/controls",
          "model_name": "DescriptionStyleModel",
          "model_module_version": "1.5.0",
          "state": {
            "_model_module": "@jupyter-widgets/controls",
            "_model_module_version": "1.5.0",
            "_model_name": "DescriptionStyleModel",
            "_view_count": null,
            "_view_module": "@jupyter-widgets/base",
            "_view_module_version": "1.2.0",
            "_view_name": "StyleView",
            "description_width": ""
          }
        },
        "ed7429290630460dba10402f53bc16be": {
          "model_module": "@jupyter-widgets/base",
          "model_name": "LayoutModel",
          "model_module_version": "1.2.0",
          "state": {
            "_model_module": "@jupyter-widgets/base",
            "_model_module_version": "1.2.0",
            "_model_name": "LayoutModel",
            "_view_count": null,
            "_view_module": "@jupyter-widgets/base",
            "_view_module_version": "1.2.0",
            "_view_name": "LayoutView",
            "align_content": null,
            "align_items": null,
            "align_self": null,
            "border": null,
            "bottom": null,
            "display": null,
            "flex": null,
            "flex_flow": null,
            "grid_area": null,
            "grid_auto_columns": null,
            "grid_auto_flow": null,
            "grid_auto_rows": null,
            "grid_column": null,
            "grid_gap": null,
            "grid_row": null,
            "grid_template_areas": null,
            "grid_template_columns": null,
            "grid_template_rows": null,
            "height": null,
            "justify_content": null,
            "justify_items": null,
            "left": null,
            "margin": null,
            "max_height": null,
            "max_width": null,
            "min_height": null,
            "min_width": null,
            "object_fit": null,
            "object_position": null,
            "order": null,
            "overflow": null,
            "overflow_x": null,
            "overflow_y": null,
            "padding": null,
            "right": null,
            "top": null,
            "visibility": null,
            "width": null
          }
        },
        "87f5b5b85dbf4d7493c110e8759b08f8": {
          "model_module": "@jupyter-widgets/controls",
          "model_name": "ProgressStyleModel",
          "model_module_version": "1.5.0",
          "state": {
            "_model_module": "@jupyter-widgets/controls",
            "_model_module_version": "1.5.0",
            "_model_name": "ProgressStyleModel",
            "_view_count": null,
            "_view_module": "@jupyter-widgets/base",
            "_view_module_version": "1.2.0",
            "_view_name": "StyleView",
            "bar_color": null,
            "description_width": ""
          }
        },
        "0b4698e450f948e0b09cd1835407fb7e": {
          "model_module": "@jupyter-widgets/base",
          "model_name": "LayoutModel",
          "model_module_version": "1.2.0",
          "state": {
            "_model_module": "@jupyter-widgets/base",
            "_model_module_version": "1.2.0",
            "_model_name": "LayoutModel",
            "_view_count": null,
            "_view_module": "@jupyter-widgets/base",
            "_view_module_version": "1.2.0",
            "_view_name": "LayoutView",
            "align_content": null,
            "align_items": null,
            "align_self": null,
            "border": null,
            "bottom": null,
            "display": null,
            "flex": null,
            "flex_flow": null,
            "grid_area": null,
            "grid_auto_columns": null,
            "grid_auto_flow": null,
            "grid_auto_rows": null,
            "grid_column": null,
            "grid_gap": null,
            "grid_row": null,
            "grid_template_areas": null,
            "grid_template_columns": null,
            "grid_template_rows": null,
            "height": null,
            "justify_content": null,
            "justify_items": null,
            "left": null,
            "margin": null,
            "max_height": null,
            "max_width": null,
            "min_height": null,
            "min_width": null,
            "object_fit": null,
            "object_position": null,
            "order": null,
            "overflow": null,
            "overflow_x": null,
            "overflow_y": null,
            "padding": null,
            "right": null,
            "top": null,
            "visibility": null,
            "width": null
          }
        },
        "607df118d273443b8815300be944dab0": {
          "model_module": "@jupyter-widgets/controls",
          "model_name": "DescriptionStyleModel",
          "model_module_version": "1.5.0",
          "state": {
            "_model_module": "@jupyter-widgets/controls",
            "_model_module_version": "1.5.0",
            "_model_name": "DescriptionStyleModel",
            "_view_count": null,
            "_view_module": "@jupyter-widgets/base",
            "_view_module_version": "1.2.0",
            "_view_name": "StyleView",
            "description_width": ""
          }
        }
      }
    }
  },
  "nbformat": 4,
  "nbformat_minor": 5
}